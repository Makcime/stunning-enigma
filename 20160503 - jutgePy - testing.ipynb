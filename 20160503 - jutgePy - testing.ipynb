{
 "cells": [
  {
   "cell_type": "code",
   "execution_count": 1,
   "metadata": {
    "collapsed": false
   },
   "outputs": [],
   "source": [
    "%matplotlib inline\n",
    "%matplotlib notebook\n",
    "\n",
    "import pandas as pd\n",
    "import numpy as np\n",
    "import matplotlib.pyplot as plt\n",
    "plt.style.use('ggplot')\n",
    "\n",
    "import psycopg2\n",
    "dbname = \"test1\"\n",
    "\n",
    "con = psycopg2.connect(\"dbname=%s\" % dbname)\n",
    "\n",
    "from jutge import * "
   ]
  },
  {
   "cell_type": "markdown",
   "metadata": {},
   "source": [
    "# User selection"
   ]
  },
  {
   "cell_type": "code",
   "execution_count": 2,
   "metadata": {
    "collapsed": false
   },
   "outputs": [
    {
     "name": "stdout",
     "output_type": "stream",
     "text": [
      "72\n"
     ]
    }
   ],
   "source": [
    "# Select users from a specific course as a python list\n",
    "user_list = select_users(con, course_id=\"C00198\")\n",
    "print len(user_list)"
   ]
  },
  {
   "cell_type": "code",
   "execution_count": 3,
   "metadata": {
    "collapsed": false
   },
   "outputs": [
    {
     "name": "stdout",
     "output_type": "stream",
     "text": [
      "72\n"
     ]
    }
   ],
   "source": [
    "# Select users from a specific course as a python pandas dataframe\n",
    "user_df = select_users(con, course_id=\"C00198\", ids_list=False)\n",
    "print user_df.index.size"
   ]
  },
  {
   "cell_type": "code",
   "execution_count": 4,
   "metadata": {
    "collapsed": false
   },
   "outputs": [
    {
     "name": "stdout",
     "output_type": "stream",
     "text": [
      "10514\n"
     ]
    }
   ],
   "source": [
    "# Select every users from the db as a python pandas dataframe\n",
    "everyusers_df = select_users(con, ids_list=False)\n",
    "print everyusers_df.index.size"
   ]
  },
  {
   "cell_type": "markdown",
   "metadata": {},
   "source": [
    "# Problem selection"
   ]
  },
  {
   "cell_type": "code",
   "execution_count": 5,
   "metadata": {
    "collapsed": false
   },
   "outputs": [
    {
     "name": "stdout",
     "output_type": "stream",
     "text": [
      "220\n"
     ]
    }
   ],
   "source": [
    "# Select pbls from a specific course as a python list\n",
    "pbls_list = select_pbls(con, course_id=\"C00198\", )\n",
    "print len(pbls_list)"
   ]
  },
  {
   "cell_type": "code",
   "execution_count": 6,
   "metadata": {
    "collapsed": false
   },
   "outputs": [
    {
     "name": "stdout",
     "output_type": "stream",
     "text": [
      "220\n"
     ]
    }
   ],
   "source": [
    "# Select pbls from a specific course as a python pandas dataframe\n",
    "pbls_df = select_pbls(con, course_id=\"C00198\", ids_list=False)\n",
    "print pbls_df.index.size"
   ]
  },
  {
   "cell_type": "code",
   "execution_count": 7,
   "metadata": {
    "collapsed": false
   },
   "outputs": [
    {
     "name": "stdout",
     "output_type": "stream",
     "text": [
      "1325\n"
     ]
    }
   ],
   "source": [
    "# Select every pbls from the db as a python pandas dataframe\n",
    "everypbls_df = select_pbls(con, ids_list=False)\n",
    "print everypbls_df.index.size"
   ]
  },
  {
   "cell_type": "markdown",
   "metadata": {},
   "source": [
    "# Submission selection"
   ]
  },
  {
   "cell_type": "code",
   "execution_count": 10,
   "metadata": {
    "collapsed": false
   },
   "outputs": [
    {
     "name": "stdout",
     "output_type": "stream",
     "text": [
      "18790\n"
     ]
    }
   ],
   "source": [
    "subs1 = select_submissions(con, course_id='C00198')\n",
    "print subs1.index.size"
   ]
  },
  {
   "cell_type": "code",
   "execution_count": 11,
   "metadata": {
    "collapsed": false
   },
   "outputs": [
    {
     "name": "stdout",
     "output_type": "stream",
     "text": [
      "888105\n"
     ]
    }
   ],
   "source": [
    "usr = select_users(con)\n",
    "subs2 = select_submissions(con, lusr=usr, course_id='C00198')\n",
    "print subs2.index.size"
   ]
  },
  {
   "cell_type": "code",
   "execution_count": 14,
   "metadata": {
    "collapsed": false
   },
   "outputs": [
    {
     "name": "stdout",
     "output_type": "stream",
     "text": [
      "25001\n",
      "1325\n"
     ]
    }
   ],
   "source": [
    "pbls = select_pbls(con)\n",
    "subs3 = select_submissions(con, lpbl=pbls, course_id='C00198')\n",
    "print subs3.index.size\n",
    "print len(pbls)"
   ]
  },
  {
   "cell_type": "code",
   "execution_count": 15,
   "metadata": {
    "collapsed": false
   },
   "outputs": [
    {
     "name": "stdout",
     "output_type": "stream",
     "text": [
      "1394765\n"
     ]
    }
   ],
   "source": [
    "subs4 = select_submissions(con)\n",
    "print subs4.index.size"
   ]
  },
  {
   "cell_type": "code",
   "execution_count": null,
   "metadata": {
    "collapsed": true
   },
   "outputs": [],
   "source": []
  }
 ],
 "metadata": {
  "kernelspec": {
   "display_name": "Python 2",
   "language": "python",
   "name": "python2"
  },
  "language_info": {
   "codemirror_mode": {
    "name": "ipython",
    "version": 2
   },
   "file_extension": ".py",
   "mimetype": "text/x-python",
   "name": "python",
   "nbconvert_exporter": "python",
   "pygments_lexer": "ipython2",
   "version": "2.7.11"
  }
 },
 "nbformat": 4,
 "nbformat_minor": 0
}
