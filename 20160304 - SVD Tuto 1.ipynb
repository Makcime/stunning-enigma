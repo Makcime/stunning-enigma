{
 "cells": [
  {
   "cell_type": "markdown",
   "metadata": {},
   "source": [
    "# Singular Value Decomposition (SVD) Tutorial"
   ]
  },
  {
   "cell_type": "markdown",
   "metadata": {},
   "source": [
    "Tutorial [link](http://www.puffinwarellc.com/index.php/news-and-articles/articles/30-singular-value-decomposition-tutorial.html?showall=1)"
   ]
  },
  {
   "cell_type": "code",
   "execution_count": 120,
   "metadata": {
    "collapsed": true
   },
   "outputs": [],
   "source": [
    "%matplotlib inline\n",
    "import pandas as pd\n",
    "import numpy as np\n",
    "import matplotlib.pyplot as plt\n",
    "plt.style.use('ggplot')\n",
    "import psycopg2\n",
    "\n",
    "con = psycopg2.connect(\"dbname=test1\")"
   ]
  },
  {
   "cell_type": "markdown",
   "metadata": {},
   "source": [
    "When you browse standard web sources like Singular Value Decomposition (SVD) on Wikipedia, you find many equations, but not an intuitive explanation of what it is or how it works. Singular Value Decomposition is a way of factoring matrices into a series of linear approximations that expose the underlying structure of the matrix.\n",
    "\n",
    "SVD is extraordinarily useful and has many applications such as data analysis, signal processing, pattern recognition, image compression, weather prediction, and Latent Semantic Analysis or LSA (also referred to as Latent Semantic Indexing or LSI).\n",
    "\n",
    "# How does SVD work?\n",
    "\n",
    "Suppose Phil, Tiger, and Vijay play together for 9 holes and they each make par on every hole. Their scorecard, which can also be viewed as a (hole x player) matrix might look like this."
   ]
  },
  {
   "cell_type": "code",
   "execution_count": 109,
   "metadata": {
    "collapsed": false
   },
   "outputs": [
    {
     "name": "stdout",
     "output_type": "stream",
     "text": [
      "Holes  Par  Phil  Tiger  Vijay\n",
      "    1    4     4      4      4\n",
      "    2    5     5      5      5\n",
      "    3    3     3      3      3\n",
      "    4    4     4      4      4\n",
      "    5    4     4      4      4\n",
      "    6    4     4      4      4\n",
      "    7    4     4      4      4\n",
      "    8    3     3      3      3\n",
      "    9    5     5      5      5\n"
     ]
    }
   ],
   "source": [
    "col = [\"Holes\",\"Par\",\"Phil\",\"Tiger\",\"Vijay\"]\n",
    "score = np.array([[1,4,4,4,4],\n",
    "[2,5,5,5,5],\n",
    "[3,3,3,3,3],\n",
    "[4,4,4,4,4],\n",
    "[5,4,4,4,4],\n",
    "[6,4,4,4,4],\n",
    "[7,4,4,4,4],\n",
    "[8,3,3,3,3],\n",
    "[9,5,5,5,5]])\n",
    "\n",
    "df = pd.DataFrame(score, columns=col)\n",
    "print df.to_string(index=False)"
   ]
  },
  {
   "cell_type": "markdown",
   "metadata": {},
   "source": [
    "Let's look at the problem of trying to predict what score each player will make on a given hole. One idea is give each hole a HoleDifficulty factor, and each player a PlayerAbility factor. The actual score is predicted by multiplying these two factors together.\n",
    "\n",
    "$PredictedScore = HoleDifficulty * PlayerAbility$\n",
    "\n",
    "For the first attempt, let's make the HoleDifficulty be the par score for the hole, and let's make the player ability equal to 1. So on the first hole, which is par 4, we would expect a player of ability 1 to get a score of 4.\n",
    "\n",
    "$PredictedScore = HoleDifficulty * PlayerAbility = 4 * 1 = 4$\n",
    "\n",
    "For our entire scorecard or matrix, all we have to do is multiply the PlayerAbility (assumed to be 1 for all players) by the HoleDifficulty (ranges from par 3 to par 5) and we can exactly predict all the scores in our example.\n",
    "\n",
    "In fact, this is the one dimensional (1-D) SVD factorization of the scorecard. We can represent our scorecard or matrix as the product of two vectors, the HoleDifficulty vector and the PlayerAbility vector. To predict any score, simply multiply the appropriate HoleDifficulty factor by the appropriate PlayerAbility factor. Following normal vector multiplication rules, we can generate the matrix of scores by multiplying the HoleDifficulty vector by the PlayerAbility vector, according to the following equation."
   ]
  },
  {
   "cell_type": "code",
   "execution_count": 110,
   "metadata": {
    "collapsed": false
   },
   "outputs": [
    {
     "name": "stdout",
     "output_type": "stream",
     "text": [
      "Players scpores\n",
      "===============\n",
      "Phil  Tiger  Vijay\n",
      "   4      4      4\n",
      "   5      5      5\n",
      "   3      3      3\n",
      "   4      4      4\n",
      "   4      4      4\n",
      "   4      4      4\n",
      "   4      4      4\n",
      "   3      3      3\n",
      "   5      5      5\n"
     ]
    }
   ],
   "source": [
    "scores = df[df.columns[2:]]\n",
    "print \"Players scores\"\n",
    "print \"===============\"\n",
    "print scores.to_string(index=False)"
   ]
  },
  {
   "cell_type": "code",
   "execution_count": 111,
   "metadata": {
    "collapsed": false
   },
   "outputs": [
    {
     "name": "stdout",
     "output_type": "stream",
     "text": [
      "HoleDifficulty\n",
      "==============\n",
      "4\n",
      "5\n",
      "3\n",
      "4\n",
      "4\n",
      "4\n",
      "4\n",
      "3\n",
      "5\n"
     ]
    }
   ],
   "source": [
    "HoleDifficulty = df.Par\n",
    "print \"HoleDifficulty\"\n",
    "print \"==============\"\n",
    "print HoleDifficulty.to_string(index=False)"
   ]
  },
  {
   "cell_type": "code",
   "execution_count": 112,
   "metadata": {
    "collapsed": false
   },
   "outputs": [
    {
     "name": "stdout",
     "output_type": "stream",
     "text": [
      "PlayerAbility\n",
      "=============\n",
      "Phil  Tiger  Vijay\n",
      "   1      1      1\n"
     ]
    }
   ],
   "source": [
    "Abilities = np.array([[1,1,1]])\n",
    "PlayerAbility = pd.DataFrame(Abilities, columns=col[-3:])\n",
    "\n",
    "print \"PlayerAbility\"\n",
    "print \"=============\"\n",
    "print PlayerAbility.to_string(index=False)\n"
   ]
  },
  {
   "cell_type": "code",
   "execution_count": 113,
   "metadata": {
    "collapsed": false
   },
   "outputs": [
    {
     "name": "stdout",
     "output_type": "stream",
     "text": [
      "HoleDifficultyFact\t =  148\n",
      "PlayerAbilityFact\t =  3\n",
      "ScaleFactor\t\t = 21.07\n"
     ]
    }
   ],
   "source": [
    "HoleDifficultyFact = HoleDifficulty.apply(lambda x: np.power(x,2)).sum()\n",
    "PlayerAbilityFact = PlayerAbility.iloc[0].apply(lambda x: np.power(x,2)).sum()\n",
    "\n",
    "ScaleFactor = np.sqrt(HoleDifficultyFact) * np.sqrt(PlayerAbilityFact)\n",
    "\n",
    "print \"HoleDifficultyFact\\t = % d\" % HoleDifficultyFact\n",
    "print \"PlayerAbilityFact\\t = % d\" % PlayerAbilityFact\n",
    "print \"ScaleFactor\\t\\t = %.2f\" % ScaleFactor"
   ]
  },
  {
   "cell_type": "markdown",
   "metadata": {},
   "source": [
    "Mathematicians like to keep everything orderly, so the convention is that all vectors should be scaled so they have length 1. For example, the PlayerAbility vector is modified so that the sum of the squares of its elements add to 1, instead of the current $1^2 + 1^2 + 1^2 = 3$. To do this, we have to divide each element by the square root of 3, so that when we square it, it becomes $1/3$ and the three elements add to 1. Similarly, we have to divide each HoleDifficulty element by the square root of 148. The square root of 3 times the square root of 148 is our scaling factor 21.07. The complete 1-D SVD factorization (to 2 decimal places) is:"
   ]
  },
  {
   "cell_type": "code",
   "execution_count": 116,
   "metadata": {
    "collapsed": false
   },
   "outputs": [
    {
     "name": "stdout",
     "output_type": "stream",
     "text": [
      "PlayerAbilityScaled\n",
      "===================\n",
      "Phil    Tiger    Vijay\n",
      "0.57735  0.57735  0.57735\n"
     ]
    }
   ],
   "source": [
    "plop = np.sqrt(PlayerAbilityFact)\n",
    "\n",
    "PlayerAbilityScaled = PlayerAbility.apply(lambda x: np.divide(x, plop))\n",
    "print \"PlayerAbilityScaled\"\n",
    "print \"===================\"\n",
    "print PlayerAbilityScaled.to_string(index=False)"
   ]
  },
  {
   "cell_type": "code",
   "execution_count": 118,
   "metadata": {
    "collapsed": false
   },
   "outputs": [
    {
     "name": "stdout",
     "output_type": "stream",
     "text": [
      "HoleDifficultyScaled\n",
      "====================\n",
      "0.328798\n",
      "0.410997\n",
      "0.246598\n",
      "0.328798\n",
      "0.328798\n",
      "0.328798\n",
      "0.328798\n",
      "0.246598\n",
      "0.410997\n"
     ]
    }
   ],
   "source": [
    "plop2 = np.sqrt(HoleDifficultyFact)\n",
    "\n",
    "HoleDifficultyScaled = HoleDifficulty.apply(lambda x: np.divide(x, plop2))\n",
    "print \"HoleDifficultyScaled\"\n",
    "print \"====================\"\n",
    "print HoleDifficultyScaled.to_string(index=False)"
   ]
  },
  {
   "cell_type": "markdown",
   "metadata": {},
   "source": [
    "Our HoleDifficulty vector, that starts with 0.33, is called the **Left Singular Vector**. The ScaleFactor is the **Singular Value**, and our PlayerAbility vector, that starts with 0.58 is the **Right Singular Vector**. If we represent these 3 parts exactly, and multiply them together, we get the exact original scores. This means our matrix is a rank 1 matrix, another way of saying it has a simple and predictable pattern."
   ]
  },
  {
   "cell_type": "markdown",
   "metadata": {},
   "source": []
  },
  {
   "cell_type": "code",
   "execution_count": null,
   "metadata": {
    "collapsed": true
   },
   "outputs": [],
   "source": []
  }
 ],
 "metadata": {
  "kernelspec": {
   "display_name": "Python 2",
   "language": "python",
   "name": "python2"
  },
  "language_info": {
   "codemirror_mode": {
    "name": "ipython",
    "version": 2
   },
   "file_extension": ".py",
   "mimetype": "text/x-python",
   "name": "python",
   "nbconvert_exporter": "python",
   "pygments_lexer": "ipython2",
   "version": "2.7.11"
  }
 },
 "nbformat": 4,
 "nbformat_minor": 0
}
