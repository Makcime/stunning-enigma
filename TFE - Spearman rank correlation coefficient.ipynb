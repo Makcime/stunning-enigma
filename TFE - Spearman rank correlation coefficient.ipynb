{
 "cells": [
  {
   "cell_type": "markdown",
   "metadata": {},
   "source": [
    "Source : \n",
    "* [Spearman's rank correlation coefficient](https://en.wikipedia.org/wiki/Spearman's_rank_correlation_coefficient)\n",
    "* [Pearson product-moment correlation coefficient](https://en.wikipedia.org/wiki/Pearson_product-moment_correlation_coefficient)\n",
    "* [Distance correlation](https://en.wikipedia.org/wiki/Distance_correlation)\n",
    "* [RV coefficient](https://en.wikipedia.org/wiki/RV_coefficient)\n",
    "* [Goodman and Kruskal's gamma](https://en.wikipedia.org/wiki/Goodman_and_Kruskal's_gamma)\n"
   ]
  },
  {
   "cell_type": "markdown",
   "metadata": {},
   "source": [
    "## Methodes comparaison\n",
    "* [Correlation (Pearson, Kendall, Spearman)](http://www.statisticssolutions.com/correlation-pearson-kendall-spearman/)\n",
    "* [NASCAR Winston Cup Race Results for 1975-2003](http://www.amstat.org/publications/jse/v14n3/datasets.winner.html)"
   ]
  },
  {
   "cell_type": "code",
   "execution_count": null,
   "metadata": {
    "collapsed": true
   },
   "outputs": [],
   "source": []
  }
 ],
 "metadata": {
  "kernelspec": {
   "display_name": "Python 2",
   "language": "python",
   "name": "python2"
  },
  "language_info": {
   "codemirror_mode": {
    "name": "ipython",
    "version": 2
   },
   "file_extension": ".py",
   "mimetype": "text/x-python",
   "name": "python",
   "nbconvert_exporter": "python",
   "pygments_lexer": "ipython2",
   "version": "2.7.11"
  }
 },
 "nbformat": 4,
 "nbformat_minor": 0
}
