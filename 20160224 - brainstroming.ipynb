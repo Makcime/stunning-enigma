{
 "cells": [
  {
   "cell_type": "markdown",
   "metadata": {},
   "source": [
    "Trouvee de parametres pour:\n",
    "\n",
    "* Métrique pour les users\n",
    "* Métrique pour les problème\n",
    "* Classification des problème\n",
    "* Cluster des porblèmes\n",
    "\n",
    "Recomentdation des problème au user => mécanisime ou automatique (diversification ou amélirorer son niveau dans un domaine?)\n",
    "\n"
   ]
  },
  {
   "cell_type": "markdown",
   "metadata": {},
   "source": [
    "Niveau global sur tout le système \n",
    "\n",
    "**OU**\n",
    "\n",
    "Voir ce qui se passe pour un cours en partiulier, montrer la difficulté induite des problème et confronter cela au donnée du professeur qui ont proposé les problèmes, ...\n",
    "\n",
    "Afin de valider les résultats obtenus\n",
    "\n",
    "Validation partielle qui montrerait un sens (ou non) au résultats globaux)"
   ]
  },
  {
   "cell_type": "markdown",
   "metadata": {},
   "source": [
    "## pour le système de recomendation :\n",
    "\n",
    "anecdote du professeur\n",
    "\n"
   ]
  },
  {
   "cell_type": "markdown",
   "metadata": {},
   "source": [
    "## ==> \n",
    "Un résultat du mémoire doit être des figure bie jolies"
   ]
  },
  {
   "cell_type": "code",
   "execution_count": null,
   "metadata": {
    "collapsed": true
   },
   "outputs": [],
   "source": []
  }
 ],
 "metadata": {
  "kernelspec": {
   "display_name": "Python 2",
   "language": "python",
   "name": "python2"
  },
  "language_info": {
   "codemirror_mode": {
    "name": "ipython",
    "version": 2
   },
   "file_extension": ".py",
   "mimetype": "text/x-python",
   "name": "python",
   "nbconvert_exporter": "python",
   "pygments_lexer": "ipython2",
   "version": "2.7.11"
  }
 },
 "nbformat": 4,
 "nbformat_minor": 0
}
