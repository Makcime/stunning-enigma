{
 "cells": [
  {
   "cell_type": "code",
   "execution_count": null,
   "metadata": {
    "collapsed": true
   },
   "outputs": [],
   "source": []
  },
  {
   "cell_type": "markdown",
   "metadata": {},
   "source": [
    "# ponctuations\n",
    "\n",
    "Assigner un niveau aus problemes\n",
    "\n",
    " stratégies :\n",
    " \n",
    " * gateau\n",
    "     niveau assingé en fonction du nombre de user par problème, pour chaque prob et ensuite additionner toutes les niveau\n",
    "     \n",
    " > on peut faire ca sur tout le système ou bien en focntion des cours\n",
    " \n",
    " *  \n",
    " *\n",
    " "
   ]
  },
  {
   "cell_type": "markdown",
   "metadata": {},
   "source": [
    "idee de cours a utiliser \n",
    "* Informatica.. C00198\n",
    "```sql\n",
    "select title from courses where course_id like 'C00198';\n",
    "```\n",
    "> etudiants et probls\n",
    "\n",
    "* C00199\n",
    ">etudiants et probls\n",
    "\n",
    "* C00152\n",
    "> ne pas regarder la iste des etudiant mais seuelemnt la liste des  et regarder sur les utilisateurs du systeme\n",
    "\n"
   ]
  },
  {
   "cell_type": "markdown",
   "metadata": {},
   "source": [
    "Diviser le gatau comme nombre de user ayant résolut le probmlèm\n",
    "\n",
    "on peut diviser comme ca.\n",
    "\n",
    "Donner une"
   ]
  },
  {
   "cell_type": "markdown",
   "metadata": {},
   "source": [
    "## 2eme possibilité pour la ponctuation :\n",
    "\n",
    "* table binaire\n",
    "\n",
    "vecteur difficulté == inverse du nombre d'étudiants l'ayant résolu\n",
    "\n",
    "on peut ensuite normalisé ce vecteur (somme des carrés == 1) ca fait une difficulté normalisée\n",
    "\n",
    "Ensuite on prends les vecteur des étudiant et nous additionnons la somme des problème qu'il a résomue (abilité)\n",
    "Ce vecteur doit être aussi normalisé de la meme façon\n",
    "\n",
    "\n",
    "\n",
    "Ceci nous pouvons l'itérer, comme chaque étudiant a un niveau on peu calculer un difficulté2, pondérée par le niveau des étudiants.\n",
    "\n",
    "itération jusqu'à voir une convergence entre la difficulté des probs et le niveau des étudiants\n",
    "Réinjection des données.\n",
    "\n",
    "* voir SYSTEME DU PAGE RANK de google (pointage entre pages web)\n",
    "* chaine de markoff ...\n",
    "\n",
    "\n",
    "Attribuer de manière rétroalimentaire un niveau"
   ]
  },
  {
   "cell_type": "markdown",
   "metadata": {},
   "source": [
    "## 2eme possibilité (amélioration) pour la ponctuation :\n",
    "\n",
    "Remplacer le tableau binaire par le nombre d'essais par user pour un problème\n",
    "\n",
    "**attention quel es tle rôle du zéro !!!**\n"
   ]
  },
  {
   "cell_type": "raw",
   "metadata": {},
   "source": []
  },
  {
   "cell_type": "markdown",
   "metadata": {},
   "source": [
    "## 3eme possibilité => SVD !!\n",
    "note papiers"
   ]
  },
  {
   "cell_type": "markdown",
   "metadata": {},
   "source": [
    "décmposition linéaire d'un grph\n",
    "\n",
    "algorithme de décomposition spectroale\n",
    "\n",
    "matrice et calcle de vecteurs propres\n"
   ]
  },
  {
   "cell_type": "markdown",
   "metadata": {},
   "source": [
    "Nous nous avons un graph bi partite attention\n"
   ]
  },
  {
   "cell_type": "markdown",
   "metadata": {},
   "source": [
    "# Objectif sur lle temps d'exécution\n",
    "Pour que le jutge integre le system (une nuit)"
   ]
  },
  {
   "cell_type": "markdown",
   "metadata": {},
   "source": [
    " ##  note ==> Complexité cyclomtique"
   ]
  },
  {
   "cell_type": "code",
   "execution_count": null,
   "metadata": {
    "collapsed": true
   },
   "outputs": [],
   "source": []
  }
 ],
 "metadata": {
  "kernelspec": {
   "display_name": "Python 2",
   "language": "python",
   "name": "python2"
  },
  "language_info": {
   "codemirror_mode": {
    "name": "ipython",
    "version": 2
   },
   "file_extension": ".py",
   "mimetype": "text/x-python",
   "name": "python",
   "nbconvert_exporter": "python",
   "pygments_lexer": "ipython2",
   "version": "2.7.11"
  }
 },
 "nbformat": 4,
 "nbformat_minor": 0
}
