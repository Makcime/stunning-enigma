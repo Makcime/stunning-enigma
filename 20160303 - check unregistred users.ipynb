{
 "cells": [
  {
   "cell_type": "code",
   "execution_count": 1,
   "metadata": {
    "collapsed": true
   },
   "outputs": [],
   "source": [
    "%matplotlib inline\n",
    "import pandas as pd\n",
    "import numpy as np\n",
    "import matplotlib.pyplot as plt\n",
    "import psycopg2"
   ]
  },
  {
   "cell_type": "code",
   "execution_count": 2,
   "metadata": {
    "collapsed": true
   },
   "outputs": [],
   "source": [
    "con = psycopg2.connect(\"dbname=test1\")"
   ]
  },
  {
   "cell_type": "code",
   "execution_count": 5,
   "metadata": {
    "collapsed": false
   },
   "outputs": [
    {
     "name": "stdout",
     "output_type": "stream",
     "text": [
      "user_id    55\n",
      "dtype: int64\n"
     ]
    }
   ],
   "source": [
    "unregistred = pd.read_sql_query(\"setlect user_id from users where unregistered!=0;\",con=con)\n",
    "print unregistred.count()"
   ]
  },
  {
   "cell_type": "markdown",
   "metadata": {},
   "source": [
    "==> 55 unregistred users\n",
    "\n",
    "** how many submissions ?**"
   ]
  },
  {
   "cell_type": "code",
   "execution_count": 28,
   "metadata": {
    "collapsed": false
   },
   "outputs": [],
   "source": [
    "ignored_subs = 0\n",
    "for u in unregistred.values:\n",
    "    df = pd.read_sql_query(\"select submission_uid from submissions where user_id='%s';\" % u[0],con=con)\n",
    "    ignored_subs += float(df.count())"
   ]
  },
  {
   "cell_type": "code",
   "execution_count": 29,
   "metadata": {
    "collapsed": false
   },
   "outputs": [
    {
     "name": "stdout",
     "output_type": "stream",
     "text": [
      "Igonred submissions = 1329\n",
      "Totam submissions = 1605270 \n",
      "==> 0.0008278981 \n"
     ]
    }
   ],
   "source": [
    "df = pd.read_sql_query(\"select count(*) from submissions;\",con=con)\n",
    "print \"Igonred submissions = %d\" % ignored_subs\n",
    "print \"Totam submissions = %d \" % df.values[0][0]\n",
    "print \"==> %.10f \" % np.true_divide(ignored_subs, df.values[0][0])"
   ]
  },
  {
   "cell_type": "markdown",
   "metadata": {},
   "source": [
    "```sql\n",
    "test1=# select count(*) from submissions where user_id in ('U13594', 'U16867', 'U15591', 'U16889', 'U15803', 'U15915', 'U15957', 'U15941', 'U15970', 'U16009', 'U15991', 'U16058', 'U15913', 'U16097', 'U16083', 'U16153', 'U16303', 'U15979', 'U16333', 'U16344', 'U16359', 'U16362', 'U16438', 'U16467', 'U16488', 'U16487', 'U16493', 'U16494', 'U16490', 'U16533', 'U16526', 'U16539', 'U16580', 'U16592', 'U16584', 'U16630', 'U16683', 'U16703', 'U16715', 'U16743', 'U16748', 'U16773', 'U16753', 'U14987', 'U10576', 'U01151', 'U11327', 'U12985', 'U14450', 'U14942', 'U14770', 'U15073', 'U15202', 'U15253', 'U10002');\n",
    " count \n",
    "-------\n",
    "  1329\n",
    "(1 row)\n",
    "```"
   ]
  },
  {
   "cell_type": "markdown",
   "metadata": {},
   "source": [
    ">```sql\n",
    "select count(*) from submissions where user_id in (select user_id from users where unregistered!=0);\n",
    "```\n",
    "\n",
    "```sql\n",
    "test1=# select count(*) from submissions where user_id in (select user_id from users where unregistered!=0);\n",
    " count \n",
    "-------\n",
    "  1329\n",
    "(1 row)\n",
    "\n",
    "\n",
    "```"
   ]
  },
  {
   "cell_type": "code",
   "execution_count": 32,
   "metadata": {
    "collapsed": true
   },
   "outputs": [],
   "source": [
    "df = pd.read_sql_query(\"select count(*) from submissions where user_id in \\\n",
    "                            (select user_id from users where unregistered!=0);\",\n",
    "                       con=con)"
   ]
  },
  {
   "cell_type": "code",
   "execution_count": 33,
   "metadata": {
    "collapsed": false
   },
   "outputs": [
    {
     "data": {
      "text/plain": [
       "<bound method DataFrame.count of    count\n",
       "0   1329>"
      ]
     },
     "execution_count": 33,
     "metadata": {},
     "output_type": "execute_result"
    }
   ],
   "source": [
    "df.count"
   ]
  },
  {
   "cell_type": "code",
   "execution_count": null,
   "metadata": {
    "collapsed": true
   },
   "outputs": [],
   "source": []
  }
 ],
 "metadata": {
  "kernelspec": {
   "display_name": "Python 2",
   "language": "python",
   "name": "python2"
  },
  "language_info": {
   "codemirror_mode": {
    "name": "ipython",
    "version": 2
   },
   "file_extension": ".py",
   "mimetype": "text/x-python",
   "name": "python",
   "nbconvert_exporter": "python",
   "pygments_lexer": "ipython2",
   "version": "2.7.11"
  }
 },
 "nbformat": 4,
 "nbformat_minor": 0
}
