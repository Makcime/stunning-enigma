{
 "cells": [
  {
   "cell_type": "code",
   "execution_count": 1,
   "metadata": {
    "collapsed": true
   },
   "outputs": [],
   "source": [
    "%matplotlib inline\n",
    "%matplotlib notebook\n",
    "\n",
    "import pandas as pd\n",
    "import numpy as np\n",
    "import matplotlib.pyplot as plt\n",
    "from analyser import *\n",
    "\n",
    "plt.style.use('ggplot')"
   ]
  },
  {
   "cell_type": "markdown",
   "metadata": {},
   "source": [
    "# Linear methods : Comparison\n",
    "\n",
    "For each vector (*Difficulty and Ability*) we have two linar methods including or not the notion of attempts.\n",
    "\n",
    "Here is a summary of the result for the application of those methods\n",
    "\n",
    "We have 4 different possibilities.\n"
   ]
  },
  {
   "cell_type": "code",
   "execution_count": 2,
   "metadata": {
    "collapsed": false
   },
   "outputs": [],
   "source": [
    "#subs = generate_submissions(users=50, pbls=10)\n",
    "subs = import_submissions(course_id = \"C00198\", dbname=\"test1\")\n",
    "bm = bianary_mat(subs)"
   ]
  },
  {
   "cell_type": "code",
   "execution_count": 3,
   "metadata": {
    "collapsed": false
   },
   "outputs": [],
   "source": [
    "def linear1(row, vector):\n",
    "    '''\n",
    "    return the level of a row relatively to a vector\n",
    "    '''\n",
    "    return  (row[1] * vector).sum() / len(row[1])\n",
    "\n",
    "def linear2(row, vector):\n",
    "    '''\n",
    "    return the level of a row relatively to a vector\n",
    "    '''\n",
    "    return 1 - ((row[1] * vector).sum()  / len(row[1]))\n",
    "\n",
    "def linear3(row, vector):\n",
    "    '''\n",
    "    return the level of a row relatively to a vector\n",
    "    '''\n",
    "    return  (row[1] * vector).sum() / len(row[1])\n",
    "\n",
    "def process_bianary_mat(bm, rel_v, f=linear1, name='V', Horiz=False):\n",
    "    '''\n",
    "    evaluate the vector from a bm using a method\n",
    "    and relatively to another vector\n",
    "    '''\n",
    "    # evaluate for each row of the binary table\n",
    "    bmm = bm\n",
    "    if Horiz:\n",
    "        bmm=bm.T\n",
    "    \n",
    "    vector = [f(row, rel_v) for row in bmm.iterrows()]\n",
    "    vector = pd.Series(vector, index=bmm.index, \n",
    "                             name=name)\n",
    "    normalize(vector)\n",
    "    \n",
    "    return vector"
   ]
  },
  {
   "cell_type": "code",
   "execution_count": null,
   "metadata": {
    "collapsed": false
   },
   "outputs": [],
   "source": [
    "Difficulties = pd.Series([1.0 for i in range(len(bm.index))], index=bm.index, name='Difficulties')\n",
    "normalize(Difficulties)"
   ]
  },
  {
   "cell_type": "code",
   "execution_count": null,
   "metadata": {
    "collapsed": false
   },
   "outputs": [],
   "source": [
    "Abilities = pd.Series([1.0 for i in range(len(bm.columns))], index=bm.columns, name='Abilities')\n",
    "normalize(Abilities)"
   ]
  },
  {
   "cell_type": "markdown",
   "metadata": {},
   "source": [
    "## Difficultied first"
   ]
  },
  {
   "cell_type": "code",
   "execution_count": null,
   "metadata": {
    "collapsed": false
   },
   "outputs": [],
   "source": [
    "#Difficulties = process_bianary_mat(bm, Abilities, name=Difficulties.name)\n",
    "Difficulties = process_bianary_mat(bm, Abilities,f=linear2 , name=Difficulties.name)\n",
    "Abilities = process_bianary_mat(bm, Difficulties, name=Abilities.name, Horiz=True)"
   ]
  },
  {
   "cell_type": "code",
   "execution_count": null,
   "metadata": {
    "collapsed": false
   },
   "outputs": [],
   "source": [
    "dfAbl = pd.DataFrame(Abilities)"
   ]
  },
  {
   "cell_type": "code",
   "execution_count": null,
   "metadata": {
    "collapsed": false
   },
   "outputs": [],
   "source": [
    "dfDiff = pd.DataFrame(Difficulties)"
   ]
  },
  {
   "cell_type": "markdown",
   "metadata": {},
   "source": [
    "## Abilities First"
   ]
  },
  {
   "cell_type": "code",
   "execution_count": null,
   "metadata": {
    "collapsed": true
   },
   "outputs": [],
   "source": [
    "Abilities = pd.Series([1.0 for i in range(len(bm.columns))], index=bm.columns, name='Abilities')\n",
    "normalize(Abilities)\n",
    "Difficulties = pd.Series([1.0 for i in range(len(bm.index))], index=bm.index, name='Difficulties')\n",
    "normalize(Difficulties)\n",
    "Abilities = process_bianary_mat(bm, Difficulties, name=Abilities.name+\"2\", Horiz=True)\n",
    "Difficulties = process_bianary_mat(bm, Abilities,f=linear2 , name=Difficulties.name+\"2\")"
   ]
  },
  {
   "cell_type": "code",
   "execution_count": null,
   "metadata": {
    "collapsed": false
   },
   "outputs": [],
   "source": [
    "dfAbl[Abilities.name] = Abilities"
   ]
  },
  {
   "cell_type": "code",
   "execution_count": null,
   "metadata": {
    "collapsed": false
   },
   "outputs": [],
   "source": [
    "dfDiff[Difficulties.name] = Difficulties"
   ]
  },
  {
   "cell_type": "code",
   "execution_count": null,
   "metadata": {
    "collapsed": false,
    "scrolled": false
   },
   "outputs": [],
   "source": [
    "dfAbl.plot(kind='bar')"
   ]
  },
  {
   "cell_type": "code",
   "execution_count": null,
   "metadata": {
    "collapsed": false
   },
   "outputs": [],
   "source": [
    "bmm = bm.as_matrix()\n",
    "U, s, V = np.linalg.svd(bmm, full_matrices=False)\n",
    "diff3 = pd.DataFrame(U[:,[0]], index=bm.index, columns=[\"DifficultiesSVD\"])\n",
    "dfDiff = dfDiff.join(diff3[\"DifficultiesSVD\"]) # * s[0])\n",
    "abl3 = pd.DataFrame(V[0], index=bm.columns, columns=[\"AbilitiesSVD\"])\n",
    "dfAbl = dfAbl.join(abl3[\"AbilitiesSVD\"]) # * s[0])"
   ]
  },
  {
   "cell_type": "code",
   "execution_count": null,
   "metadata": {
    "collapsed": false
   },
   "outputs": [],
   "source": [
    "dfDiff.DifficultiesSVD = dfDiff.DifficultiesSVD.apply(lambda x: x * 0.1 + 0.07)\n",
    "normalize(dfDiff.DifficultiesSVD )\n",
    "dfAbl.AbilitiesSVD = dfAbl.AbilitiesSVD.apply(lambda x: -x)"
   ]
  },
  {
   "cell_type": "code",
   "execution_count": null,
   "metadata": {
    "collapsed": false,
    "scrolled": false
   },
   "outputs": [],
   "source": [
    "g = dfDiff\n",
    "g.sort_values(by='DifficultiesSVD', inplace=True)\n",
    "g.plot()"
   ]
  },
  {
   "cell_type": "code",
   "execution_count": null,
   "metadata": {
    "collapsed": false
   },
   "outputs": [],
   "source": [
    "g = dfAbl\n",
    "g.sort_values(by='AbilitiesSVD', inplace=True)\n",
    "g.plot()"
   ]
  },
  {
   "cell_type": "code",
   "execution_count": null,
   "metadata": {
    "collapsed": true
   },
   "outputs": [],
   "source": []
  }
 ],
 "metadata": {
  "kernelspec": {
   "display_name": "Python 2",
   "language": "python",
   "name": "python2"
  },
  "language_info": {
   "codemirror_mode": {
    "name": "ipython",
    "version": 2
   },
   "file_extension": ".py",
   "mimetype": "text/x-python",
   "name": "python",
   "nbconvert_exporter": "python",
   "pygments_lexer": "ipython2",
   "version": "2.7.11"
  }
 },
 "nbformat": 4,
 "nbformat_minor": 0
}
