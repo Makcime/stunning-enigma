{
 "cells": [
  {
   "cell_type": "code",
   "execution_count": null,
   "metadata": {
    "collapsed": true
   },
   "outputs": [],
   "source": [
    "%matplotlib inline\n",
    "%matplotlib notebook\n",
    "\n",
    "import pandas as pd\n",
    "import numpy as np\n",
    "import matplotlib.pyplot as plt\n",
    "plt.style.use('ggplot')\n",
    "\n",
    "import psycopg2\n",
    "dbname = \"test1\"\n",
    "\n",
    "con = psycopg2.connect(\"dbname=%s\" % dbname)\n",
    "\n",
    "from jutge import *\n",
    "from jutgeAnalyser import *"
   ]
  },
  {
   "cell_type": "code",
   "execution_count": null,
   "metadata": {
    "collapsed": false
   },
   "outputs": [],
   "source": [
    "ucnt = 4\n",
    "pcnt = 8\n",
    "\n",
    "u = [\"U%04d\" % i for i in range(ucnt)]\n",
    "p = [\"P%04d\" % i for i in range(pcnt)]\n",
    "\n",
    "print u\n",
    "print p"
   ]
  },
  {
   "cell_type": "code",
   "execution_count": null,
   "metadata": {
    "collapsed": false
   },
   "outputs": [],
   "source": [
    "s = generate_submissions(ucnt, pcnt)"
   ]
  },
  {
   "cell_type": "code",
   "execution_count": null,
   "metadata": {
    "collapsed": false
   },
   "outputs": [],
   "source": [
    "bianary_mat(u , p)"
   ]
  },
  {
   "cell_type": "code",
   "execution_count": null,
   "metadata": {
    "collapsed": false
   },
   "outputs": [],
   "source": [
    "bianary_mat(u , p, s)"
   ]
  },
  {
   "cell_type": "code",
   "execution_count": null,
   "metadata": {
    "collapsed": false
   },
   "outputs": [],
   "source": [
    "means_mat(u , p)"
   ]
  },
  {
   "cell_type": "code",
   "execution_count": null,
   "metadata": {
    "collapsed": false
   },
   "outputs": [],
   "source": [
    "means_mat(u , p, s)"
   ]
  },
  {
   "cell_type": "markdown",
   "metadata": {},
   "source": [
    "```\n",
    "oscar@oscar-Lenovo-B50-70 ~/Documents/ISIB/2MA/TFE/notebooks $ python jutge_csv_maker.py \n",
    "10514 \tusers selected\n",
    "1325 \tproblems selected\n",
    "1394765 \tsubmissions found\n",
    "timestamp = 10.154 seconds\n",
    "\n",
    "bianary matrix generation ...\n",
    "timestamp = 68.881 seconds\n",
    "\n",
    "means matrix generation ...\n",
    "timestamp = 209.544 seconds\n",
    "\n",
    "Total time = 288.580 seconds\n",
    "```\n"
   ]
  },
  {
   "cell_type": "code",
   "execution_count": null,
   "metadata": {
    "collapsed": false
   },
   "outputs": [],
   "source": [
    "process(u, p)"
   ]
  },
  {
   "cell_type": "code",
   "execution_count": null,
   "metadata": {
    "collapsed": true
   },
   "outputs": [],
   "source": []
  }
 ],
 "metadata": {
  "kernelspec": {
   "display_name": "Python 2",
   "language": "python",
   "name": "python2"
  },
  "language_info": {
   "codemirror_mode": {
    "name": "ipython",
    "version": 2
   },
   "file_extension": ".py",
   "mimetype": "text/x-python",
   "name": "python",
   "nbconvert_exporter": "python",
   "pygments_lexer": "ipython2",
   "version": "2.7.11"
  }
 },
 "nbformat": 4,
 "nbformat_minor": 0
}
