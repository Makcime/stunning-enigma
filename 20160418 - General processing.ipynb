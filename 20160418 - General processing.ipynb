{
 "cells": [
  {
   "cell_type": "code",
   "execution_count": 1,
   "metadata": {
    "collapsed": false
   },
   "outputs": [],
   "source": [
    "%matplotlib inline\n",
    "%matplotlib notebook\n",
    "\n",
    "import pandas as pd\n",
    "import numpy as np\n",
    "import matplotlib.pyplot as plt\n",
    "plt.style.use('ggplot')\n",
    "\n",
    "from analyser import *"
   ]
  },
  {
   "cell_type": "code",
   "execution_count": 4,
   "metadata": {
    "collapsed": false
   },
   "outputs": [
    {
     "name": "stdout",
     "output_type": "stream",
     "text": [
      "Proceed in 0.684 seconds\n",
      "Using the svd method\n",
      "Based on the bin matrix\n",
      "For 207 users ans 72 problems\n"
     ]
    }
   ],
   "source": [
    "subs = import_submissions(course_id = \"C00198\", dbname=\"test1\")\n",
    "mat, v, h = process(subs)"
   ]
  },
  {
   "cell_type": "code",
   "execution_count": 7,
   "metadata": {
    "collapsed": false
   },
   "outputs": [
    {
     "name": "stdout",
     "output_type": "stream",
     "text": [
      "Proceed in 2.286 seconds\n",
      "Using the svd method\n",
      "Based on the means matrix\n",
      "For 207 users ans 72 problems\n"
     ]
    }
   ],
   "source": [
    "subs = import_submissions(course_id = \"C00198\", dbname=\"test1\")\n",
    "mat, v, h = process(subs, kind='means')"
   ]
  },
  {
   "cell_type": "code",
   "execution_count": 5,
   "metadata": {
    "collapsed": false
   },
   "outputs": [
    {
     "name": "stdout",
     "output_type": "stream",
     "text": [
      "Proceed in 0.120 seconds\n",
      "Using the svd method\n",
      "Based on the bin matrix\n",
      "For 35 users ans 209 problems\n"
     ]
    }
   ],
   "source": [
    "subs = import_submissions(course_id = \"C00152\", dbname=\"test1\")\n",
    "mat, v, h = process(subs)"
   ]
  },
  {
   "cell_type": "code",
   "execution_count": 6,
   "metadata": {
    "collapsed": false
   },
   "outputs": [
    {
     "name": "stdout",
     "output_type": "stream",
     "text": [
      "Proceed in 3.688 seconds\n",
      "Using the svd method\n",
      "Based on the bin matrix\n",
      "For 312 users ans 448 problems\n"
     ]
    }
   ],
   "source": [
    "subs = import_submissions(course_id = \"C00199\", dbname=\"test1\")\n",
    "mat, v, h = process(subs)"
   ]
  },
  {
   "cell_type": "code",
   "execution_count": null,
   "metadata": {
    "collapsed": true
   },
   "outputs": [],
   "source": []
  }
 ],
 "metadata": {
  "kernelspec": {
   "display_name": "Python 2",
   "language": "python",
   "name": "python2"
  },
  "language_info": {
   "codemirror_mode": {
    "name": "ipython",
    "version": 2
   },
   "file_extension": ".py",
   "mimetype": "text/x-python",
   "name": "python",
   "nbconvert_exporter": "python",
   "pygments_lexer": "ipython2",
   "version": "2.7.11"
  }
 },
 "nbformat": 4,
 "nbformat_minor": 0
}
