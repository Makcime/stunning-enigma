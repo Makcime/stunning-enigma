{
 "cells": [
  {
   "cell_type": "markdown",
   "metadata": {},
   "source": [
    "# Extending the SVD with More Factors\n",
    "More complicated matrices cannot be completely predicted just by using one set of factors as we have done. In that case, we have to introduce a second set of factors to refine our predictions. To do that, we subtract our predicted scores from the actual scores, getting the residual scores. Then we find a second set of HoleDifficulty2 and PlayerAbility2 numbers that best predict the residual scores.\n",
    "\n",
    "Rather than guessing HoleDifficulty and PlayerAbility factors and subtracting predicted scores, there exist powerful algorithms than can calculate SVD factorizations for you. Let's look at the actual scores from the first 9 holes of the 2007 Players Championship as played by Phil, Tiger, and Vijay."
   ]
  },
  {
   "cell_type": "code",
   "execution_count": 1,
   "metadata": {
    "collapsed": true
   },
   "outputs": [],
   "source": [
    "%matplotlib inline\n",
    "import pandas as pd\n",
    "import numpy as np\n",
    "import matplotlib.pyplot as plt\n",
    "plt.style.use('ggplot')\n",
    "import psycopg2\n",
    "\n",
    "con = psycopg2.connect(\"dbname=test1\")"
   ]
  },
  {
   "cell_type": "code",
   "execution_count": 4,
   "metadata": {
    "collapsed": false
   },
   "outputs": [
    {
     "name": "stdout",
     "output_type": "stream",
     "text": [
      "Holes  Par  Phil  Tiger  Vijay\n",
      "    1    4     4      4      5\n",
      "    2    5     4      5      5\n",
      "    3    3     3      3      2\n",
      "    4    4     4      5      4\n",
      "    5    4     4      4      4\n",
      "    6    4     3      5      4\n",
      "    7    4     4      4      3\n",
      "    8    3     2      4      4\n",
      "    9    5     5      5      5\n"
     ]
    }
   ],
   "source": [
    "col = [\"Holes\",\"Par\",\"Phil\",\"Tiger\",\"Vijay\"]\n",
    "score = np.array([\n",
    "    [1,4,4,4,5],\n",
    "    [2,5,4,5,5],\n",
    "    [3,3,3,3,2],\n",
    "    [4,4,4,5,4],\n",
    "    [5,4,4,4,4],\n",
    "    [6,4,3,5,4],\n",
    "    [7,4,4,4,3],\n",
    "    [8,3,2,4,4],\n",
    "    [9,5,5,5,5]])\n",
    "\n",
    "df = pd.DataFrame(score, columns=col)\n",
    "print df.to_string(index=False)"
   ]
  },
  {
   "cell_type": "code",
   "execution_count": 5,
   "metadata": {
    "collapsed": false
   },
   "outputs": [
    {
     "name": "stdout",
     "output_type": "stream",
     "text": [
      "Players scores\n",
      "===============\n",
      "Phil  Tiger  Vijay\n",
      "   4      4      5\n",
      "   4      5      5\n",
      "   3      3      2\n",
      "   4      5      4\n",
      "   4      4      4\n",
      "   3      5      4\n",
      "   4      4      3\n",
      "   2      4      4\n",
      "   5      5      5\n"
     ]
    }
   ],
   "source": [
    "scores = df[df.columns[2:]]\n",
    "print \"Players scores\"\n",
    "print \"==============\"\n",
    "print scores.to_string(index=False)"
   ]
  },
  {
   "cell_type": "markdown",
   "metadata": {},
   "source": [
    "The 1-D SVD factorization of the scores is shown below. To make this example easier to understand, I have incorporated the ScaleFactor into the PlayerAbility and HoleDifficulty vectors so we can ignore the ScaleFactor for this example."
   ]
  },
  {
   "cell_type": "code",
   "execution_count": 15,
   "metadata": {
    "collapsed": false
   },
   "outputs": [
    {
     "data": {
      "text/plain": [
       "array([[4, 4, 5],\n",
       "       [4, 5, 5],\n",
       "       [3, 3, 2],\n",
       "       [4, 5, 4],\n",
       "       [4, 4, 4],\n",
       "       [3, 5, 4],\n",
       "       [4, 4, 3],\n",
       "       [2, 4, 4],\n",
       "       [5, 5, 5]])"
      ]
     },
     "execution_count": 15,
     "metadata": {},
     "output_type": "execute_result"
    }
   ],
   "source": [
    "scoresmat = df.as_matrix(columns=[\"Phil\",\"Tiger\",\"Vijay\"])\n",
    "scoresmat"
   ]
  },
  {
   "cell_type": "code",
   "execution_count": 34,
   "metadata": {
    "collapsed": true
   },
   "outputs": [],
   "source": [
    "U, s, V = np.linalg.svd(scoresmat, full_matrices=False)"
   ]
  },
  {
   "cell_type": "code",
   "execution_count": 35,
   "metadata": {
    "collapsed": false
   },
   "outputs": [
    {
     "name": "stdout",
     "output_type": "stream",
     "text": [
      "[[-0.35485277  0.08912626  0.63510622]\n",
      " [-0.38423571  0.18894413  0.10273509]\n",
      " [-0.21806175 -0.39604843 -0.28094945]\n",
      " [-0.35676267 -0.07556623 -0.32999583]\n",
      " [-0.32737973 -0.17538409  0.2023753 ]\n",
      " [-0.33177371  0.33260802 -0.48022986]\n",
      " [-0.29990669 -0.43989445 -0.23035562]\n",
      " [-0.27740183  0.6409644  -0.09809276]\n",
      " [-0.40922466 -0.21923012  0.25296912]]\n"
     ]
    }
   ],
   "source": [
    "print U"
   ]
  },
  {
   "cell_type": "code",
   "execution_count": 36,
   "metadata": {
    "collapsed": false
   },
   "outputs": [
    {
     "name": "stdout",
     "output_type": "stream",
     "text": [
      "[ 21.11673273   2.0140035    1.423864  ]\n"
     ]
    }
   ],
   "source": [
    "print s"
   ]
  },
  {
   "cell_type": "code",
   "execution_count": 33,
   "metadata": {
    "collapsed": false
   },
   "outputs": [
    {
     "name": "stdout",
     "output_type": "stream",
     "text": [
      "[[-0.52768502 -0.62047161 -0.58014093]\n",
      " [-0.82206436  0.20103353  0.53272479]\n",
      " [ 0.21391282 -0.75802408  0.61614998]]\n"
     ]
    }
   ],
   "source": [
    "print V"
   ]
  },
  {
   "cell_type": "code",
   "execution_count": null,
   "metadata": {
    "collapsed": true
   },
   "outputs": [],
   "source": []
  }
 ],
 "metadata": {
  "kernelspec": {
   "display_name": "Python 2",
   "language": "python",
   "name": "python2"
  },
  "language_info": {
   "codemirror_mode": {
    "name": "ipython",
    "version": 2
   },
   "file_extension": ".py",
   "mimetype": "text/x-python",
   "name": "python",
   "nbconvert_exporter": "python",
   "pygments_lexer": "ipython2",
   "version": "2.7.11"
  }
 },
 "nbformat": 4,
 "nbformat_minor": 0
}
