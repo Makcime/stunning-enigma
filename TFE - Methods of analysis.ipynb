{
 "cells": [
  {
   "cell_type": "markdown",
   "metadata": {},
   "source": [
    "# Objective"
   ]
  },
  {
   "cell_type": "markdown",
   "metadata": {},
   "source": [
    "The goal is to find a proper method to autmaticay evaluate a certain level of difficulty for each problems and attribute a degree of ability for users regarding the state of the submissions history into the database.\n",
    "\n",
    "To do so, we need to implement and compare severlas methods of analysis, and different models.\n",
    "\n",
    "Each of them will be describe here."
   ]
  },
  {
   "cell_type": "markdown",
   "metadata": {},
   "source": [
    "# Data visualisation\n",
    "\n",
    "## Input\n",
    "\n",
    "First of all, let's describe how the data are considered.\n",
    "\n",
    "The start of the analaysis is always the same, a dataset of *submissions history*. In that history we can extract serveral informations as\n",
    "* number of succes submissions by user\n",
    "* number of succes submissions by probems\n",
    "* number of problems solved by user\n",
    "* ...\n",
    "\n",
    "The submission history dataset use for analysis can as well be the entire database or a subset selected from severals criteria (from a specific course or list for example).\n",
    "\n",
    "The datastructure use for analysis is a matrix representation of the submission history. they will be 2 versions of it for 2 different analysis.\n",
    "\n",
    "The first version is a simple binary representation of which problem has been solved by which user. The second version inlude for each couple *(user, problem)* the ratio between accepted and rejected verdict.\n",
    "\n",
    "Here is an example of that representation for a very small set of data."
   ]
  },
  {
   "cell_type": "markdown",
   "metadata": {},
   "source": [
    "$$\n",
    "\\begin{tabular}{lrrrr}\n",
    "\\toprule\n",
    "{} &  U00000 &  U00001 &  U00002 &  U00003 \\\\\n",
    "\\midrule\n",
    "P00001 &       1 &       1 &       0 &       0 \\\\\n",
    "P00002 &       0 &       0 &       0 &       1 \\\\\n",
    "P00003 &       0 &       1 &       0 &       0 \\\\\n",
    "P00000 &       0 &       1 &       1 &       1 \\\\\n",
    "\\bottomrule\n",
    "\\end{tabular}\n",
    "$$"
   ]
  },
  {
   "cell_type": "markdown",
   "metadata": {},
   "source": [
    "## Output\n",
    "The ouput of each analysiswould be composed of two vectors. The first one will represent the difficulty level of each problem, and the second one the ability of each user. Those vectors will be normalize in order to be compared.\n",
    "\n",
    "### Normalisation\n",
    "Every vector would be normalized such that its magnitude $M$ is egual to 1.\n",
    "\n",
    "$ M =\\sqrt{\\sum a_i^2} = 1$\n",
    "\n",
    "To do so, we need to normalize the vector like this:\n",
    "\n",
    "* Compute $M$\n",
    "* $ 0 \\le i \\le n$\n",
    "* for each component => $a_i = \\frac{a_i}{M} $\n",
    "\n",
    "> each component of the vector is devided by the actual magnitude. The result will be a equivalent vector of magnitude 1.\n"
   ]
  },
  {
   "cell_type": "markdown",
   "metadata": {},
   "source": [
    "# First method : Linear analysis"
   ]
  },
  {
   "cell_type": "markdown",
   "metadata": {},
   "source": [
    "## Principle"
   ]
  },
  {
   "cell_type": "markdown",
   "metadata": {},
   "source": [
    "The submissions data visualisation  of $m$ users and $n$ problems can be represented as a matrix ($A_{m,n}$) :\n",
    "\n",
    "$\n",
    "A_{m,n} = \n",
    " \\begin{pmatrix}\n",
    "  a_{1,1} & a_{1,2} & \\cdots & a_{1,n} \\\\\n",
    "  a_{2,1} & a_{2,2} & \\cdots & a_{2,n} \\\\\n",
    "  \\vdots  & \\vdots  & \\ddots & \\vdots  \\\\\n",
    "  a_{m,1} & a_{m,2} & \\cdots & a_{m,n} \n",
    " \\end{pmatrix}\n",
    "$\n",
    "\n",
    "From that matrix we need to compute 2 vectors $\\vec{H}$ and $\\vec{V}$ which respectively represent the horizontal and vertical evaluations of the matrix.\n",
    "\n",
    "$\\vec{V} = (v_0, v_1,  \\cdots, v_m)$\n",
    "\n",
    "$\\vec{H} = (h_0, h_1,  \\cdots, h_n)$\n",
    "\n",
    "For example, each component $x$ of $\\vec{V}$ will be evaluated like this:\n",
    "\n",
    "${v_x} = \\sum_{i=0}^{m} a_{x,i} . h_{i}$\n",
    "\n",
    "> After the evaluation od each component the vector must be normalized through the previous method.\n",
    "\n",
    "Here is the same formula for the Horizontal vector \\vec{H} :\n",
    "\n",
    "$h_x = \\sum_{i=0}^{n} a_{x,i} . v_{i}$\n",
    "\n",
    "> The formula is exactly the same for the other vector evaluaton, but working on the transposed matrix\n"
   ]
  },
  {
   "cell_type": "markdown",
   "metadata": {},
   "source": [
    "## Initialisation\n",
    "\n",
    "We can that the evaluation a vector component is multiply by the matching component of the other vector. For that to be possible, we need to initiate each vector to o proper value.\n",
    "\n",
    "As those vectors represent a notion of relative levels (between users and problems) we can assume that at an initial point the level are equally distributed. \n",
    ">**That means everybody has the same level!**\n",
    "\n",
    "To do so, we just need to set the same arbitrary value to each component (for example 1) and that normalized it.\n",
    "\n",
    "$v_x = C$ $\\forall$ $(0\\le C\\le m)$ "
   ]
  },
  {
   "cell_type": "markdown",
   "metadata": {},
   "source": [
    "## Make it iterative\n",
    "\n",
    "In order to refine those evaluations, we can repeat the previous linear method until a meaningful convergence  appears.\n",
    "\n",
    "> There will be an experimentation phase in order to define the proper number of iterations"
   ]
  },
  {
   "cell_type": "markdown",
   "metadata": {},
   "source": [
    "### Convergence : Vectors comparison\n",
    "\n",
    "We need to be able to compare two equivalent vectors in order to stop the iterative process.\n",
    "\n",
    "Let's consider two vectors $A$ and $B$, of same lenth, to be compared.\n",
    "\n",
    "$\\vec{A} = (a_0, a_1,  \\cdots, a_m)$\n",
    "\n",
    "$\\vec{B} = (b_0, b_1,  \\cdots, b_m)$\n",
    "\n",
    "First compute a third vector $\\vec{D} = (d_0, d_1,  \\cdots,d_m)$ where :\n",
    "\n",
    "$d_i = |a_i - b_i|$ $\\forall$ $ 0 \\le i \\le m$\n",
    "\n",
    "If $M_x$ is the average magnitude between $A$ and $B$, \n",
    "\n",
    "$M_x = \\frac{M(A) + M(B)}{2}$\n",
    "\n",
    "The difference $d$ between two equivalent vectors, is :\n",
    "\n",
    "$d = \\frac{M(D)}{M_x}$\n",
    "\n",
    "> The computation of $M_x$ is not really required in our case because we only work with normalized vectors"
   ]
  },
  {
   "cell_type": "markdown",
   "metadata": {},
   "source": [
    "# Second method : Singular Vlaue Decomposition (SVD)\n",
    "[SVD on wikipedia](https://en.wikipedia.org/wiki/Singular_value_decomposition)"
   ]
  },
  {
   "cell_type": "markdown",
   "metadata": {},
   "source": [
    "## Principle\n",
    "\n",
    "## "
   ]
  },
  {
   "cell_type": "markdown",
   "metadata": {
    "collapsed": true
   },
   "source": [
    "# Methods comparison"
   ]
  },
  {
   "cell_type": "code",
   "execution_count": null,
   "metadata": {
    "collapsed": true
   },
   "outputs": [],
   "source": []
  }
 ],
 "metadata": {
  "kernelspec": {
   "display_name": "Python 2",
   "language": "python",
   "name": "python2"
  },
  "language_info": {
   "codemirror_mode": {
    "name": "ipython",
    "version": 2
   },
   "file_extension": ".py",
   "mimetype": "text/x-python",
   "name": "python",
   "nbconvert_exporter": "python",
   "pygments_lexer": "ipython2",
   "version": "2.7.11"
  }
 },
 "nbformat": 4,
 "nbformat_minor": 0
}
