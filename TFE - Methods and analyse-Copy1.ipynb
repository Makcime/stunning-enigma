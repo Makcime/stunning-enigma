{
 "cells": [
  {
   "cell_type": "markdown",
   "metadata": {},
   "source": [
    "# Objective"
   ]
  },
  {
   "cell_type": "markdown",
   "metadata": {},
   "source": [
    "The goal is to find a proper method to autmaticay evaluate a certain level of difficulty for each problems regarding the state of the submissions history into the database. And than attribute a degree of ability for users regarding which problems they solved.\n",
    "\n",
    "To do so, we need to implement and compare severlas methods of analysis, and different models.\n",
    "\n",
    "Each of them will be describe here."
   ]
  },
  {
   "cell_type": "markdown",
   "metadata": {},
   "source": [
    "# Data visualisation\n",
    "\n",
    "First of all, let's describe how the data are considered.\n",
    "\n",
    "The start of the analaysis is always the same, a dataset of *submissions history*. In that history we can extract serveral informations as\n",
    "* number of succes submissions by user\n",
    "* number of succes submissions by probems\n",
    "* number of problems solved by user\n",
    "* ...\n",
    "\n",
    "The first datastructure that we will analyse is a simple binary representation of which problem has been solved by which user. Here is an example of that representation for a very small set of data.\n",
    "\n"
   ]
  },
  {
   "cell_type": "markdown",
   "metadata": {},
   "source": [
    "$$\n",
    "\\begin{tabular}{lrrrr}\n",
    "\\toprule\n",
    "{} &  U00000 &  U00001 &  U00002 &  U00003 \\\\\n",
    "\\midrule\n",
    "P00001 &       1 &       1 &       0 &       0 \\\\\n",
    "P00002 &       0 &       0 &       0 &       1 \\\\\n",
    "P00003 &       0 &       1 &       0 &       0 \\\\\n",
    "P00000 &       0 &       1 &       1 &       1 \\\\\n",
    "\\bottomrule\n",
    "\\end{tabular}\n",
    "$$"
   ]
  },
  {
   "cell_type": "markdown",
   "metadata": {},
   "source": [
    "## Normalisation\n",
    "The ouput of teach analysis would have the save stucture and would be composed of two vectors. The first one should represent the difficulty level of each problem, and the second one theability of each user.\n",
    "\n",
    "Every vector would be normalized such that its magnitude is egual to 1.\n",
    "\n",
    "$ M =\\sqrt{\\sum a_i^2} = 1$\n",
    "\n",
    "To do so, we need to normalize the vector like this:\n",
    "\n",
    "* Compute $M$\n",
    "* $ 0 \\le i \\le n$\n",
    "* for each component => $a_i = \\frac{a_i}{M} $\n",
    "\n",
    "> each component of the vector is devided by the actual magnitude. The result will be a equivalent vector of magnitude 1.\n"
   ]
  },
  {
   "cell_type": "markdown",
   "metadata": {},
   "source": [
    "# First linear method"
   ]
  },
  {
   "cell_type": "markdown",
   "metadata": {},
   "source": [
    "## Difficulty evaluation\n",
    "\n",
    "Here we are going to evaluate for each problem a level of difficulty base on the number of good submissions folowing this rule :\n",
    "\n",
    "$D_p = 1 - \\frac{\\sum_{i=0}^{n} U_i}{U_{tot}} $\n",
    "\n",
    ">The difficulty $D_p$ for a specific problem is define as the *inverted ratio* between the number of successful  users ($U_i$) and the total number of users ($U_{tot}$). \n",
    "\n",
    "We can see that with this method the difficulty of a specific problem is inversely proportional to the number of users that managed to solve it.\n",
    "\n",
    ">*/!\\ Here we disregard the number of tries by users.*\n",
    "\n",
    "After having comuted the difficulty of each problem with that method, we obtain the vector of difficulties that has to be normalized.\n",
    "\n",
    "## Ability evaluation\n",
    "\n",
    "After having normalized the vector of difficulties, we can user it to evaluate the ability fo a specific user regarding the list of problems that he solved.\n",
    "\n",
    "The ability of aspecific user $A_u$ si difine as the addition of the difficulies of the solved problems.\n",
    "\n",
    "    $A_u = \\sum_{i=0}^{n} P_i . D_i$\n",
    "\n",
    "After having computed the ability for each user, we obtain the vector of abilities that still has to be **normalized!**\n",
    "\n",
    "> Once again here, the number of tries doesn't matter.\n"
   ]
  },
  {
   "cell_type": "markdown",
   "metadata": {},
   "source": [
    "# Second linear  method\n",
    "This method is similar to the previous one. But here we will introduce the idea of tries for evaluations.\n",
    "> We can assume that a problem is  harder to solve if the average numbers of tries before success is higher.\n",
    "\n",
    "In the same way, we can say that a user has a worse level if he needs mores tries to solve a problem.\n",
    "\n",
    "So let's introduce the concept of tries in our previous equations..\n",
    "\n",
    "## Difficulty evaluation\n",
    "The evaluation of a problem's difficulty is now simply the ratio between the number of bad submissions and the total of submissions for this problem.\n",
    "\n",
    "More important is that ratio and more difficult is the problem!\n",
    "\n",
    "$D_p = \\frac{\\sum_{i=0}^{n} FS_i}{S_{tot}}  $\n",
    "\n",
    "## Ability evaluation\n",
    "In order to compute the ability of users, we can use the same logic as before. But in addition we need to introduce the number of tries in the equation.\n",
    "\n",
    "To do so we can multiply the difficulty of each problem solved by the ratio of tries for that user.\n",
    "\n",
    "**Ratio of tries :**\n",
    "\n",
    "$R_i = \\frac{1}{R_{toti}}$ \n",
    "\n",
    "$A_u = \\sum_{i=0}^{n} P_i . D_i . R_i $\n",
    "\n",
    "\n",
    "> It should be fine to compare results with or without the introduction of the tries ratio in the ability computation. Indeed, we can see here that the tries ratio appear twice in the computation of the ability (due to the reliance to the previous evaluation) and we need to be sure that doesn't distort the result.\n"
   ]
  },
  {
   "cell_type": "markdown",
   "metadata": {},
   "source": [
    "# Linear methods : Comparison\n",
    "\n",
    "For each vector (*Difficulty and Ability*) we have two linar methods including or not the notion of attempts.\n",
    "\n",
    "Here is a summary of the result for the application of those methods\n",
    "\n",
    "We have 4 different possibilities.\n",
    "\n"
   ]
  },
  {
   "cell_type": "markdown",
   "metadata": {},
   "source": [
    "# Make it iterative\n",
    "\n",
    "A step further now id to determine whether or not an iterative model is relevant in this case.\n",
    "\n",
    "Let's take our previous model and iterate more than once.\n",
    "\n",
    "The initial iteration is nothing but our linear method, with a starting assumption regarding the level of the users. We can say for the first iteration that every users have the same level. \n",
    "\n",
    "Now we can introduce the the vector of abilities for the difficulties computation. If the vector of abilities exist at firt but equitably distributed by users, it wouldn't have any impact at the begining.\n"
   ]
  },
  {
   "cell_type": "markdown",
   "metadata": {},
   "source": [
    "# Singular Vlaue Decomposition"
   ]
  },
  {
   "cell_type": "code",
   "execution_count": null,
   "metadata": {
    "collapsed": true
   },
   "outputs": [],
   "source": []
  }
 ],
 "metadata": {
  "kernelspec": {
   "display_name": "Python 2",
   "language": "python",
   "name": "python2"
  },
  "language_info": {
   "codemirror_mode": {
    "name": "ipython",
    "version": 2
   },
   "file_extension": ".py",
   "mimetype": "text/x-python",
   "name": "python",
   "nbconvert_exporter": "python",
   "pygments_lexer": "ipython2",
   "version": "2.7.11"
  }
 },
 "nbformat": 4,
 "nbformat_minor": 0
}
