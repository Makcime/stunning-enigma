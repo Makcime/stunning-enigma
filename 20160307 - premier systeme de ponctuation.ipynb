{
 "cells": [
  {
   "cell_type": "markdown",
   "metadata": {},
   "source": [
    "Le principe est d'attribué à chaque problème une niveau de difficulté en fonction du nombre d'utilisateur l'ayant résolu. À priori, plus un problème est simple, plus il y a de personne capable de le résoudre.\n",
    "\n",
    "Nous alons testé ce modèle sur un set de problème tiré d'un cours en particulier, et pas sur l'entierté des données dans un premier temps. Cela permetera un validation plus simple du principe de notation. Nous effecturon ensuite un test sur l'entierté des donnée si les résultats sont concluants."
   ]
  },
  {
   "cell_type": "markdown",
   "metadata": {},
   "source": [
    "# Sélection des données.\n",
    "\n",
    "Le cours que nous utiliserons est appelé *Informàtica FME (Tardor 2015)*.\n",
    "\n",
    ">```sql\n",
    "test1=# select title from courses where course_id like 'C00198';\n",
    "             title             \n",
    "-------------------------------\n",
    " Informàtica FME (Tardor 2015)\n",
    "(1 row)\n",
    "```\n",
    "\n",
    "Il est suivi par **77** utilisateurs.\n",
    "\n",
    ">```sql\n",
    "test1=# select count(*) from coursesusers where course_id like 'C00198';\n",
    " count \n",
    "-------\n",
    "    77\n",
    "```\n",
    "\n",
    "Contient **16** listes de problème.\n",
    "\n",
    ">```sql\n",
    "    test1=# select count(*) from courseslists where course_id like 'C00198';\n",
    " count \n",
    "-------\n",
    "    16\n",
    "```\n",
    "\n",
    "Ce qui représente **220** probmèmes\n",
    "\n",
    ">```sql\n",
    "test1=# select count(*) from listitems where list_id in (select list_id from courseslists where course_id like 'C00198');\n",
    " count \n",
    "-------\n",
    "   220\n",
    "```\n",
    "\n"
   ]
  },
  {
   "cell_type": "code",
   "execution_count": 13,
   "metadata": {
    "collapsed": true
   },
   "outputs": [],
   "source": [
    "%matplotlib inline\n",
    "import pandas as pd\n",
    "import numpy as np\n",
    "import matplotlib.pyplot as plt\n",
    "plt.style.use('ggplot')\n",
    "import psycopg2\n",
    "\n",
    "con = psycopg2.connect(\"dbname=test1\")"
   ]
  },
  {
   "cell_type": "code",
   "execution_count": 20,
   "metadata": {
    "collapsed": true
   },
   "outputs": [],
   "source": [
    "coures_nm = \"C00198\""
   ]
  },
  {
   "cell_type": "markdown",
   "metadata": {},
   "source": [
    "## Sélection de users"
   ]
  },
  {
   "cell_type": "code",
   "execution_count": 28,
   "metadata": {
    "collapsed": false
   },
   "outputs": [],
   "source": [
    "coursesusers = pd.read_sql_query(\"select user_id from coursesusers where course_id like '%s';\" % coures_nm,con=con)"
   ]
  },
  {
   "cell_type": "markdown",
   "metadata": {},
   "source": [
    "Nous obtenons une liste d'utilisateurs inscrits à ce cours. Mais il est important d'extraire uniquement les utilisateurs \"normaux\"."
   ]
  },
  {
   "cell_type": "code",
   "execution_count": 262,
   "metadata": {
    "collapsed": false
   },
   "outputs": [
    {
     "data": {
      "text/plain": [
       "user_id    72\n",
       "dtype: int64"
      ]
     },
     "execution_count": 262,
     "metadata": {},
     "output_type": "execute_result"
    }
   ],
   "source": [
    "userslist = [u[0] for u in coursesusers.values if u[0]]\n",
    "req = \"select user_id from users where demo=0 and instructor=0 and administrator=0\\\n",
    "       and user_id in (%s);\" % str(userslist).strip('[]')\n",
    "\n",
    "usersids = pd.read_sql_query(req, con=con)\n",
    "usersids.count()"
   ]
  },
  {
   "cell_type": "markdown",
   "metadata": {},
   "source": [
    "## Sélection des problèmes"
   ]
  },
  {
   "cell_type": "code",
   "execution_count": 263,
   "metadata": {
    "collapsed": false
   },
   "outputs": [
    {
     "data": {
      "text/plain": [
       "problem_nm    220\n",
       "dtype: int64"
      ]
     },
     "execution_count": 263,
     "metadata": {},
     "output_type": "execute_result"
    }
   ],
   "source": [
    "req = \"select problem_nm from listitems where list_id in \\\n",
    "        (select list_id from courseslists where course_id like 'C00198');\"\n",
    "probnms = pd.read_sql_query(req, con=con)\n",
    "probnms.count()"
   ]
  },
  {
   "cell_type": "markdown",
   "metadata": {},
   "source": [
    "## Sélection des soumissions :\n",
    "Nous selectionons toutes les soumissions de chaque problème présent dans la liste en filtrant également en fonction des utilisateurs du cours.\n"
   ]
  },
  {
   "cell_type": "code",
   "execution_count": 264,
   "metadata": {
    "collapsed": false
   },
   "outputs": [],
   "source": [
    "pbs = probnms.problem_nm.values.tolist()\n",
    "usrs = usersids.user_id.values.tolist()\n",
    "submissions = pd.read_sql_query(\"select submission_uid, user_id, problem_id, submission_id, \\\n",
    "                        state, time_out, time_in, veredict, score \\\n",
    "                        from submissions where user_id in (%s);\" % str(usrs).strip('[]'),\n",
    "                       con=con)"
   ]
  },
  {
   "cell_type": "code",
   "execution_count": 265,
   "metadata": {
    "collapsed": false
   },
   "outputs": [
    {
     "data": {
      "text/html": [
       "<div>\n",
       "<table border=\"1\" class=\"dataframe\">\n",
       "  <thead>\n",
       "    <tr style=\"text-align: right;\">\n",
       "      <th></th>\n",
       "      <th>user_id</th>\n",
       "      <th>problem_id</th>\n",
       "      <th>submission_id</th>\n",
       "      <th>state</th>\n",
       "      <th>time_out</th>\n",
       "      <th>time_in</th>\n",
       "      <th>veredict</th>\n",
       "      <th>score</th>\n",
       "    </tr>\n",
       "  </thead>\n",
       "  <tbody>\n",
       "    <tr>\n",
       "      <th>count</th>\n",
       "      <td>25201</td>\n",
       "      <td>25201</td>\n",
       "      <td>25201</td>\n",
       "      <td>25201</td>\n",
       "      <td>25201</td>\n",
       "      <td>25201</td>\n",
       "      <td>25201</td>\n",
       "      <td>135</td>\n",
       "    </tr>\n",
       "    <tr>\n",
       "      <th>unique</th>\n",
       "      <td>72</td>\n",
       "      <td>792</td>\n",
       "      <td>44</td>\n",
       "      <td>1</td>\n",
       "      <td>24962</td>\n",
       "      <td>25025</td>\n",
       "      <td>8</td>\n",
       "      <td>17</td>\n",
       "    </tr>\n",
       "    <tr>\n",
       "      <th>top</th>\n",
       "      <td>U14908</td>\n",
       "      <td>P71839</td>\n",
       "      <td>S001</td>\n",
       "      <td>done</td>\n",
       "      <td>2015-12-07 00:41:29</td>\n",
       "      <td>2015-12-22 13:45:08</td>\n",
       "      <td>AC</td>\n",
       "      <td>100/100</td>\n",
       "    </tr>\n",
       "    <tr>\n",
       "      <th>freq</th>\n",
       "      <td>2357</td>\n",
       "      <td>265</td>\n",
       "      <td>12239</td>\n",
       "      <td>25201</td>\n",
       "      <td>4</td>\n",
       "      <td>2</td>\n",
       "      <td>12206</td>\n",
       "      <td>45</td>\n",
       "    </tr>\n",
       "    <tr>\n",
       "      <th>first</th>\n",
       "      <td>NaN</td>\n",
       "      <td>NaN</td>\n",
       "      <td>NaN</td>\n",
       "      <td>NaN</td>\n",
       "      <td>2010-09-15 15:37:19</td>\n",
       "      <td>2010-09-15 10:38:24</td>\n",
       "      <td>NaN</td>\n",
       "      <td>NaN</td>\n",
       "    </tr>\n",
       "    <tr>\n",
       "      <th>last</th>\n",
       "      <td>NaN</td>\n",
       "      <td>NaN</td>\n",
       "      <td>NaN</td>\n",
       "      <td>NaN</td>\n",
       "      <td>2016-02-24 00:05:31</td>\n",
       "      <td>2016-02-24 00:05:22</td>\n",
       "      <td>NaN</td>\n",
       "      <td>NaN</td>\n",
       "    </tr>\n",
       "  </tbody>\n",
       "</table>\n",
       "</div>"
      ],
      "text/plain": [
       "       user_id problem_id submission_id  state             time_out  \\\n",
       "count    25201      25201         25201  25201                25201   \n",
       "unique      72        792            44      1                24962   \n",
       "top     U14908     P71839          S001   done  2015-12-07 00:41:29   \n",
       "freq      2357        265         12239  25201                    4   \n",
       "first      NaN        NaN           NaN    NaN  2010-09-15 15:37:19   \n",
       "last       NaN        NaN           NaN    NaN  2016-02-24 00:05:31   \n",
       "\n",
       "                    time_in veredict    score  \n",
       "count                 25201    25201      135  \n",
       "unique                25025        8       17  \n",
       "top     2015-12-22 13:45:08       AC  100/100  \n",
       "freq                      2    12206       45  \n",
       "first   2010-09-15 10:38:24      NaN      NaN  \n",
       "last    2016-02-24 00:05:22      NaN      NaN  "
      ]
     },
     "execution_count": 265,
     "metadata": {},
     "output_type": "execute_result"
    }
   ],
   "source": [
    "# Get rid of language ids\n",
    "submissions.problem_id = submissions.problem_id.apply(lambda x: x[:-3])\n",
    "submissions.set_index('submission_uid', inplace=True)\n",
    "submissions.describe()"
   ]
  },
  {
   "cell_type": "markdown",
   "metadata": {},
   "source": [
    "### Soumissions filtrée par la liste de problème contenus dans le cours sélectionné."
   ]
  },
  {
   "cell_type": "code",
   "execution_count": 266,
   "metadata": {
    "collapsed": false
   },
   "outputs": [
    {
     "data": {
      "text/plain": [
       "user_id          18790\n",
       "problem_id       18790\n",
       "submission_id    18790\n",
       "state            18790\n",
       "time_out         18790\n",
       "time_in          18790\n",
       "veredict         18790\n",
       "score                0\n",
       "dtype: int64"
      ]
     },
     "execution_count": 266,
     "metadata": {},
     "output_type": "execute_result"
    }
   ],
   "source": [
    "submissions = submissions[submissions.problem_id.isin(pbs)]\n",
    "submissions.count()"
   ]
  },
  {
   "cell_type": "code",
   "execution_count": 267,
   "metadata": {
    "collapsed": false
   },
   "outputs": [
    {
     "data": {
      "text/html": [
       "<div>\n",
       "<table border=\"1\" class=\"dataframe\">\n",
       "  <thead>\n",
       "    <tr style=\"text-align: right;\">\n",
       "      <th></th>\n",
       "      <th>user_id</th>\n",
       "      <th>problem_id</th>\n",
       "      <th>submission_id</th>\n",
       "      <th>state</th>\n",
       "      <th>time_out</th>\n",
       "      <th>time_in</th>\n",
       "      <th>veredict</th>\n",
       "      <th>score</th>\n",
       "    </tr>\n",
       "  </thead>\n",
       "  <tbody>\n",
       "    <tr>\n",
       "      <th>count</th>\n",
       "      <td>9344</td>\n",
       "      <td>9344</td>\n",
       "      <td>9344</td>\n",
       "      <td>9344</td>\n",
       "      <td>9344</td>\n",
       "      <td>9344</td>\n",
       "      <td>9344</td>\n",
       "      <td>0.0</td>\n",
       "    </tr>\n",
       "    <tr>\n",
       "      <th>unique</th>\n",
       "      <td>72</td>\n",
       "      <td>203</td>\n",
       "      <td>29</td>\n",
       "      <td>1</td>\n",
       "      <td>9295</td>\n",
       "      <td>9299</td>\n",
       "      <td>1</td>\n",
       "      <td>0.0</td>\n",
       "    </tr>\n",
       "    <tr>\n",
       "      <th>top</th>\n",
       "      <td>U00214</td>\n",
       "      <td>P68688</td>\n",
       "      <td>S001</td>\n",
       "      <td>done</td>\n",
       "      <td>2015-09-15 14:05:09</td>\n",
       "      <td>2015-10-27 11:35:56</td>\n",
       "      <td>AC</td>\n",
       "      <td>NaN</td>\n",
       "    </tr>\n",
       "    <tr>\n",
       "      <th>freq</th>\n",
       "      <td>281</td>\n",
       "      <td>84</td>\n",
       "      <td>5470</td>\n",
       "      <td>9344</td>\n",
       "      <td>2</td>\n",
       "      <td>2</td>\n",
       "      <td>9344</td>\n",
       "      <td>NaN</td>\n",
       "    </tr>\n",
       "    <tr>\n",
       "      <th>first</th>\n",
       "      <td>NaN</td>\n",
       "      <td>NaN</td>\n",
       "      <td>NaN</td>\n",
       "      <td>NaN</td>\n",
       "      <td>2010-09-15 15:37:19</td>\n",
       "      <td>2010-09-15 10:45:10</td>\n",
       "      <td>NaN</td>\n",
       "      <td>NaN</td>\n",
       "    </tr>\n",
       "    <tr>\n",
       "      <th>last</th>\n",
       "      <td>NaN</td>\n",
       "      <td>NaN</td>\n",
       "      <td>NaN</td>\n",
       "      <td>NaN</td>\n",
       "      <td>2016-02-23 21:39:42</td>\n",
       "      <td>2016-02-23 21:39:33</td>\n",
       "      <td>NaN</td>\n",
       "      <td>NaN</td>\n",
       "    </tr>\n",
       "  </tbody>\n",
       "</table>\n",
       "</div>"
      ],
      "text/plain": [
       "       user_id problem_id submission_id state             time_out  \\\n",
       "count     9344       9344          9344  9344                 9344   \n",
       "unique      72        203            29     1                 9295   \n",
       "top     U00214     P68688          S001  done  2015-09-15 14:05:09   \n",
       "freq       281         84          5470  9344                    2   \n",
       "first      NaN        NaN           NaN   NaN  2010-09-15 15:37:19   \n",
       "last       NaN        NaN           NaN   NaN  2016-02-23 21:39:42   \n",
       "\n",
       "                    time_in veredict  score  \n",
       "count                  9344     9344    0.0  \n",
       "unique                 9299        1    0.0  \n",
       "top     2015-10-27 11:35:56       AC    NaN  \n",
       "freq                      2     9344    NaN  \n",
       "first   2010-09-15 10:45:10      NaN    NaN  \n",
       "last    2016-02-23 21:39:33      NaN    NaN  "
      ]
     },
     "execution_count": 267,
     "metadata": {},
     "output_type": "execute_result"
    }
   ],
   "source": [
    "goodSubs = submissions[submissions.veredict == 'AC']\n",
    "goodSubs.describe()"
   ]
  },
  {
   "cell_type": "code",
   "execution_count": 268,
   "metadata": {
    "collapsed": false
   },
   "outputs": [
    {
     "data": {
      "text/html": [
       "<div>\n",
       "<table border=\"1\" class=\"dataframe\">\n",
       "  <thead>\n",
       "    <tr style=\"text-align: right;\">\n",
       "      <th></th>\n",
       "      <th>user_id</th>\n",
       "      <th>problem_id</th>\n",
       "      <th>submission_id</th>\n",
       "      <th>state</th>\n",
       "      <th>time_out</th>\n",
       "      <th>time_in</th>\n",
       "      <th>veredict</th>\n",
       "      <th>score</th>\n",
       "    </tr>\n",
       "  </thead>\n",
       "  <tbody>\n",
       "    <tr>\n",
       "      <th>count</th>\n",
       "      <td>9446</td>\n",
       "      <td>9446</td>\n",
       "      <td>9446</td>\n",
       "      <td>9446</td>\n",
       "      <td>9446</td>\n",
       "      <td>9446</td>\n",
       "      <td>9446</td>\n",
       "      <td>0.0</td>\n",
       "    </tr>\n",
       "    <tr>\n",
       "      <th>unique</th>\n",
       "      <td>70</td>\n",
       "      <td>206</td>\n",
       "      <td>44</td>\n",
       "      <td>1</td>\n",
       "      <td>9381</td>\n",
       "      <td>9418</td>\n",
       "      <td>5</td>\n",
       "      <td>0.0</td>\n",
       "    </tr>\n",
       "    <tr>\n",
       "      <th>top</th>\n",
       "      <td>U14908</td>\n",
       "      <td>P34091</td>\n",
       "      <td>S001</td>\n",
       "      <td>done</td>\n",
       "      <td>2015-12-07 00:41:29</td>\n",
       "      <td>2015-12-17 13:25:19</td>\n",
       "      <td>WA</td>\n",
       "      <td>NaN</td>\n",
       "    </tr>\n",
       "    <tr>\n",
       "      <th>freq</th>\n",
       "      <td>886</td>\n",
       "      <td>195</td>\n",
       "      <td>3887</td>\n",
       "      <td>9446</td>\n",
       "      <td>4</td>\n",
       "      <td>2</td>\n",
       "      <td>5140</td>\n",
       "      <td>NaN</td>\n",
       "    </tr>\n",
       "    <tr>\n",
       "      <th>first</th>\n",
       "      <td>NaN</td>\n",
       "      <td>NaN</td>\n",
       "      <td>NaN</td>\n",
       "      <td>NaN</td>\n",
       "      <td>2010-09-15 15:39:00</td>\n",
       "      <td>2010-09-15 10:38:24</td>\n",
       "      <td>NaN</td>\n",
       "      <td>NaN</td>\n",
       "    </tr>\n",
       "    <tr>\n",
       "      <th>last</th>\n",
       "      <td>NaN</td>\n",
       "      <td>NaN</td>\n",
       "      <td>NaN</td>\n",
       "      <td>NaN</td>\n",
       "      <td>2016-02-23 21:20:31</td>\n",
       "      <td>2016-02-23 21:20:23</td>\n",
       "      <td>NaN</td>\n",
       "      <td>NaN</td>\n",
       "    </tr>\n",
       "  </tbody>\n",
       "</table>\n",
       "</div>"
      ],
      "text/plain": [
       "       user_id problem_id submission_id state             time_out  \\\n",
       "count     9446       9446          9446  9446                 9446   \n",
       "unique      70        206            44     1                 9381   \n",
       "top     U14908     P34091          S001  done  2015-12-07 00:41:29   \n",
       "freq       886        195          3887  9446                    4   \n",
       "first      NaN        NaN           NaN   NaN  2010-09-15 15:39:00   \n",
       "last       NaN        NaN           NaN   NaN  2016-02-23 21:20:31   \n",
       "\n",
       "                    time_in veredict  score  \n",
       "count                  9446     9446    0.0  \n",
       "unique                 9418        5    0.0  \n",
       "top     2015-12-17 13:25:19       WA    NaN  \n",
       "freq                      2     5140    NaN  \n",
       "first   2010-09-15 10:38:24      NaN    NaN  \n",
       "last    2016-02-23 21:20:23      NaN    NaN  "
      ]
     },
     "execution_count": 268,
     "metadata": {},
     "output_type": "execute_result"
    }
   ],
   "source": [
    "badSubs = submissions[submissions.veredict != 'AC']\n",
    "badSubs.describe()"
   ]
  },
  {
   "cell_type": "code",
   "execution_count": 269,
   "metadata": {
    "collapsed": false
   },
   "outputs": [
    {
     "data": {
      "text/plain": [
       "<matplotlib.axes._subplots.AxesSubplot at 0x7fab2ebdd250>"
      ]
     },
     "execution_count": 269,
     "metadata": {},
     "output_type": "execute_result"
    },
    {
     "data": {
      "image/png": "[encoded data removed]",
      "text/plain": [
       "<matplotlib.figure.Figure at 0x7fab2b68a9d0>"
      ]
     },
     "metadata": {},
     "output_type": "display_data"
    }
   ],
   "source": [
    "badSubs.groupby('user_id').size().plot(kind='bar', figsize=(16,8))"
   ]
  },
  {
   "cell_type": "code",
   "execution_count": 270,
   "metadata": {
    "collapsed": false
   },
   "outputs": [
    {
     "data": {
      "text/plain": [
       "<matplotlib.axes._subplots.AxesSubplot at 0x7fab298af310>"
      ]
     },
     "execution_count": 270,
     "metadata": {},
     "output_type": "execute_result"
    },
    {
     "data": {
      "image/png": "[encoded data removed]",
      "text/plain": [
       "<matplotlib.figure.Figure at 0x7fab2cf66450>"
      ]
     },
     "metadata": {},
     "output_type": "display_data"
    }
   ],
   "source": [
    "goodSubs.groupby('user_id').size().plot(kind='bar', figsize=(16,8))"
   ]
  },
  {
   "cell_type": "code",
   "execution_count": 312,
   "metadata": {
    "collapsed": false
   },
   "outputs": [],
   "source": [
    "g = goodSubs.groupby('user_id').size()"
   ]
  },
  {
   "cell_type": "code",
   "execution_count": 313,
   "metadata": {
    "collapsed": false
   },
   "outputs": [],
   "source": [
    "b = badSubs.groupby('user_id').size()"
   ]
  },
  {
   "cell_type": "code",
   "execution_count": 340,
   "metadata": {
    "collapsed": false
   },
   "outputs": [
    {
     "data": {
      "text/html": [
       "<div>\n",
       "<table border=\"1\" class=\"dataframe\">\n",
       "  <thead>\n",
       "    <tr style=\"text-align: right;\">\n",
       "      <th></th>\n",
       "      <th>b_user_id</th>\n",
       "      <th>g_user_id</th>\n",
       "    </tr>\n",
       "  </thead>\n",
       "  <tbody>\n",
       "    <tr>\n",
       "      <th>U00214</th>\n",
       "      <td>159.0</td>\n",
       "      <td>281</td>\n",
       "    </tr>\n",
       "    <tr>\n",
       "      <th>U14908</th>\n",
       "      <td>886.0</td>\n",
       "      <td>204</td>\n",
       "    </tr>\n",
       "    <tr>\n",
       "      <th>U16376</th>\n",
       "      <td>87.0</td>\n",
       "      <td>200</td>\n",
       "    </tr>\n",
       "    <tr>\n",
       "      <th>U14913</th>\n",
       "      <td>278.0</td>\n",
       "      <td>195</td>\n",
       "    </tr>\n",
       "    <tr>\n",
       "      <th>U16329</th>\n",
       "      <td>228.0</td>\n",
       "      <td>192</td>\n",
       "    </tr>\n",
       "    <tr>\n",
       "      <th>U15962</th>\n",
       "      <td>120.0</td>\n",
       "      <td>190</td>\n",
       "    </tr>\n",
       "    <tr>\n",
       "      <th>U15961</th>\n",
       "      <td>46.0</td>\n",
       "      <td>186</td>\n",
       "    </tr>\n",
       "    <tr>\n",
       "      <th>U15971</th>\n",
       "      <td>217.0</td>\n",
       "      <td>181</td>\n",
       "    </tr>\n",
       "    <tr>\n",
       "      <th>U12971</th>\n",
       "      <td>160.0</td>\n",
       "      <td>180</td>\n",
       "    </tr>\n",
       "    <tr>\n",
       "      <th>U15958</th>\n",
       "      <td>148.0</td>\n",
       "      <td>179</td>\n",
       "    </tr>\n",
       "  </tbody>\n",
       "</table>\n",
       "</div>"
      ],
      "text/plain": [
       "        b_user_id  g_user_id\n",
       "U00214      159.0        281\n",
       "U14908      886.0        204\n",
       "U16376       87.0        200\n",
       "U14913      278.0        195\n",
       "U16329      228.0        192\n",
       "U15962      120.0        190\n",
       "U15961       46.0        186\n",
       "U15971      217.0        181\n",
       "U12971      160.0        180\n",
       "U15958      148.0        179"
      ]
     },
     "execution_count": 340,
     "metadata": {},
     "output_type": "execute_result"
    },
    {
     "data": {
      "image/png": "[encoded data removed]",
      "text/plain": [
       "<matplotlib.figure.Figure at 0x7fab2f620310>"
      ]
     },
     "metadata": {},
     "output_type": "display_data"
    }
   ],
   "source": [
    "data = pd.DataFrame({'g_user_id': g,'b_user_id':b})\n",
    "data.sort_values(by='g_user_id', inplace=True, ascending=False)\n",
    "data.plot(kind='bar', figsize=(16,8))\n",
    "data.head(10)"
   ]
  },
  {
   "cell_type": "code",
   "execution_count": 369,
   "metadata": {
    "collapsed": false
   },
   "outputs": [
    {
     "data": {
      "text/plain": [
       "<matplotlib.axes._subplots.AxesSubplot at 0x7fab26b58a50>"
      ]
     },
     "execution_count": 369,
     "metadata": {},
     "output_type": "execute_result"
    },
    {
     "data": {
      "image/png": "[encoded data removed]",
      "text/plain": [
       "<matplotlib.figure.Figure at 0x7fab2f564b90>"
      ]
     },
     "metadata": {},
     "output_type": "display_data"
    }
   ],
   "source": [
    "data = pd.DataFrame({'g_user_id': g,'b_user_id':b})\n",
    "data.sort_values(by='b_user_id', inplace=True, ascending=True)\n",
    "data.plot(kind='bar', figsize=(16,8))"
   ]
  },
  {
   "cell_type": "code",
   "execution_count": 371,
   "metadata": {
    "collapsed": false
   },
   "outputs": [
    {
     "data": {
      "text/plain": [
       "<matplotlib.axes._subplots.AxesSubplot at 0x7fab26857f90>"
      ]
     },
     "execution_count": 371,
     "metadata": {},
     "output_type": "execute_result"
    },
    {
     "data": {
      "image/png": "[encoded data removed]",
      "text/plain": [
       "<matplotlib.figure.Figure at 0x7fab2acd5d50>"
      ]
     },
     "metadata": {},
     "output_type": "display_data"
    }
   ],
   "source": [
    "data = pd.DataFrame({'g_user_id': g,'b_user_id':b})\n",
    "data['ratio'] = data['g_user_id'] / data['b_user_id']\n",
    "data.sort_values(by='ratio', inplace=True, ascending=False)\n",
    "data.ratio.plot(kind='bar', figsize=(16,8))"
   ]
  },
  {
   "cell_type": "code",
   "execution_count": 372,
   "metadata": {
    "collapsed": false
   },
   "outputs": [],
   "source": [
    "data = pd.DataFrame({'g_user_id': g,'b_user_id':b})\n",
    "data['ratio'] = data['g_user_id'] / data['b_user_id']"
   ]
  },
  {
   "cell_type": "markdown",
   "metadata": {},
   "source": [
    "### 10 users with less bad soumission"
   ]
  },
  {
   "cell_type": "code",
   "execution_count": 373,
   "metadata": {
    "collapsed": false
   },
   "outputs": [
    {
     "data": {
      "text/html": [
       "<div>\n",
       "<table border=\"1\" class=\"dataframe\">\n",
       "  <thead>\n",
       "    <tr style=\"text-align: right;\">\n",
       "      <th></th>\n",
       "      <th>b_user_id</th>\n",
       "      <th>g_user_id</th>\n",
       "      <th>ratio</th>\n",
       "    </tr>\n",
       "  </thead>\n",
       "  <tbody>\n",
       "    <tr>\n",
       "      <th>U14908</th>\n",
       "      <td>886.0</td>\n",
       "      <td>204</td>\n",
       "      <td>0.230248</td>\n",
       "    </tr>\n",
       "    <tr>\n",
       "      <th>U15969</th>\n",
       "      <td>321.0</td>\n",
       "      <td>161</td>\n",
       "      <td>0.501558</td>\n",
       "    </tr>\n",
       "    <tr>\n",
       "      <th>U14913</th>\n",
       "      <td>278.0</td>\n",
       "      <td>195</td>\n",
       "      <td>0.701439</td>\n",
       "    </tr>\n",
       "    <tr>\n",
       "      <th>U14949</th>\n",
       "      <td>278.0</td>\n",
       "      <td>162</td>\n",
       "      <td>0.582734</td>\n",
       "    </tr>\n",
       "    <tr>\n",
       "      <th>U15966</th>\n",
       "      <td>270.0</td>\n",
       "      <td>143</td>\n",
       "      <td>0.529630</td>\n",
       "    </tr>\n",
       "    <tr>\n",
       "      <th>U15967</th>\n",
       "      <td>235.0</td>\n",
       "      <td>147</td>\n",
       "      <td>0.625532</td>\n",
       "    </tr>\n",
       "    <tr>\n",
       "      <th>U14903</th>\n",
       "      <td>233.0</td>\n",
       "      <td>115</td>\n",
       "      <td>0.493562</td>\n",
       "    </tr>\n",
       "    <tr>\n",
       "      <th>U16329</th>\n",
       "      <td>228.0</td>\n",
       "      <td>192</td>\n",
       "      <td>0.842105</td>\n",
       "    </tr>\n",
       "    <tr>\n",
       "      <th>U16409</th>\n",
       "      <td>222.0</td>\n",
       "      <td>176</td>\n",
       "      <td>0.792793</td>\n",
       "    </tr>\n",
       "    <tr>\n",
       "      <th>U15971</th>\n",
       "      <td>217.0</td>\n",
       "      <td>181</td>\n",
       "      <td>0.834101</td>\n",
       "    </tr>\n",
       "  </tbody>\n",
       "</table>\n",
       "</div>"
      ],
      "text/plain": [
       "        b_user_id  g_user_id     ratio\n",
       "U14908      886.0        204  0.230248\n",
       "U15969      321.0        161  0.501558\n",
       "U14913      278.0        195  0.701439\n",
       "U14949      278.0        162  0.582734\n",
       "U15966      270.0        143  0.529630\n",
       "U15967      235.0        147  0.625532\n",
       "U14903      233.0        115  0.493562\n",
       "U16329      228.0        192  0.842105\n",
       "U16409      222.0        176  0.792793\n",
       "U15971      217.0        181  0.834101"
      ]
     },
     "execution_count": 373,
     "metadata": {},
     "output_type": "execute_result"
    }
   ],
   "source": [
    "data.sort_values(by='b_user_id', inplace=True, ascending=False)\n",
    "data.head(10)"
   ]
  },
  {
   "cell_type": "markdown",
   "metadata": {},
   "source": [
    "### 10 users with more good soumission"
   ]
  },
  {
   "cell_type": "code",
   "execution_count": 374,
   "metadata": {
    "collapsed": false
   },
   "outputs": [
    {
     "data": {
      "text/html": [
       "<div>\n",
       "<table border=\"1\" class=\"dataframe\">\n",
       "  <thead>\n",
       "    <tr style=\"text-align: right;\">\n",
       "      <th></th>\n",
       "      <th>b_user_id</th>\n",
       "      <th>g_user_id</th>\n",
       "      <th>ratio</th>\n",
       "    </tr>\n",
       "  </thead>\n",
       "  <tbody>\n",
       "    <tr>\n",
       "      <th>U00214</th>\n",
       "      <td>159.0</td>\n",
       "      <td>281</td>\n",
       "      <td>1.767296</td>\n",
       "    </tr>\n",
       "    <tr>\n",
       "      <th>U14908</th>\n",
       "      <td>886.0</td>\n",
       "      <td>204</td>\n",
       "      <td>0.230248</td>\n",
       "    </tr>\n",
       "    <tr>\n",
       "      <th>U16376</th>\n",
       "      <td>87.0</td>\n",
       "      <td>200</td>\n",
       "      <td>2.298851</td>\n",
       "    </tr>\n",
       "    <tr>\n",
       "      <th>U14913</th>\n",
       "      <td>278.0</td>\n",
       "      <td>195</td>\n",
       "      <td>0.701439</td>\n",
       "    </tr>\n",
       "    <tr>\n",
       "      <th>U16329</th>\n",
       "      <td>228.0</td>\n",
       "      <td>192</td>\n",
       "      <td>0.842105</td>\n",
       "    </tr>\n",
       "    <tr>\n",
       "      <th>U15962</th>\n",
       "      <td>120.0</td>\n",
       "      <td>190</td>\n",
       "      <td>1.583333</td>\n",
       "    </tr>\n",
       "    <tr>\n",
       "      <th>U15961</th>\n",
       "      <td>46.0</td>\n",
       "      <td>186</td>\n",
       "      <td>4.043478</td>\n",
       "    </tr>\n",
       "    <tr>\n",
       "      <th>U15971</th>\n",
       "      <td>217.0</td>\n",
       "      <td>181</td>\n",
       "      <td>0.834101</td>\n",
       "    </tr>\n",
       "    <tr>\n",
       "      <th>U12971</th>\n",
       "      <td>160.0</td>\n",
       "      <td>180</td>\n",
       "      <td>1.125000</td>\n",
       "    </tr>\n",
       "    <tr>\n",
       "      <th>U15958</th>\n",
       "      <td>148.0</td>\n",
       "      <td>179</td>\n",
       "      <td>1.209459</td>\n",
       "    </tr>\n",
       "  </tbody>\n",
       "</table>\n",
       "</div>"
      ],
      "text/plain": [
       "        b_user_id  g_user_id     ratio\n",
       "U00214      159.0        281  1.767296\n",
       "U14908      886.0        204  0.230248\n",
       "U16376       87.0        200  2.298851\n",
       "U14913      278.0        195  0.701439\n",
       "U16329      228.0        192  0.842105\n",
       "U15962      120.0        190  1.583333\n",
       "U15961       46.0        186  4.043478\n",
       "U15971      217.0        181  0.834101\n",
       "U12971      160.0        180  1.125000\n",
       "U15958      148.0        179  1.209459"
      ]
     },
     "execution_count": 374,
     "metadata": {},
     "output_type": "execute_result"
    }
   ],
   "source": [
    "data.sort_values(by='g_user_id', inplace=True, ascending=False)\n",
    "data.head(10)"
   ]
  },
  {
   "cell_type": "markdown",
   "metadata": {},
   "source": [
    "### 10 users with best ratio"
   ]
  },
  {
   "cell_type": "code",
   "execution_count": 375,
   "metadata": {
    "collapsed": false
   },
   "outputs": [
    {
     "data": {
      "text/html": [
       "<div>\n",
       "<table border=\"1\" class=\"dataframe\">\n",
       "  <thead>\n",
       "    <tr style=\"text-align: right;\">\n",
       "      <th></th>\n",
       "      <th>b_user_id</th>\n",
       "      <th>g_user_id</th>\n",
       "      <th>ratio</th>\n",
       "    </tr>\n",
       "  </thead>\n",
       "  <tbody>\n",
       "    <tr>\n",
       "      <th>U16326</th>\n",
       "      <td>29.0</td>\n",
       "      <td>134</td>\n",
       "      <td>4.620690</td>\n",
       "    </tr>\n",
       "    <tr>\n",
       "      <th>U16332</th>\n",
       "      <td>30.0</td>\n",
       "      <td>136</td>\n",
       "      <td>4.533333</td>\n",
       "    </tr>\n",
       "    <tr>\n",
       "      <th>U15961</th>\n",
       "      <td>46.0</td>\n",
       "      <td>186</td>\n",
       "      <td>4.043478</td>\n",
       "    </tr>\n",
       "    <tr>\n",
       "      <th>U16346</th>\n",
       "      <td>36.0</td>\n",
       "      <td>135</td>\n",
       "      <td>3.750000</td>\n",
       "    </tr>\n",
       "    <tr>\n",
       "      <th>U16609</th>\n",
       "      <td>27.0</td>\n",
       "      <td>100</td>\n",
       "      <td>3.703704</td>\n",
       "    </tr>\n",
       "    <tr>\n",
       "      <th>U16384</th>\n",
       "      <td>50.0</td>\n",
       "      <td>162</td>\n",
       "      <td>3.240000</td>\n",
       "    </tr>\n",
       "    <tr>\n",
       "      <th>U15963</th>\n",
       "      <td>8.0</td>\n",
       "      <td>22</td>\n",
       "      <td>2.750000</td>\n",
       "    </tr>\n",
       "    <tr>\n",
       "      <th>U16378</th>\n",
       "      <td>52.0</td>\n",
       "      <td>140</td>\n",
       "      <td>2.692308</td>\n",
       "    </tr>\n",
       "    <tr>\n",
       "      <th>U16377</th>\n",
       "      <td>16.0</td>\n",
       "      <td>43</td>\n",
       "      <td>2.687500</td>\n",
       "    </tr>\n",
       "    <tr>\n",
       "      <th>U16330</th>\n",
       "      <td>32.0</td>\n",
       "      <td>86</td>\n",
       "      <td>2.687500</td>\n",
       "    </tr>\n",
       "  </tbody>\n",
       "</table>\n",
       "</div>"
      ],
      "text/plain": [
       "        b_user_id  g_user_id     ratio\n",
       "U16326       29.0        134  4.620690\n",
       "U16332       30.0        136  4.533333\n",
       "U15961       46.0        186  4.043478\n",
       "U16346       36.0        135  3.750000\n",
       "U16609       27.0        100  3.703704\n",
       "U16384       50.0        162  3.240000\n",
       "U15963        8.0         22  2.750000\n",
       "U16378       52.0        140  2.692308\n",
       "U16377       16.0         43  2.687500\n",
       "U16330       32.0         86  2.687500"
      ]
     },
     "execution_count": 375,
     "metadata": {},
     "output_type": "execute_result"
    }
   ],
   "source": [
    "data.sort_values(by='ratio', inplace=True, ascending=False)\n",
    "data.head(10)"
   ]
  },
  {
   "cell_type": "markdown",
   "metadata": {},
   "source": [
    "## Evaluation du niveau de difficulté de chaque problème\n",
    "\n",
    "Nous utilisons le rapport entre le nombre de soumission acceeptées et rejetées.\n",
    "\n",
    "Plus un problème est compliqué, plus il faut de tentative sera important."
   ]
  },
  {
   "cell_type": "code",
   "execution_count": 416,
   "metadata": {
    "collapsed": false
   },
   "outputs": [],
   "source": [
    "prob_eval = pd.DataFrame()\n",
    "prob_eval['goodSubs'] = goodSubs.groupby('problem_id').size()\n",
    "prob_eval['badSubs'] = badSubs.groupby('problem_id').size()\n",
    "prob_eval['difficulty'] = prob_eval['badSubs'] / prob_eval['goodSubs']"
   ]
  },
  {
   "cell_type": "code",
   "execution_count": 417,
   "metadata": {
    "collapsed": false
   },
   "outputs": [
    {
     "name": "stdout",
     "output_type": "stream",
     "text": [
      "<class 'pandas.core.frame.DataFrame'>\n",
      "Index: 203 entries, P10694 to P99555\n",
      "Data columns (total 3 columns):\n",
      "goodSubs      203 non-null int64\n",
      "badSubs       202 non-null float64\n",
      "difficulty    202 non-null float64\n",
      "dtypes: float64(2), int64(1)\n",
      "memory usage: 6.3+ KB\n",
      "None\n",
      "         goodSubs     badSubs  difficulty\n",
      "count  203.000000  202.000000  202.000000\n",
      "mean    46.029557   46.589109    1.269516\n",
      "std     21.564986   36.995824    1.249502\n",
      "min      1.000000    1.000000    0.018182\n",
      "25%     28.000000   20.000000    0.485000\n",
      "50%     54.000000   37.000000    0.846465\n",
      "75%     64.000000   62.750000    1.512580\n",
      "max     84.000000  195.000000    8.000000\n"
     ]
    }
   ],
   "source": [
    "print prob_eval.info()\n",
    "print prob_eval.describe()"
   ]
  },
  {
   "cell_type": "code",
   "execution_count": 422,
   "metadata": {
    "collapsed": false
   },
   "outputs": [
    {
     "data": {
      "text/plain": [
       "count    202.000000\n",
       "mean       1.269516\n",
       "std        1.249502\n",
       "min        0.018182\n",
       "25%        0.485000\n",
       "50%        0.846465\n",
       "75%        1.512580\n",
       "max        8.000000\n",
       "Name: difficulty, dtype: float64"
      ]
     },
     "execution_count": 422,
     "metadata": {},
     "output_type": "execute_result"
    }
   ],
   "source": [
    "prob_eval.sort_values(by='difficulty', inplace=True, ascending=False)\n",
    "prob_eval.difficulty.describe()#.head(10)"
   ]
  },
  {
   "cell_type": "code",
   "execution_count": 423,
   "metadata": {
    "collapsed": false
   },
   "outputs": [
    {
     "data": {
      "text/html": [
       "<div>\n",
       "<table border=\"1\" class=\"dataframe\">\n",
       "  <thead>\n",
       "    <tr style=\"text-align: right;\">\n",
       "      <th></th>\n",
       "      <th>goodSubs</th>\n",
       "      <th>badSubs</th>\n",
       "      <th>difficulty</th>\n",
       "    </tr>\n",
       "    <tr>\n",
       "      <th>problem_id</th>\n",
       "      <th></th>\n",
       "      <th></th>\n",
       "      <th></th>\n",
       "    </tr>\n",
       "  </thead>\n",
       "  <tbody>\n",
       "    <tr>\n",
       "      <th>P98577</th>\n",
       "      <td>3</td>\n",
       "      <td>24.0</td>\n",
       "      <td>8.000000</td>\n",
       "    </tr>\n",
       "    <tr>\n",
       "      <th>P40593</th>\n",
       "      <td>20</td>\n",
       "      <td>143.0</td>\n",
       "      <td>7.150000</td>\n",
       "    </tr>\n",
       "    <tr>\n",
       "      <th>P19724</th>\n",
       "      <td>3</td>\n",
       "      <td>17.0</td>\n",
       "      <td>5.666667</td>\n",
       "    </tr>\n",
       "    <tr>\n",
       "      <th>P25992</th>\n",
       "      <td>18</td>\n",
       "      <td>97.0</td>\n",
       "      <td>5.388889</td>\n",
       "    </tr>\n",
       "    <tr>\n",
       "      <th>P65538</th>\n",
       "      <td>19</td>\n",
       "      <td>93.0</td>\n",
       "      <td>4.894737</td>\n",
       "    </tr>\n",
       "    <tr>\n",
       "      <th>P46584</th>\n",
       "      <td>24</td>\n",
       "      <td>117.0</td>\n",
       "      <td>4.875000</td>\n",
       "    </tr>\n",
       "    <tr>\n",
       "      <th>P16072</th>\n",
       "      <td>29</td>\n",
       "      <td>128.0</td>\n",
       "      <td>4.413793</td>\n",
       "    </tr>\n",
       "    <tr>\n",
       "      <th>P21281</th>\n",
       "      <td>32</td>\n",
       "      <td>139.0</td>\n",
       "      <td>4.343750</td>\n",
       "    </tr>\n",
       "    <tr>\n",
       "      <th>P90817</th>\n",
       "      <td>7</td>\n",
       "      <td>29.0</td>\n",
       "      <td>4.142857</td>\n",
       "    </tr>\n",
       "    <tr>\n",
       "      <th>P99555</th>\n",
       "      <td>33</td>\n",
       "      <td>128.0</td>\n",
       "      <td>3.878788</td>\n",
       "    </tr>\n",
       "  </tbody>\n",
       "</table>\n",
       "</div>"
      ],
      "text/plain": [
       "            goodSubs  badSubs  difficulty\n",
       "problem_id                               \n",
       "P98577             3     24.0    8.000000\n",
       "P40593            20    143.0    7.150000\n",
       "P19724             3     17.0    5.666667\n",
       "P25992            18     97.0    5.388889\n",
       "P65538            19     93.0    4.894737\n",
       "P46584            24    117.0    4.875000\n",
       "P16072            29    128.0    4.413793\n",
       "P21281            32    139.0    4.343750\n",
       "P90817             7     29.0    4.142857\n",
       "P99555            33    128.0    3.878788"
      ]
     },
     "execution_count": 423,
     "metadata": {},
     "output_type": "execute_result"
    }
   ],
   "source": [
    "prob_eval.head(10)"
   ]
  },
  {
   "cell_type": "code",
   "execution_count": 424,
   "metadata": {
    "collapsed": true
   },
   "outputs": [],
   "source": [
    "prob_eval['difficulty'] = prob_eval['badSubs'] / prob_eval['goodSubs'] * (prob_eval['goodSubs']+prob_eval['badSubs'])"
   ]
  },
  {
   "cell_type": "code",
   "execution_count": 426,
   "metadata": {
    "collapsed": false
   },
   "outputs": [
    {
     "data": {
      "text/plain": [
       "count     202.000000\n",
       "mean      132.069621\n",
       "std       173.355573\n",
       "min         1.018182\n",
       "25%        31.891023\n",
       "50%        63.954706\n",
       "75%       163.384057\n",
       "max      1165.450000\n",
       "Name: difficulty, dtype: float64"
      ]
     },
     "execution_count": 426,
     "metadata": {},
     "output_type": "execute_result"
    }
   ],
   "source": [
    "prob_eval.sort_values(by='difficulty', inplace=True, ascending=False)\n",
    "prob_eval.difficulty.describe()#.head(10)"
   ]
  },
  {
   "cell_type": "code",
   "execution_count": 428,
   "metadata": {
    "collapsed": false
   },
   "outputs": [
    {
     "data": {
      "text/html": [
       "<div>\n",
       "<table border=\"1\" class=\"dataframe\">\n",
       "  <thead>\n",
       "    <tr style=\"text-align: right;\">\n",
       "      <th></th>\n",
       "      <th>goodSubs</th>\n",
       "      <th>badSubs</th>\n",
       "      <th>difficulty</th>\n",
       "    </tr>\n",
       "    <tr>\n",
       "      <th>problem_id</th>\n",
       "      <th></th>\n",
       "      <th></th>\n",
       "      <th></th>\n",
       "    </tr>\n",
       "  </thead>\n",
       "  <tbody>\n",
       "    <tr>\n",
       "      <th>P40593</th>\n",
       "      <td>20</td>\n",
       "      <td>143.0</td>\n",
       "      <td>1165.450000</td>\n",
       "    </tr>\n",
       "    <tr>\n",
       "      <th>P34091</th>\n",
       "      <td>63</td>\n",
       "      <td>195.0</td>\n",
       "      <td>798.571429</td>\n",
       "    </tr>\n",
       "    <tr>\n",
       "      <th>P21281</th>\n",
       "      <td>32</td>\n",
       "      <td>139.0</td>\n",
       "      <td>742.781250</td>\n",
       "    </tr>\n",
       "    <tr>\n",
       "      <th>P16072</th>\n",
       "      <td>29</td>\n",
       "      <td>128.0</td>\n",
       "      <td>692.965517</td>\n",
       "    </tr>\n",
       "    <tr>\n",
       "      <th>P46584</th>\n",
       "      <td>24</td>\n",
       "      <td>117.0</td>\n",
       "      <td>687.375000</td>\n",
       "    </tr>\n",
       "    <tr>\n",
       "      <th>P43557</th>\n",
       "      <td>37</td>\n",
       "      <td>137.0</td>\n",
       "      <td>644.270270</td>\n",
       "    </tr>\n",
       "    <tr>\n",
       "      <th>P99555</th>\n",
       "      <td>33</td>\n",
       "      <td>128.0</td>\n",
       "      <td>624.484848</td>\n",
       "    </tr>\n",
       "    <tr>\n",
       "      <th>P25992</th>\n",
       "      <td>18</td>\n",
       "      <td>97.0</td>\n",
       "      <td>619.722222</td>\n",
       "    </tr>\n",
       "    <tr>\n",
       "      <th>P65538</th>\n",
       "      <td>19</td>\n",
       "      <td>93.0</td>\n",
       "      <td>548.210526</td>\n",
       "    </tr>\n",
       "    <tr>\n",
       "      <th>P22467</th>\n",
       "      <td>65</td>\n",
       "      <td>156.0</td>\n",
       "      <td>530.400000</td>\n",
       "    </tr>\n",
       "    <tr>\n",
       "      <th>P15695</th>\n",
       "      <td>32</td>\n",
       "      <td>115.0</td>\n",
       "      <td>528.281250</td>\n",
       "    </tr>\n",
       "    <tr>\n",
       "      <th>P51126</th>\n",
       "      <td>71</td>\n",
       "      <td>159.0</td>\n",
       "      <td>515.070423</td>\n",
       "    </tr>\n",
       "    <tr>\n",
       "      <th>P24080</th>\n",
       "      <td>61</td>\n",
       "      <td>148.0</td>\n",
       "      <td>507.081967</td>\n",
       "    </tr>\n",
       "    <tr>\n",
       "      <th>P27411</th>\n",
       "      <td>58</td>\n",
       "      <td>133.0</td>\n",
       "      <td>437.982759</td>\n",
       "    </tr>\n",
       "    <tr>\n",
       "      <th>P29094</th>\n",
       "      <td>44</td>\n",
       "      <td>118.0</td>\n",
       "      <td>434.454545</td>\n",
       "    </tr>\n",
       "    <tr>\n",
       "      <th>P85696</th>\n",
       "      <td>57</td>\n",
       "      <td>129.0</td>\n",
       "      <td>420.947368</td>\n",
       "    </tr>\n",
       "    <tr>\n",
       "      <th>P52233</th>\n",
       "      <td>48</td>\n",
       "      <td>116.0</td>\n",
       "      <td>396.333333</td>\n",
       "    </tr>\n",
       "    <tr>\n",
       "      <th>P97156</th>\n",
       "      <td>83</td>\n",
       "      <td>140.0</td>\n",
       "      <td>376.144578</td>\n",
       "    </tr>\n",
       "    <tr>\n",
       "      <th>P84584</th>\n",
       "      <td>21</td>\n",
       "      <td>78.0</td>\n",
       "      <td>367.714286</td>\n",
       "    </tr>\n",
       "    <tr>\n",
       "      <th>P35957</th>\n",
       "      <td>32</td>\n",
       "      <td>92.0</td>\n",
       "      <td>356.500000</td>\n",
       "    </tr>\n",
       "    <tr>\n",
       "      <th>P11141</th>\n",
       "      <td>23</td>\n",
       "      <td>78.0</td>\n",
       "      <td>342.521739</td>\n",
       "    </tr>\n",
       "    <tr>\n",
       "      <th>P45616</th>\n",
       "      <td>50</td>\n",
       "      <td>107.0</td>\n",
       "      <td>335.980000</td>\n",
       "    </tr>\n",
       "    <tr>\n",
       "      <th>P12061</th>\n",
       "      <td>37</td>\n",
       "      <td>88.0</td>\n",
       "      <td>297.297297</td>\n",
       "    </tr>\n",
       "    <tr>\n",
       "      <th>P18203</th>\n",
       "      <td>22</td>\n",
       "      <td>70.0</td>\n",
       "      <td>292.727273</td>\n",
       "    </tr>\n",
       "    <tr>\n",
       "      <th>P81966</th>\n",
       "      <td>46</td>\n",
       "      <td>94.0</td>\n",
       "      <td>286.086957</td>\n",
       "    </tr>\n",
       "    <tr>\n",
       "      <th>P58459</th>\n",
       "      <td>58</td>\n",
       "      <td>102.0</td>\n",
       "      <td>281.379310</td>\n",
       "    </tr>\n",
       "    <tr>\n",
       "      <th>P34279</th>\n",
       "      <td>70</td>\n",
       "      <td>106.0</td>\n",
       "      <td>266.514286</td>\n",
       "    </tr>\n",
       "    <tr>\n",
       "      <th>P15613</th>\n",
       "      <td>67</td>\n",
       "      <td>101.0</td>\n",
       "      <td>253.253731</td>\n",
       "    </tr>\n",
       "    <tr>\n",
       "      <th>P70093</th>\n",
       "      <td>40</td>\n",
       "      <td>82.0</td>\n",
       "      <td>250.100000</td>\n",
       "    </tr>\n",
       "    <tr>\n",
       "      <th>P53361</th>\n",
       "      <td>34</td>\n",
       "      <td>76.0</td>\n",
       "      <td>245.882353</td>\n",
       "    </tr>\n",
       "    <tr>\n",
       "      <th>...</th>\n",
       "      <td>...</td>\n",
       "      <td>...</td>\n",
       "      <td>...</td>\n",
       "    </tr>\n",
       "    <tr>\n",
       "      <th>P45829</th>\n",
       "      <td>11</td>\n",
       "      <td>10.0</td>\n",
       "      <td>19.090909</td>\n",
       "    </tr>\n",
       "    <tr>\n",
       "      <th>P13623</th>\n",
       "      <td>66</td>\n",
       "      <td>15.0</td>\n",
       "      <td>18.409091</td>\n",
       "    </tr>\n",
       "    <tr>\n",
       "      <th>P66529</th>\n",
       "      <td>12</td>\n",
       "      <td>10.0</td>\n",
       "      <td>18.333333</td>\n",
       "    </tr>\n",
       "    <tr>\n",
       "      <th>P69977</th>\n",
       "      <td>33</td>\n",
       "      <td>13.0</td>\n",
       "      <td>18.121212</td>\n",
       "    </tr>\n",
       "    <tr>\n",
       "      <th>P76024</th>\n",
       "      <td>51</td>\n",
       "      <td>14.0</td>\n",
       "      <td>17.843137</td>\n",
       "    </tr>\n",
       "    <tr>\n",
       "      <th>P94857</th>\n",
       "      <td>25</td>\n",
       "      <td>12.0</td>\n",
       "      <td>17.760000</td>\n",
       "    </tr>\n",
       "    <tr>\n",
       "      <th>P42672</th>\n",
       "      <td>41</td>\n",
       "      <td>13.0</td>\n",
       "      <td>17.121951</td>\n",
       "    </tr>\n",
       "    <tr>\n",
       "      <th>P20262</th>\n",
       "      <td>28</td>\n",
       "      <td>11.0</td>\n",
       "      <td>15.321429</td>\n",
       "    </tr>\n",
       "    <tr>\n",
       "      <th>P95520</th>\n",
       "      <td>14</td>\n",
       "      <td>8.0</td>\n",
       "      <td>12.571429</td>\n",
       "    </tr>\n",
       "    <tr>\n",
       "      <th>P45102</th>\n",
       "      <td>26</td>\n",
       "      <td>9.0</td>\n",
       "      <td>12.115385</td>\n",
       "    </tr>\n",
       "    <tr>\n",
       "      <th>P60689</th>\n",
       "      <td>1</td>\n",
       "      <td>3.0</td>\n",
       "      <td>12.000000</td>\n",
       "    </tr>\n",
       "    <tr>\n",
       "      <th>P33810</th>\n",
       "      <td>2</td>\n",
       "      <td>4.0</td>\n",
       "      <td>12.000000</td>\n",
       "    </tr>\n",
       "    <tr>\n",
       "      <th>P31618</th>\n",
       "      <td>6</td>\n",
       "      <td>6.0</td>\n",
       "      <td>12.000000</td>\n",
       "    </tr>\n",
       "    <tr>\n",
       "      <th>P62467</th>\n",
       "      <td>60</td>\n",
       "      <td>10.0</td>\n",
       "      <td>11.666667</td>\n",
       "    </tr>\n",
       "    <tr>\n",
       "      <th>P67454</th>\n",
       "      <td>53</td>\n",
       "      <td>9.0</td>\n",
       "      <td>10.528302</td>\n",
       "    </tr>\n",
       "    <tr>\n",
       "      <th>P92845</th>\n",
       "      <td>3</td>\n",
       "      <td>4.0</td>\n",
       "      <td>9.333333</td>\n",
       "    </tr>\n",
       "    <tr>\n",
       "      <th>P20006</th>\n",
       "      <td>53</td>\n",
       "      <td>8.0</td>\n",
       "      <td>9.207547</td>\n",
       "    </tr>\n",
       "    <tr>\n",
       "      <th>P70190</th>\n",
       "      <td>23</td>\n",
       "      <td>7.0</td>\n",
       "      <td>9.130435</td>\n",
       "    </tr>\n",
       "    <tr>\n",
       "      <th>P87679</th>\n",
       "      <td>13</td>\n",
       "      <td>6.0</td>\n",
       "      <td>8.769231</td>\n",
       "    </tr>\n",
       "    <tr>\n",
       "      <th>P56276</th>\n",
       "      <td>2</td>\n",
       "      <td>3.0</td>\n",
       "      <td>7.500000</td>\n",
       "    </tr>\n",
       "    <tr>\n",
       "      <th>P60825</th>\n",
       "      <td>4</td>\n",
       "      <td>3.0</td>\n",
       "      <td>5.250000</td>\n",
       "    </tr>\n",
       "    <tr>\n",
       "      <th>P63888</th>\n",
       "      <td>17</td>\n",
       "      <td>4.0</td>\n",
       "      <td>4.941176</td>\n",
       "    </tr>\n",
       "    <tr>\n",
       "      <th>P29031</th>\n",
       "      <td>6</td>\n",
       "      <td>3.0</td>\n",
       "      <td>4.500000</td>\n",
       "    </tr>\n",
       "    <tr>\n",
       "      <th>P41221</th>\n",
       "      <td>72</td>\n",
       "      <td>4.0</td>\n",
       "      <td>4.222222</td>\n",
       "    </tr>\n",
       "    <tr>\n",
       "      <th>P74753</th>\n",
       "      <td>11</td>\n",
       "      <td>3.0</td>\n",
       "      <td>3.818182</td>\n",
       "    </tr>\n",
       "    <tr>\n",
       "      <th>P79860</th>\n",
       "      <td>57</td>\n",
       "      <td>2.0</td>\n",
       "      <td>2.070175</td>\n",
       "    </tr>\n",
       "    <tr>\n",
       "      <th>P11914</th>\n",
       "      <td>1</td>\n",
       "      <td>1.0</td>\n",
       "      <td>2.000000</td>\n",
       "    </tr>\n",
       "    <tr>\n",
       "      <th>P85370</th>\n",
       "      <td>20</td>\n",
       "      <td>1.0</td>\n",
       "      <td>1.050000</td>\n",
       "    </tr>\n",
       "    <tr>\n",
       "      <th>P10694</th>\n",
       "      <td>55</td>\n",
       "      <td>1.0</td>\n",
       "      <td>1.018182</td>\n",
       "    </tr>\n",
       "    <tr>\n",
       "      <th>P86578</th>\n",
       "      <td>4</td>\n",
       "      <td>NaN</td>\n",
       "      <td>NaN</td>\n",
       "    </tr>\n",
       "  </tbody>\n",
       "</table>\n",
       "<p>203 rows × 3 columns</p>\n",
       "</div>"
      ],
      "text/plain": [
       "            goodSubs  badSubs   difficulty\n",
       "problem_id                                \n",
       "P40593            20    143.0  1165.450000\n",
       "P34091            63    195.0   798.571429\n",
       "P21281            32    139.0   742.781250\n",
       "P16072            29    128.0   692.965517\n",
       "P46584            24    117.0   687.375000\n",
       "P43557            37    137.0   644.270270\n",
       "P99555            33    128.0   624.484848\n",
       "P25992            18     97.0   619.722222\n",
       "P65538            19     93.0   548.210526\n",
       "P22467            65    156.0   530.400000\n",
       "P15695            32    115.0   528.281250\n",
       "P51126            71    159.0   515.070423\n",
       "P24080            61    148.0   507.081967\n",
       "P27411            58    133.0   437.982759\n",
       "P29094            44    118.0   434.454545\n",
       "P85696            57    129.0   420.947368\n",
       "P52233            48    116.0   396.333333\n",
       "P97156            83    140.0   376.144578\n",
       "P84584            21     78.0   367.714286\n",
       "P35957            32     92.0   356.500000\n",
       "P11141            23     78.0   342.521739\n",
       "P45616            50    107.0   335.980000\n",
       "P12061            37     88.0   297.297297\n",
       "P18203            22     70.0   292.727273\n",
       "P81966            46     94.0   286.086957\n",
       "P58459            58    102.0   281.379310\n",
       "P34279            70    106.0   266.514286\n",
       "P15613            67    101.0   253.253731\n",
       "P70093            40     82.0   250.100000\n",
       "P53361            34     76.0   245.882353\n",
       "...              ...      ...          ...\n",
       "P45829            11     10.0    19.090909\n",
       "P13623            66     15.0    18.409091\n",
       "P66529            12     10.0    18.333333\n",
       "P69977            33     13.0    18.121212\n",
       "P76024            51     14.0    17.843137\n",
       "P94857            25     12.0    17.760000\n",
       "P42672            41     13.0    17.121951\n",
       "P20262            28     11.0    15.321429\n",
       "P95520            14      8.0    12.571429\n",
       "P45102            26      9.0    12.115385\n",
       "P60689             1      3.0    12.000000\n",
       "P33810             2      4.0    12.000000\n",
       "P31618             6      6.0    12.000000\n",
       "P62467            60     10.0    11.666667\n",
       "P67454            53      9.0    10.528302\n",
       "P92845             3      4.0     9.333333\n",
       "P20006            53      8.0     9.207547\n",
       "P70190            23      7.0     9.130435\n",
       "P87679            13      6.0     8.769231\n",
       "P56276             2      3.0     7.500000\n",
       "P60825             4      3.0     5.250000\n",
       "P63888            17      4.0     4.941176\n",
       "P29031             6      3.0     4.500000\n",
       "P41221            72      4.0     4.222222\n",
       "P74753            11      3.0     3.818182\n",
       "P79860            57      2.0     2.070175\n",
       "P11914             1      1.0     2.000000\n",
       "P85370            20      1.0     1.050000\n",
       "P10694            55      1.0     1.018182\n",
       "P86578             4      NaN          NaN\n",
       "\n",
       "[203 rows x 3 columns]"
      ]
     },
     "execution_count": 428,
     "metadata": {},
     "output_type": "execute_result"
    }
   ],
   "source": [
    "prob_eval#.head(10)"
   ]
  },
  {
   "cell_type": "code",
   "execution_count": null,
   "metadata": {
    "collapsed": true
   },
   "outputs": [],
   "source": []
  },
  {
   "cell_type": "code",
   "execution_count": 414,
   "metadata": {
    "collapsed": false
   },
   "outputs": [],
   "source": []
  }
 ],
 "metadata": {
  "kernelspec": {
   "display_name": "Python 2",
   "language": "python",
   "name": "python2"
  },
  "language_info": {
   "codemirror_mode": {
    "name": "ipython",
    "version": 2
   },
   "file_extension": ".py",
   "mimetype": "text/x-python",
   "name": "python",
   "nbconvert_exporter": "python",
   "pygments_lexer": "ipython2",
   "version": "2.7.11"
  }
 },
 "nbformat": 4,
 "nbformat_minor": 0
}
