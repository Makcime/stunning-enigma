{
 "cells": [
  {
   "cell_type": "markdown",
   "metadata": {},
   "source": [
    "# Users Jutge.org :\n",
    "* étudiants UPC\n",
    "    * FIB\n",
    "    * FME\n",
    "    * ...\n",
    "* Étudiants externe\n",
    "    * cours d'été\n",
    "    * \n",
    "* Étudiants d'autre école\n",
    "* Autre ...\n",
    "\n",
    "Il y 1 prof pour 100 étudiants\n",
    "\n",
    "10.000 users en tout\n",
    "\n",
    "user contient un champ unregistered !!\n",
    "\n",
    "## users particuliers (à éliminer) :\n",
    "   * u00000 => user de test, testeur ** ne dois pas être comptabilisé**\n",
    "   * u00001 => Jordi\n",
    "   * u00002 => Salvador\n",
    "   * Competition(1) ... => Jeux (user factice)\n",
    "   * demo == true\n",
    "   * unregistered == true\n",
    "\n"
   ]
  },
  {
   "cell_type": "markdown",
   "metadata": {},
   "source": [
    "# Problems Jutge.org :\n",
    "* pxxxxx => problèmes officiels, public (bien fait)\n",
    "* xxxxxx => x pour externe\n",
    "    * prob accessible uniquement par les étudiants inscrits au cours de l'instructeur qui l'a créé\n",
    "* gxxxxx => games => ignorer completement.\n",
    "* \"deprecated\" \n",
    "\n",
    "Les problèmes peuvent être écrit en plusieurs langues!\n",
    "\n",
    "**p12345 :**\n",
    "* p12345_ca\n",
    "* p12345_es\n",
    "* p12345_en\n",
    "\n",
    "Il faut considérer que les trois langues représentent le même problème\n",
    "Il y a des cas particulier (conjugaison par exemple) mais nous pouvons les ignorer.\n",
    "\n",
    "2900 problème avec les langues\n",
    "1900 sans les langue\n",
    "* p => 1325\n",
    "* g => 10\n",
    "* x => ~600"
   ]
  },
  {
   "cell_type": "markdown",
   "metadata": {},
   "source": [
    "# Submissions Jutge.org :\n",
    "\n",
    "**1 600 000 instances**\n",
    "historique des toutes les soumission echec ou réussite\n",
    "\n",
    "Time in time out\n",
    "Temps auquel le problème a été envoyé, \n",
    "\n",
    "## veredict =>\n",
    "AC / ...\n",
    "\n",
    "Voir doumentation sur jutge.org\n"
   ]
  },
  {
   "cell_type": "markdown",
   "metadata": {},
   "source": [
    "## +++\n",
    "Information suplémentaires pour aider à l'évaluation du résultat du data mining\n",
    "* => Idée des cours"
   ]
  },
  {
   "cell_type": "code",
   "execution_count": null,
   "metadata": {
    "collapsed": true
   },
   "outputs": [],
   "source": []
  }
 ],
 "metadata": {
  "kernelspec": {
   "display_name": "Python 2",
   "language": "python",
   "name": "python2"
  },
  "language_info": {
   "codemirror_mode": {
    "name": "ipython",
    "version": 2
   },
   "file_extension": ".py",
   "mimetype": "text/x-python",
   "name": "python",
   "nbconvert_exporter": "python",
   "pygments_lexer": "ipython2",
   "version": "2.7.11"
  }
 },
 "nbformat": 4,
 "nbformat_minor": 0
}
