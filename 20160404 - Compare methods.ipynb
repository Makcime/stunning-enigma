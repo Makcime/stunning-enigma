{
 "cells": [
  {
   "cell_type": "markdown",
   "metadata": {},
   "source": [
    "Let's evaluate 2 vectors representative of:\n",
    "\n",
    "* The users abilities\n",
    "* The problem dfficulties\n",
    "\n",
    "We are going to use 2 different methods and try to comare them.\n",
    "\n",
    "In order to validate the methods, we need first to apply them to a small dummy dataset, automaticly generated"
   ]
  },
  {
   "cell_type": "code",
   "execution_count": 1,
   "metadata": {
    "collapsed": true
   },
   "outputs": [],
   "source": [
    "%matplotlib inline\n",
    "%matplotlib notebook\n",
    "\n",
    "import pandas as pd\n",
    "import numpy as np\n",
    "import matplotlib.pyplot as plt\n",
    "from dummy import *"
   ]
  },
  {
   "cell_type": "markdown",
   "metadata": {},
   "source": [
    "# Dataset generation\n",
    "\n",
    "the function *generate_submissions* generete a dataframe of submission for a specific number of users and problems.\n",
    "\n",
    "This will the basis data for our analysis"
   ]
  },
  {
   "cell_type": "code",
   "execution_count": 2,
   "metadata": {
    "collapsed": false
   },
   "outputs": [],
   "source": [
    "subs = generate_submissions(users=4, pbls=4)"
   ]
  },
  {
   "cell_type": "markdown",
   "metadata": {},
   "source": [
    "Fro that dataframe, we can generate a matrix representing the view of  which user maaged to solved which problems in the given submission history."
   ]
  },
  {
   "cell_type": "code",
   "execution_count": 3,
   "metadata": {
    "collapsed": false
   },
   "outputs": [
    {
     "data": {
      "text/html": [
       "<div>\n",
       "<table border=\"1\" class=\"dataframe\">\n",
       "  <thead>\n",
       "    <tr style=\"text-align: right;\">\n",
       "      <th></th>\n",
       "      <th>U00000</th>\n",
       "      <th>U00001</th>\n",
       "      <th>U00002</th>\n",
       "      <th>U00003</th>\n",
       "    </tr>\n",
       "  </thead>\n",
       "  <tbody>\n",
       "    <tr>\n",
       "      <th>P00000</th>\n",
       "      <td>1</td>\n",
       "      <td>0</td>\n",
       "      <td>1</td>\n",
       "      <td>1</td>\n",
       "    </tr>\n",
       "    <tr>\n",
       "      <th>P00001</th>\n",
       "      <td>0</td>\n",
       "      <td>1</td>\n",
       "      <td>0</td>\n",
       "      <td>1</td>\n",
       "    </tr>\n",
       "    <tr>\n",
       "      <th>P00002</th>\n",
       "      <td>1</td>\n",
       "      <td>1</td>\n",
       "      <td>1</td>\n",
       "      <td>0</td>\n",
       "    </tr>\n",
       "    <tr>\n",
       "      <th>P00003</th>\n",
       "      <td>0</td>\n",
       "      <td>0</td>\n",
       "      <td>1</td>\n",
       "      <td>1</td>\n",
       "    </tr>\n",
       "  </tbody>\n",
       "</table>\n",
       "</div>"
      ],
      "text/plain": [
       "        U00000  U00001  U00002  U00003\n",
       "P00000       1       0       1       1\n",
       "P00001       0       1       0       1\n",
       "P00002       1       1       1       0\n",
       "P00003       0       0       1       1"
      ]
     },
     "execution_count": 3,
     "metadata": {},
     "output_type": "execute_result"
    }
   ],
   "source": [
    "bm = bianary_mat(subs)\n",
    "bm"
   ]
  },
  {
   "cell_type": "markdown",
   "metadata": {},
   "source": [
    "> The matrice is binary. We just need to know if a user solved problem, no matter in how many tries. We should also take account of it in a \n",
    "subsequent analysis."
   ]
  },
  {
   "cell_type": "markdown",
   "metadata": {},
   "source": [
    "# Linear evaluation\n",
    "\n",
    "First of all, we want to evaluate a level o difficulty for each problem in a static way.\n",
    "\n",
    "We can consider for example that a specific problem is less difficult if a lot of users solved it."
   ]
  },
  {
   "cell_type": "code",
   "execution_count": 4,
   "metadata": {
    "collapsed": false
   },
   "outputs": [],
   "source": [
    "def pblDiff(v):\n",
    "    '''\n",
    "    v is the a binary verctor\n",
    "    '''   \n",
    "    return 1.0 - (float(v.sum()) / len(v))"
   ]
  },
  {
   "cell_type": "code",
   "execution_count": 5,
   "metadata": {
    "collapsed": false
   },
   "outputs": [
    {
     "data": {
      "text/html": [
       "<div>\n",
       "<table border=\"1\" class=\"dataframe\">\n",
       "  <thead>\n",
       "    <tr style=\"text-align: right;\">\n",
       "      <th></th>\n",
       "      <th>diff</th>\n",
       "    </tr>\n",
       "  </thead>\n",
       "  <tbody>\n",
       "    <tr>\n",
       "      <th>P00000</th>\n",
       "      <td>0.316228</td>\n",
       "    </tr>\n",
       "    <tr>\n",
       "      <th>P00001</th>\n",
       "      <td>0.632456</td>\n",
       "    </tr>\n",
       "    <tr>\n",
       "      <th>P00002</th>\n",
       "      <td>0.316228</td>\n",
       "    </tr>\n",
       "    <tr>\n",
       "      <th>P00003</th>\n",
       "      <td>0.632456</td>\n",
       "    </tr>\n",
       "  </tbody>\n",
       "</table>\n",
       "</div>"
      ],
      "text/plain": [
       "            diff\n",
       "P00000  0.316228\n",
       "P00001  0.632456\n",
       "P00002  0.316228\n",
       "P00003  0.632456"
      ]
     },
     "execution_count": 5,
     "metadata": {},
     "output_type": "execute_result"
    }
   ],
   "source": [
    "PbDifficulties = [pblDiff(x) for x in bm.values]\n",
    "normalize(PbDifficulties)\n",
    "PbDifficulties = pd.DataFrame(PbDifficulties, index=bm.index, \n",
    "                              columns=['diff'])\n",
    "PbDifficulties"
   ]
  },
  {
   "cell_type": "markdown",
   "metadata": {},
   "source": [
    "Now we cant compute for each user his ability to resove problems, using a linear function that sum the every solved pbl difficulty."
   ]
  },
  {
   "cell_type": "code",
   "execution_count": 6,
   "metadata": {
    "collapsed": false
   },
   "outputs": [
    {
     "data": {
      "text/html": [
       "<div>\n",
       "<table border=\"1\" class=\"dataframe\">\n",
       "  <thead>\n",
       "    <tr style=\"text-align: right;\">\n",
       "      <th></th>\n",
       "      <th>diff</th>\n",
       "      <th>U00000</th>\n",
       "      <th>U00001</th>\n",
       "      <th>U00002</th>\n",
       "      <th>U00003</th>\n",
       "    </tr>\n",
       "  </thead>\n",
       "  <tbody>\n",
       "    <tr>\n",
       "      <th>P00000</th>\n",
       "      <td>0.316228</td>\n",
       "      <td>1</td>\n",
       "      <td>0</td>\n",
       "      <td>1</td>\n",
       "      <td>1</td>\n",
       "    </tr>\n",
       "    <tr>\n",
       "      <th>P00001</th>\n",
       "      <td>0.632456</td>\n",
       "      <td>0</td>\n",
       "      <td>1</td>\n",
       "      <td>0</td>\n",
       "      <td>1</td>\n",
       "    </tr>\n",
       "    <tr>\n",
       "      <th>P00002</th>\n",
       "      <td>0.316228</td>\n",
       "      <td>1</td>\n",
       "      <td>1</td>\n",
       "      <td>1</td>\n",
       "      <td>0</td>\n",
       "    </tr>\n",
       "    <tr>\n",
       "      <th>P00003</th>\n",
       "      <td>0.632456</td>\n",
       "      <td>0</td>\n",
       "      <td>0</td>\n",
       "      <td>1</td>\n",
       "      <td>1</td>\n",
       "    </tr>\n",
       "  </tbody>\n",
       "</table>\n",
       "</div>"
      ],
      "text/plain": [
       "            diff  U00000  U00001  U00002  U00003\n",
       "P00000  0.316228       1       0       1       1\n",
       "P00001  0.632456       0       1       0       1\n",
       "P00002  0.316228       1       1       1       0\n",
       "P00003  0.632456       0       0       1       1"
      ]
     },
     "execution_count": 6,
     "metadata": {},
     "output_type": "execute_result"
    }
   ],
   "source": [
    "plop = PbDifficulties.join(bm)\n",
    "plop"
   ]
  },
  {
   "cell_type": "code",
   "execution_count": 7,
   "metadata": {
    "collapsed": false
   },
   "outputs": [
    {
     "name": "stdout",
     "output_type": "stream",
     "text": [
      "0.632455532034\n",
      "0.948683298051\n",
      "1.26491106407\n",
      "1.58113883008\n"
     ]
    }
   ],
   "source": [
    "print plop[plop.U00000 > 0]['diff'].sum()\n",
    "print plop[plop.U00001 > 0]['diff'].sum()\n",
    "print plop[plop.U00002 > 0]['diff'].sum()\n",
    "print plop[plop.U00003 > 0]['diff'].sum()"
   ]
  },
  {
   "cell_type": "code",
   "execution_count": 8,
   "metadata": {
    "collapsed": false
   },
   "outputs": [],
   "source": [
    "def Abilities(mat, pblslev):\n",
    "    df = pblslev.join(mat)\n",
    "    return [df[df[i] > 0 ]['diff'].sum() for i in bm]\n",
    "    "
   ]
  },
  {
   "cell_type": "code",
   "execution_count": 9,
   "metadata": {
    "collapsed": false
   },
   "outputs": [
    {
     "data": {
      "text/html": [
       "<div>\n",
       "<table border=\"1\" class=\"dataframe\">\n",
       "  <thead>\n",
       "    <tr style=\"text-align: right;\">\n",
       "      <th></th>\n",
       "      <th>U00000</th>\n",
       "      <th>U00001</th>\n",
       "      <th>U00002</th>\n",
       "      <th>U00003</th>\n",
       "    </tr>\n",
       "  </thead>\n",
       "  <tbody>\n",
       "    <tr>\n",
       "      <th>abl</th>\n",
       "      <td>0.272166</td>\n",
       "      <td>0.408248</td>\n",
       "      <td>0.544331</td>\n",
       "      <td>0.680414</td>\n",
       "    </tr>\n",
       "  </tbody>\n",
       "</table>\n",
       "</div>"
      ],
      "text/plain": [
       "       U00000    U00001    U00002    U00003\n",
       "abl  0.272166  0.408248  0.544331  0.680414"
      ]
     },
     "execution_count": 9,
     "metadata": {},
     "output_type": "execute_result"
    }
   ],
   "source": [
    "usrAb = Abilities(bm, PbDifficulties)\n",
    "normalize(usrAb)\n",
    "usrAb = pd.DataFrame(usrAb, index=bm.columns, columns=['abl']).T\n",
    "usrAb"
   ]
  },
  {
   "cell_type": "code",
   "execution_count": 10,
   "metadata": {
    "collapsed": false
   },
   "outputs": [
    {
     "data": {
      "text/html": [
       "<div>\n",
       "<table border=\"1\" class=\"dataframe\">\n",
       "  <thead>\n",
       "    <tr style=\"text-align: right;\">\n",
       "      <th></th>\n",
       "      <th>U00000</th>\n",
       "      <th>U00001</th>\n",
       "      <th>U00002</th>\n",
       "      <th>U00003</th>\n",
       "      <th>diff</th>\n",
       "    </tr>\n",
       "  </thead>\n",
       "  <tbody>\n",
       "    <tr>\n",
       "      <th>P00000</th>\n",
       "      <td>1.000000</td>\n",
       "      <td>0.000000</td>\n",
       "      <td>1.000000</td>\n",
       "      <td>1.000000</td>\n",
       "      <td>0.316228</td>\n",
       "    </tr>\n",
       "    <tr>\n",
       "      <th>P00001</th>\n",
       "      <td>0.000000</td>\n",
       "      <td>1.000000</td>\n",
       "      <td>0.000000</td>\n",
       "      <td>1.000000</td>\n",
       "      <td>0.632456</td>\n",
       "    </tr>\n",
       "    <tr>\n",
       "      <th>P00002</th>\n",
       "      <td>1.000000</td>\n",
       "      <td>1.000000</td>\n",
       "      <td>1.000000</td>\n",
       "      <td>0.000000</td>\n",
       "      <td>0.316228</td>\n",
       "    </tr>\n",
       "    <tr>\n",
       "      <th>P00003</th>\n",
       "      <td>0.000000</td>\n",
       "      <td>0.000000</td>\n",
       "      <td>1.000000</td>\n",
       "      <td>1.000000</td>\n",
       "      <td>0.632456</td>\n",
       "    </tr>\n",
       "    <tr>\n",
       "      <th>abl</th>\n",
       "      <td>0.272166</td>\n",
       "      <td>0.408248</td>\n",
       "      <td>0.544331</td>\n",
       "      <td>0.680414</td>\n",
       "      <td>NaN</td>\n",
       "    </tr>\n",
       "  </tbody>\n",
       "</table>\n",
       "</div>"
      ],
      "text/plain": [
       "          U00000    U00001    U00002    U00003      diff\n",
       "P00000  1.000000  0.000000  1.000000  1.000000  0.316228\n",
       "P00001  0.000000  1.000000  0.000000  1.000000  0.632456\n",
       "P00002  1.000000  1.000000  1.000000  0.000000  0.316228\n",
       "P00003  0.000000  0.000000  1.000000  1.000000  0.632456\n",
       "abl     0.272166  0.408248  0.544331  0.680414       NaN"
      ]
     },
     "execution_count": 10,
     "metadata": {},
     "output_type": "execute_result"
    }
   ],
   "source": [
    "plop.append(usrAb)"
   ]
  },
  {
   "cell_type": "code",
   "execution_count": 12,
   "metadata": {
    "collapsed": false
   },
   "outputs": [
    {
     "data": {
      "text/html": [
       "<div>\n",
       "<table border=\"1\" class=\"dataframe\">\n",
       "  <thead>\n",
       "    <tr style=\"text-align: right;\">\n",
       "      <th></th>\n",
       "      <th>U00000</th>\n",
       "      <th>U00001</th>\n",
       "      <th>U00002</th>\n",
       "      <th>U00003</th>\n",
       "    </tr>\n",
       "  </thead>\n",
       "  <tbody>\n",
       "    <tr>\n",
       "      <th>P00000</th>\n",
       "      <td>1</td>\n",
       "      <td>0</td>\n",
       "      <td>1</td>\n",
       "      <td>1</td>\n",
       "    </tr>\n",
       "    <tr>\n",
       "      <th>P00001</th>\n",
       "      <td>0</td>\n",
       "      <td>1</td>\n",
       "      <td>0</td>\n",
       "      <td>1</td>\n",
       "    </tr>\n",
       "    <tr>\n",
       "      <th>P00002</th>\n",
       "      <td>1</td>\n",
       "      <td>1</td>\n",
       "      <td>1</td>\n",
       "      <td>0</td>\n",
       "    </tr>\n",
       "    <tr>\n",
       "      <th>P00003</th>\n",
       "      <td>0</td>\n",
       "      <td>0</td>\n",
       "      <td>1</td>\n",
       "      <td>1</td>\n",
       "    </tr>\n",
       "  </tbody>\n",
       "</table>\n",
       "</div>"
      ],
      "text/plain": [
       "        U00000  U00001  U00002  U00003\n",
       "P00000       1       0       1       1\n",
       "P00001       0       1       0       1\n",
       "P00002       1       1       1       0\n",
       "P00003       0       0       1       1"
      ]
     },
     "execution_count": 12,
     "metadata": {},
     "output_type": "execute_result"
    }
   ],
   "source": [
    "bm"
   ]
  },
  {
   "cell_type": "code",
   "execution_count": 13,
   "metadata": {
    "collapsed": true
   },
   "outputs": [],
   "source": [
    "bmm = bm.as_matrix()\n",
    "U, s, V = np.linalg.svd(bmm, full_matrices=False)"
   ]
  },
  {
   "cell_type": "code",
   "execution_count": 14,
   "metadata": {
    "collapsed": false
   },
   "outputs": [
    {
     "name": "stdout",
     "output_type": "stream",
     "text": [
      "[[-0.62191759 -0.10930527 -0.43477072  0.64206331]\n",
      " [-0.34063033 -0.3411985   0.85503794  0.19095729]\n",
      " [-0.54369869  0.77215862  0.15616783 -0.28943809]\n",
      " [-0.44897798 -0.52479235 -0.23557623 -0.68375113]]\n"
     ]
    }
   ],
   "source": [
    "print U"
   ]
  },
  {
   "cell_type": "code",
   "execution_count": 15,
   "metadata": {
    "collapsed": false
   },
   "outputs": [
    {
     "name": "stdout",
     "output_type": "stream",
     "text": [
      "0   -0.621918\n",
      "1   -0.340630\n",
      "2   -0.543699\n",
      "3   -0.448978\n",
      "Name: 0, dtype: float64\n"
     ]
    }
   ],
   "source": [
    "Uv = pd.DataFrame(U)[0]\n",
    "print Uv"
   ]
  },
  {
   "cell_type": "code",
   "execution_count": 17,
   "metadata": {
    "collapsed": false
   },
   "outputs": [
    {
     "name": "stdout",
     "output_type": "stream",
     "text": [
      "[ 2.59615468  1.26307741  1.18264432  0.51572159]\n"
     ]
    },
    {
     "data": {
      "text/plain": [
       "2.5961546760086334"
      ]
     },
     "execution_count": 17,
     "metadata": {},
     "output_type": "execute_result"
    }
   ],
   "source": [
    "print s\n",
    "s[0]"
   ]
  },
  {
   "cell_type": "code",
   "execution_count": 18,
   "metadata": {
    "collapsed": false
   },
   "outputs": [
    {
     "name": "stdout",
     "output_type": "stream",
     "text": [
      "[[-0.44897798 -0.34063033 -0.62191759 -0.54369869]\n",
      " [ 0.52479235  0.3411985   0.10930527 -0.77215862]\n",
      " [-0.23557623  0.85503794 -0.43477072  0.15616783]\n",
      " [ 0.68375113 -0.19095729 -0.64206331  0.28943809]]\n"
     ]
    },
    {
     "data": {
      "text/plain": [
       "array([-0.44897798, -0.34063033, -0.62191759, -0.54369869])"
      ]
     },
     "execution_count": 18,
     "metadata": {},
     "output_type": "execute_result"
    }
   ],
   "source": [
    "print V\n",
    "V[0]"
   ]
  },
  {
   "cell_type": "code",
   "execution_count": null,
   "metadata": {
    "collapsed": true
   },
   "outputs": [],
   "source": []
  }
 ],
 "metadata": {
  "kernelspec": {
   "display_name": "Python 2",
   "language": "python",
   "name": "python2"
  },
  "language_info": {
   "codemirror_mode": {
    "name": "ipython",
    "version": 2
   },
   "file_extension": ".py",
   "mimetype": "text/x-python",
   "name": "python",
   "nbconvert_exporter": "python",
   "pygments_lexer": "ipython2",
   "version": "2.7.11"
  }
 },
 "nbformat": 4,
 "nbformat_minor": 0
}
