{
 "cells": [
  {
   "cell_type": "code",
   "execution_count": 2,
   "metadata": {
    "collapsed": true
   },
   "outputs": [],
   "source": [
    "%matplotlib inline\n",
    "%matplotlib notebook\n",
    "\n",
    "import pandas as pd\n",
    "import numpy as np\n",
    "import matplotlib.pyplot as plt"
   ]
  },
  {
   "cell_type": "markdown",
   "metadata": {},
   "source": [
    "# ...\n",
    "The Idea is to define a very tiny dum dataset on witch we can develop eayly our methods\n",
    "\n",
    "That will help us to define clearly all the necessary methods and to devedie the whole process.\n"
   ]
  },
  {
   "cell_type": "markdown",
   "metadata": {},
   "source": [
    "# Dataset\n",
    "\n",
    "Let's create a dataset of 4 users, and 8 problems\n",
    "> problems ans users consist only on a list of ids used for as fk in the submission table"
   ]
  },
  {
   "cell_type": "code",
   "execution_count": 10,
   "metadata": {
    "collapsed": false
   },
   "outputs": [
    {
     "name": "stdout",
     "output_type": "stream",
     "text": [
      "['U00000', 'U00001', 'U00002', 'U00003']\n",
      "['P00000', 'P00001', 'P00002', 'P00003', 'P00004', 'P00005', 'P00006', 'P00007']\n"
     ]
    }
   ],
   "source": [
    "users = [ (\"U0000%d\"%i) for i in range(4)]\n",
    "pbls = [ (\"P0000%d\"%i) for i in range(8)]\n",
    "\n",
    "print users\n",
    "print pbls"
   ]
  },
  {
   "cell_type": "markdown",
   "metadata": {},
   "source": [
    "Now we need to generate a dataframe representative of a submissions process.\n",
    "\n",
    "For now let's focus on those parameters of a submission :\n",
    "* submission_uid\n",
    "* user_id\n",
    "* problem_id\n",
    "* veredict\n",
    "* submission_id\n"
   ]
  },
  {
   "cell_type": "code",
   "execution_count": 11,
   "metadata": {
    "collapsed": false
   },
   "outputs": [],
   "source": [
    "headers =  [\"submission_uid\", \"user_id\", \"problem_id\", \"veredict\", \"submission_id\"]\n",
    "verdicts = [\"AC\", \"EE\"]"
   ]
  },
  {
   "cell_type": "markdown",
   "metadata": {},
   "source": [
    "we are goning te generate a submisions list automaticly we random values folowing this rules :\n",
    "\n",
    ">for each user define a random number of attempts for each problem and a final verdict t that problem (AC or EE)"
   ]
  },
  {
   "cell_type": "code",
   "execution_count": 12,
   "metadata": {
    "collapsed": false
   },
   "outputs": [],
   "source": [
    "import random\n",
    "submission_uid = 0\n",
    "\n",
    "df = pd.DataFrame(columns=headers)\n",
    "\n",
    "for u in users:\n",
    "    for p in pbls:\n",
    "        attempts = random.randint(0,5)\n",
    "        submission_id = 0\n",
    "        for i in range(attempts):\n",
    "            v = \"EE\"\n",
    "            if i == attempts - 1:\n",
    "                v = random.choice(verdicts)\n",
    "            sub = [\"S%09d\"%submission_uid, u, p, v, \"S%03d\"%submission_id]\n",
    "            df.loc[len(df)] = sub\n",
    "            submission_uid+=1\n",
    "            submission_id+=1"
   ]
  },
  {
   "cell_type": "code",
   "execution_count": 109,
   "metadata": {
    "collapsed": false
   },
   "outputs": [
    {
     "name": "stdout",
     "output_type": "stream",
     "text": [
      "   submission_uid user_id problem_id veredict submission_id\n",
      "0      S000000000  U00000     P00000       EE          S000\n",
      "1      S000000001  U00000     P00000       EE          S001\n",
      "2      S000000002  U00000     P00000       EE          S002\n",
      "3      S000000003  U00000     P00001       EE          S000\n",
      "4      S000000004  U00000     P00001       EE          S001\n",
      "5      S000000005  U00000     P00001       EE          S002\n",
      "6      S000000006  U00000     P00001       EE          S003\n",
      "7      S000000007  U00000     P00002       EE          S000\n",
      "8      S000000008  U00000     P00002       EE          S001\n",
      "9      S000000009  U00000     P00002       EE          S002\n",
      "10     S000000010  U00000     P00002       AC          S003\n",
      "11     S000000011  U00000     P00003       EE          S000\n",
      "12     S000000012  U00000     P00003       AC          S001\n",
      "13     S000000013  U00000     P00005       EE          S000\n",
      "14     S000000014  U00000     P00005       EE          S001\n",
      "15     S000000015  U00000     P00005       EE          S002\n",
      "16     S000000016  U00000     P00005       EE          S003\n",
      "17     S000000017  U00000     P00005       AC          S004\n",
      "18     S000000018  U00000     P00006       EE          S000\n",
      "19     S000000019  U00000     P00006       EE          S001\n",
      "20     S000000020  U00000     P00006       EE          S002\n",
      "21     S000000021  U00000     P00006       AC          S003\n",
      "22     S000000022  U00000     P00007       EE          S000\n",
      "23     S000000023  U00000     P00007       EE          S001\n",
      "24     S000000024  U00000     P00007       EE          S002\n",
      "25     S000000025  U00000     P00007       AC          S003\n",
      "26     S000000026  U00001     P00000       AC          S000\n",
      "27     S000000027  U00001     P00001       EE          S000\n",
      "28     S000000028  U00001     P00001       EE          S001\n",
      "29     S000000029  U00001     P00001       EE          S002\n",
      "..            ...     ...        ...      ...           ...\n",
      "54     S000000054  U00002     P00004       EE          S000\n",
      "55     S000000055  U00002     P00004       EE          S001\n",
      "56     S000000056  U00002     P00004       EE          S002\n",
      "57     S000000057  U00002     P00004       AC          S003\n",
      "58     S000000058  U00002     P00005       EE          S000\n",
      "59     S000000059  U00002     P00005       EE          S001\n",
      "60     S000000060  U00002     P00005       EE          S002\n",
      "61     S000000061  U00002     P00007       EE          S000\n",
      "62     S000000062  U00002     P00007       EE          S001\n",
      "63     S000000063  U00002     P00007       EE          S002\n",
      "64     S000000064  U00002     P00007       AC          S003\n",
      "65     S000000065  U00003     P00001       EE          S000\n",
      "66     S000000066  U00003     P00002       EE          S000\n",
      "67     S000000067  U00003     P00002       EE          S001\n",
      "68     S000000068  U00003     P00002       EE          S002\n",
      "69     S000000069  U00003     P00002       EE          S003\n",
      "70     S000000070  U00003     P00002       EE          S004\n",
      "71     S000000071  U00003     P00003       EE          S000\n",
      "72     S000000072  U00003     P00003       EE          S001\n",
      "73     S000000073  U00003     P00003       EE          S002\n",
      "74     S000000074  U00003     P00003       EE          S003\n",
      "75     S000000075  U00003     P00003       AC          S004\n",
      "76     S000000076  U00003     P00004       EE          S000\n",
      "77     S000000077  U00003     P00004       EE          S001\n",
      "78     S000000078  U00003     P00004       AC          S002\n",
      "79     S000000079  U00003     P00005       EE          S000\n",
      "80     S000000080  U00003     P00005       EE          S001\n",
      "81     S000000081  U00003     P00005       EE          S002\n",
      "82     S000000082  U00003     P00006       AC          S000\n",
      "83     S000000083  U00003     P00007       AC          S000\n",
      "\n",
      "[84 rows x 5 columns]\n"
     ]
    }
   ],
   "source": [
    "print df"
   ]
  },
  {
   "cell_type": "code",
   "execution_count": 13,
   "metadata": {
    "collapsed": false
   },
   "outputs": [
    {
     "data": {
      "text/html": [
       "<div>\n",
       "<table border=\"1\" class=\"dataframe\">\n",
       "  <thead>\n",
       "    <tr style=\"text-align: right;\">\n",
       "      <th></th>\n",
       "      <th>submission_uid</th>\n",
       "      <th>user_id</th>\n",
       "      <th>problem_id</th>\n",
       "      <th>veredict</th>\n",
       "      <th>submission_id</th>\n",
       "    </tr>\n",
       "  </thead>\n",
       "  <tbody>\n",
       "    <tr>\n",
       "      <th>count</th>\n",
       "      <td>16</td>\n",
       "      <td>16</td>\n",
       "      <td>16</td>\n",
       "      <td>16</td>\n",
       "      <td>16</td>\n",
       "    </tr>\n",
       "    <tr>\n",
       "      <th>unique</th>\n",
       "      <td>16</td>\n",
       "      <td>4</td>\n",
       "      <td>8</td>\n",
       "      <td>1</td>\n",
       "      <td>5</td>\n",
       "    </tr>\n",
       "    <tr>\n",
       "      <th>top</th>\n",
       "      <td>S000000057</td>\n",
       "      <td>U00000</td>\n",
       "      <td>P00007</td>\n",
       "      <td>AC</td>\n",
       "      <td>S003</td>\n",
       "    </tr>\n",
       "    <tr>\n",
       "      <th>freq</th>\n",
       "      <td>1</td>\n",
       "      <td>5</td>\n",
       "      <td>3</td>\n",
       "      <td>16</td>\n",
       "      <td>6</td>\n",
       "    </tr>\n",
       "  </tbody>\n",
       "</table>\n",
       "</div>"
      ],
      "text/plain": [
       "       submission_uid user_id problem_id veredict submission_id\n",
       "count              16      16         16       16            16\n",
       "unique             16       4          8        1             5\n",
       "top        S000000057  U00000     P00007       AC          S003\n",
       "freq                1       5          3       16             6"
      ]
     },
     "execution_count": 13,
     "metadata": {},
     "output_type": "execute_result"
    }
   ],
   "source": [
    "goodSubs = df[df.veredict == 'AC']\n",
    "goodSubs.describe()"
   ]
  },
  {
   "cell_type": "code",
   "execution_count": 14,
   "metadata": {
    "collapsed": false
   },
   "outputs": [
    {
     "data": {
      "text/html": [
       "<div>\n",
       "<table border=\"1\" class=\"dataframe\">\n",
       "  <thead>\n",
       "    <tr style=\"text-align: right;\">\n",
       "      <th></th>\n",
       "      <th>submission_uid</th>\n",
       "      <th>user_id</th>\n",
       "      <th>problem_id</th>\n",
       "      <th>veredict</th>\n",
       "      <th>submission_id</th>\n",
       "    </tr>\n",
       "  </thead>\n",
       "  <tbody>\n",
       "    <tr>\n",
       "      <th>count</th>\n",
       "      <td>68</td>\n",
       "      <td>68</td>\n",
       "      <td>68</td>\n",
       "      <td>68</td>\n",
       "      <td>68</td>\n",
       "    </tr>\n",
       "    <tr>\n",
       "      <th>unique</th>\n",
       "      <td>68</td>\n",
       "      <td>4</td>\n",
       "      <td>8</td>\n",
       "      <td>1</td>\n",
       "      <td>5</td>\n",
       "    </tr>\n",
       "    <tr>\n",
       "      <th>top</th>\n",
       "      <td>S000000066</td>\n",
       "      <td>U00000</td>\n",
       "      <td>P00003</td>\n",
       "      <td>EE</td>\n",
       "      <td>S000</td>\n",
       "    </tr>\n",
       "    <tr>\n",
       "      <th>freq</th>\n",
       "      <td>1</td>\n",
       "      <td>21</td>\n",
       "      <td>14</td>\n",
       "      <td>68</td>\n",
       "      <td>23</td>\n",
       "    </tr>\n",
       "  </tbody>\n",
       "</table>\n",
       "</div>"
      ],
      "text/plain": [
       "       submission_uid user_id problem_id veredict submission_id\n",
       "count              68      68         68       68            68\n",
       "unique             68       4          8        1             5\n",
       "top        S000000066  U00000     P00003       EE          S000\n",
       "freq                1      21         14       68            23"
      ]
     },
     "execution_count": 14,
     "metadata": {},
     "output_type": "execute_result"
    }
   ],
   "source": [
    "badSubs = df[df.veredict != 'AC']\n",
    "badSubs.describe()"
   ]
  },
  {
   "cell_type": "code",
   "execution_count": 15,
   "metadata": {
    "collapsed": false
   },
   "outputs": [
    {
     "data": {
      "text/html": [
       "<div>\n",
       "<table border=\"1\" class=\"dataframe\">\n",
       "  <thead>\n",
       "    <tr style=\"text-align: right;\">\n",
       "      <th></th>\n",
       "      <th>U00000</th>\n",
       "      <th>U00001</th>\n",
       "      <th>U00002</th>\n",
       "      <th>U00003</th>\n",
       "    </tr>\n",
       "  </thead>\n",
       "  <tbody>\n",
       "    <tr>\n",
       "      <th>P00000</th>\n",
       "      <td>NaN</td>\n",
       "      <td>NaN</td>\n",
       "      <td>NaN</td>\n",
       "      <td>NaN</td>\n",
       "    </tr>\n",
       "    <tr>\n",
       "      <th>P00001</th>\n",
       "      <td>NaN</td>\n",
       "      <td>NaN</td>\n",
       "      <td>NaN</td>\n",
       "      <td>NaN</td>\n",
       "    </tr>\n",
       "    <tr>\n",
       "      <th>P00002</th>\n",
       "      <td>NaN</td>\n",
       "      <td>NaN</td>\n",
       "      <td>NaN</td>\n",
       "      <td>NaN</td>\n",
       "    </tr>\n",
       "    <tr>\n",
       "      <th>P00003</th>\n",
       "      <td>NaN</td>\n",
       "      <td>NaN</td>\n",
       "      <td>NaN</td>\n",
       "      <td>NaN</td>\n",
       "    </tr>\n",
       "    <tr>\n",
       "      <th>P00004</th>\n",
       "      <td>NaN</td>\n",
       "      <td>NaN</td>\n",
       "      <td>NaN</td>\n",
       "      <td>NaN</td>\n",
       "    </tr>\n",
       "    <tr>\n",
       "      <th>P00005</th>\n",
       "      <td>NaN</td>\n",
       "      <td>NaN</td>\n",
       "      <td>NaN</td>\n",
       "      <td>NaN</td>\n",
       "    </tr>\n",
       "    <tr>\n",
       "      <th>P00006</th>\n",
       "      <td>NaN</td>\n",
       "      <td>NaN</td>\n",
       "      <td>NaN</td>\n",
       "      <td>NaN</td>\n",
       "    </tr>\n",
       "    <tr>\n",
       "      <th>P00007</th>\n",
       "      <td>NaN</td>\n",
       "      <td>NaN</td>\n",
       "      <td>NaN</td>\n",
       "      <td>NaN</td>\n",
       "    </tr>\n",
       "  </tbody>\n",
       "</table>\n",
       "</div>"
      ],
      "text/plain": [
       "       U00000 U00001 U00002 U00003\n",
       "P00000    NaN    NaN    NaN    NaN\n",
       "P00001    NaN    NaN    NaN    NaN\n",
       "P00002    NaN    NaN    NaN    NaN\n",
       "P00003    NaN    NaN    NaN    NaN\n",
       "P00004    NaN    NaN    NaN    NaN\n",
       "P00005    NaN    NaN    NaN    NaN\n",
       "P00006    NaN    NaN    NaN    NaN\n",
       "P00007    NaN    NaN    NaN    NaN"
      ]
     },
     "execution_count": 15,
     "metadata": {},
     "output_type": "execute_result"
    }
   ],
   "source": [
    "table = pd.DataFrame(columns=users , index=pbls)\n",
    "table"
   ]
  },
  {
   "cell_type": "code",
   "execution_count": 91,
   "metadata": {
    "collapsed": true
   },
   "outputs": [],
   "source": [
    "def checkSub(uid, pid):\n",
    "    p = goodSubs[(goodSubs.problem_id == pid) & \n",
    "             (goodSubs.user_id == uid)]\n",
    "    n = p.count().user_id\n",
    "    return n if n else float('NaN')\n",
    "\n",
    "def checkSub2(uid, pid):\n",
    "    p = df[(df.problem_id == pid) & \n",
    "             (df.user_id == uid)]\n",
    "    n = p.count().user_id\n",
    "    return n if n else float('NaN')"
   ]
  },
  {
   "cell_type": "code",
   "execution_count": 92,
   "metadata": {
    "collapsed": true
   },
   "outputs": [],
   "source": [
    "for u in users:\n",
    "    table[u] = map(lambda x : checkSub2(u,x), table.index)"
   ]
  },
  {
   "cell_type": "code",
   "execution_count": 100,
   "metadata": {
    "collapsed": false
   },
   "outputs": [
    {
     "data": {
      "text/html": [
       "<div>\n",
       "<table border=\"1\" class=\"dataframe\">\n",
       "  <thead>\n",
       "    <tr style=\"text-align: right;\">\n",
       "      <th></th>\n",
       "      <th>U00000</th>\n",
       "      <th>U00001</th>\n",
       "      <th>U00002</th>\n",
       "      <th>U00003</th>\n",
       "    </tr>\n",
       "  </thead>\n",
       "  <tbody>\n",
       "    <tr>\n",
       "      <th>P00000</th>\n",
       "      <td>3.0</td>\n",
       "      <td>1.0</td>\n",
       "      <td>2.0</td>\n",
       "      <td>NaN</td>\n",
       "    </tr>\n",
       "    <tr>\n",
       "      <th>P00001</th>\n",
       "      <td>4.0</td>\n",
       "      <td>5.0</td>\n",
       "      <td>3.0</td>\n",
       "      <td>1.0</td>\n",
       "    </tr>\n",
       "    <tr>\n",
       "      <th>P00002</th>\n",
       "      <td>4.0</td>\n",
       "      <td>1.0</td>\n",
       "      <td>1.0</td>\n",
       "      <td>5.0</td>\n",
       "    </tr>\n",
       "    <tr>\n",
       "      <th>P00003</th>\n",
       "      <td>2.0</td>\n",
       "      <td>5.0</td>\n",
       "      <td>4.0</td>\n",
       "      <td>5.0</td>\n",
       "    </tr>\n",
       "    <tr>\n",
       "      <th>P00004</th>\n",
       "      <td>NaN</td>\n",
       "      <td>NaN</td>\n",
       "      <td>4.0</td>\n",
       "      <td>3.0</td>\n",
       "    </tr>\n",
       "    <tr>\n",
       "      <th>P00005</th>\n",
       "      <td>5.0</td>\n",
       "      <td>4.0</td>\n",
       "      <td>3.0</td>\n",
       "      <td>3.0</td>\n",
       "    </tr>\n",
       "    <tr>\n",
       "      <th>P00006</th>\n",
       "      <td>4.0</td>\n",
       "      <td>NaN</td>\n",
       "      <td>NaN</td>\n",
       "      <td>1.0</td>\n",
       "    </tr>\n",
       "    <tr>\n",
       "      <th>P00007</th>\n",
       "      <td>4.0</td>\n",
       "      <td>2.0</td>\n",
       "      <td>4.0</td>\n",
       "      <td>1.0</td>\n",
       "    </tr>\n",
       "  </tbody>\n",
       "</table>\n",
       "</div>"
      ],
      "text/plain": [
       "        U00000  U00001  U00002  U00003\n",
       "P00000     3.0     1.0     2.0     NaN\n",
       "P00001     4.0     5.0     3.0     1.0\n",
       "P00002     4.0     1.0     1.0     5.0\n",
       "P00003     2.0     5.0     4.0     5.0\n",
       "P00004     NaN     NaN     4.0     3.0\n",
       "P00005     5.0     4.0     3.0     3.0\n",
       "P00006     4.0     NaN     NaN     1.0\n",
       "P00007     4.0     2.0     4.0     1.0"
      ]
     },
     "execution_count": 100,
     "metadata": {},
     "output_type": "execute_result"
    }
   ],
   "source": [
    "table"
   ]
  },
  {
   "cell_type": "markdown",
   "metadata": {},
   "source": [
    "# First iteration"
   ]
  },
  {
   "cell_type": "code",
   "execution_count": 94,
   "metadata": {
    "collapsed": false
   },
   "outputs": [],
   "source": [
    "abilities = pd.Series(index=table.columns)"
   ]
  },
  {
   "cell_type": "code",
   "execution_count": 95,
   "metadata": {
    "collapsed": false
   },
   "outputs": [],
   "source": [
    "abilities[table.columns[0]] = table[table.columns[0]].sum()"
   ]
  },
  {
   "cell_type": "code",
   "execution_count": 96,
   "metadata": {
    "collapsed": true
   },
   "outputs": [],
   "source": [
    "for c in table.columns:\n",
    "    abilities[c] = table[c].sum()"
   ]
  },
  {
   "cell_type": "code",
   "execution_count": 97,
   "metadata": {
    "collapsed": false
   },
   "outputs": [
    {
     "data": {
      "text/plain": [
       "U00000    26.0\n",
       "U00001    18.0\n",
       "U00002    21.0\n",
       "U00003    19.0\n",
       "dtype: float64"
      ]
     },
     "execution_count": 97,
     "metadata": {},
     "output_type": "execute_result"
    }
   ],
   "source": [
    "abilities"
   ]
  },
  {
   "cell_type": "code",
   "execution_count": 98,
   "metadata": {
    "collapsed": false
   },
   "outputs": [
    {
     "data": {
      "text/plain": [
       "P00000   NaN\n",
       "P00001   NaN\n",
       "P00002   NaN\n",
       "P00003   NaN\n",
       "P00004   NaN\n",
       "P00005   NaN\n",
       "P00006   NaN\n",
       "P00007   NaN\n",
       "dtype: float64"
      ]
     },
     "execution_count": 98,
     "metadata": {},
     "output_type": "execute_result"
    }
   ],
   "source": [
    "difficulties = pd.Series(index=table.index)\n",
    "difficulties"
   ]
  },
  {
   "cell_type": "code",
   "execution_count": 102,
   "metadata": {
    "collapsed": false
   },
   "outputs": [
    {
     "data": {
      "text/plain": [
       "U00000    3.0\n",
       "U00001    1.0\n",
       "U00002    2.0\n",
       "U00003    NaN\n",
       "Name: P00000, dtype: float64"
      ]
     },
     "execution_count": 102,
     "metadata": {},
     "output_type": "execute_result"
    }
   ],
   "source": [
    "table.loc[table.index[0]]"
   ]
  },
  {
   "cell_type": "code",
   "execution_count": 103,
   "metadata": {
    "collapsed": true
   },
   "outputs": [],
   "source": [
    "for i in table.index:\n",
    "    difficulties[i] = table.loc[i].sum()"
   ]
  },
  {
   "cell_type": "code",
   "execution_count": 104,
   "metadata": {
    "collapsed": false
   },
   "outputs": [
    {
     "data": {
      "text/plain": [
       "P00000     6.0\n",
       "P00001    13.0\n",
       "P00002    11.0\n",
       "P00003    16.0\n",
       "P00004     7.0\n",
       "P00005    15.0\n",
       "P00006     5.0\n",
       "P00007    11.0\n",
       "dtype: float64"
      ]
     },
     "execution_count": 104,
     "metadata": {},
     "output_type": "execute_result"
    }
   ],
   "source": [
    "difficulties"
   ]
  },
  {
   "cell_type": "code",
   "execution_count": 105,
   "metadata": {
    "collapsed": false
   },
   "outputs": [],
   "source": [
    "plop = pd.DataFrame(columns=difficulties.index)"
   ]
  },
  {
   "cell_type": "code",
   "execution_count": 106,
   "metadata": {
    "collapsed": false
   },
   "outputs": [],
   "source": [
    "plop.loc[len(plop)] = difficulties"
   ]
  },
  {
   "cell_type": "code",
   "execution_count": 107,
   "metadata": {
    "collapsed": false
   },
   "outputs": [
    {
     "data": {
      "text/html": [
       "<div>\n",
       "<table border=\"1\" class=\"dataframe\">\n",
       "  <thead>\n",
       "    <tr style=\"text-align: right;\">\n",
       "      <th></th>\n",
       "      <th>P00000</th>\n",
       "      <th>P00001</th>\n",
       "      <th>P00002</th>\n",
       "      <th>P00003</th>\n",
       "      <th>P00004</th>\n",
       "      <th>P00005</th>\n",
       "      <th>P00006</th>\n",
       "      <th>P00007</th>\n",
       "    </tr>\n",
       "  </thead>\n",
       "  <tbody>\n",
       "    <tr>\n",
       "      <th>0</th>\n",
       "      <td>6.0</td>\n",
       "      <td>13.0</td>\n",
       "      <td>11.0</td>\n",
       "      <td>16.0</td>\n",
       "      <td>7.0</td>\n",
       "      <td>15.0</td>\n",
       "      <td>5.0</td>\n",
       "      <td>11.0</td>\n",
       "    </tr>\n",
       "  </tbody>\n",
       "</table>\n",
       "</div>"
      ],
      "text/plain": [
       "   P00000  P00001  P00002  P00003  P00004  P00005  P00006  P00007\n",
       "0     6.0    13.0    11.0    16.0     7.0    15.0     5.0    11.0"
      ]
     },
     "execution_count": 107,
     "metadata": {},
     "output_type": "execute_result"
    }
   ],
   "source": [
    "plop"
   ]
  },
  {
   "cell_type": "code",
   "execution_count": null,
   "metadata": {
    "collapsed": true
   },
   "outputs": [],
   "source": []
  }
 ],
 "metadata": {
  "kernelspec": {
   "display_name": "Python 2",
   "language": "python",
   "name": "python2"
  },
  "language_info": {
   "codemirror_mode": {
    "name": "ipython",
    "version": 2
   },
   "file_extension": ".py",
   "mimetype": "text/x-python",
   "name": "python",
   "nbconvert_exporter": "python",
   "pygments_lexer": "ipython2",
   "version": "2.7.11"
  }
 },
 "nbformat": 4,
 "nbformat_minor": 0
}
