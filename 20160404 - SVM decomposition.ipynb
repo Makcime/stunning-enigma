{
 "cells": [
  {
   "cell_type": "code",
   "execution_count": 1,
   "metadata": {
    "collapsed": true
   },
   "outputs": [],
   "source": [
    "%matplotlib inline\n",
    "%matplotlib notebook\n",
    "\n",
    "import pandas as pd\n",
    "import numpy as np\n",
    "import matplotlib.pyplot as plt"
   ]
  },
  {
   "cell_type": "code",
   "execution_count": 2,
   "metadata": {
    "collapsed": true
   },
   "outputs": [],
   "source": [
    "from dummy import *"
   ]
  },
  {
   "cell_type": "code",
   "execution_count": 59,
   "metadata": {
    "collapsed": true
   },
   "outputs": [],
   "source": [
    "subs = generate_submissions()\n",
    "badSubs = subs[subs.veredict != 'AC']\n",
    "goodSubs = subs[subs.veredict == 'AC']"
   ]
  },
  {
   "cell_type": "code",
   "execution_count": 60,
   "metadata": {
    "collapsed": false
   },
   "outputs": [
    {
     "data": {
      "text/html": [
       "<div>\n",
       "<table border=\"1\" class=\"dataframe\">\n",
       "  <thead>\n",
       "    <tr style=\"text-align: right;\">\n",
       "      <th></th>\n",
       "      <th>U00000</th>\n",
       "      <th>U00001</th>\n",
       "      <th>U00002</th>\n",
       "      <th>U00003</th>\n",
       "    </tr>\n",
       "  </thead>\n",
       "  <tbody>\n",
       "    <tr>\n",
       "      <th>P00000</th>\n",
       "      <td>0</td>\n",
       "      <td>1</td>\n",
       "      <td>0</td>\n",
       "      <td>0</td>\n",
       "    </tr>\n",
       "    <tr>\n",
       "      <th>P00001</th>\n",
       "      <td>1</td>\n",
       "      <td>1</td>\n",
       "      <td>0</td>\n",
       "      <td>0</td>\n",
       "    </tr>\n",
       "    <tr>\n",
       "      <th>P00002</th>\n",
       "      <td>0</td>\n",
       "      <td>0</td>\n",
       "      <td>1</td>\n",
       "      <td>0</td>\n",
       "    </tr>\n",
       "    <tr>\n",
       "      <th>P00003</th>\n",
       "      <td>0</td>\n",
       "      <td>1</td>\n",
       "      <td>0</td>\n",
       "      <td>1</td>\n",
       "    </tr>\n",
       "    <tr>\n",
       "      <th>P00004</th>\n",
       "      <td>0</td>\n",
       "      <td>0</td>\n",
       "      <td>1</td>\n",
       "      <td>0</td>\n",
       "    </tr>\n",
       "    <tr>\n",
       "      <th>P00005</th>\n",
       "      <td>0</td>\n",
       "      <td>0</td>\n",
       "      <td>0</td>\n",
       "      <td>1</td>\n",
       "    </tr>\n",
       "    <tr>\n",
       "      <th>P00006</th>\n",
       "      <td>0</td>\n",
       "      <td>0</td>\n",
       "      <td>0</td>\n",
       "      <td>1</td>\n",
       "    </tr>\n",
       "    <tr>\n",
       "      <th>P00007</th>\n",
       "      <td>0</td>\n",
       "      <td>0</td>\n",
       "      <td>0</td>\n",
       "      <td>1</td>\n",
       "    </tr>\n",
       "  </tbody>\n",
       "</table>\n",
       "</div>"
      ],
      "text/plain": [
       "        U00000  U00001  U00002  U00003\n",
       "P00000       0       1       0       0\n",
       "P00001       1       1       0       0\n",
       "P00002       0       0       1       0\n",
       "P00003       0       1       0       1\n",
       "P00004       0       0       1       0\n",
       "P00005       0       0       0       1\n",
       "P00006       0       0       0       1\n",
       "P00007       0       0       0       1"
      ]
     },
     "execution_count": 60,
     "metadata": {},
     "output_type": "execute_result"
    }
   ],
   "source": [
    "bm = bianary_mat(subs)\n",
    "bm"
   ]
  },
  {
   "cell_type": "code",
   "execution_count": 61,
   "metadata": {
    "collapsed": false
   },
   "outputs": [],
   "source": [
    "bmm = bm.as_matrix()"
   ]
  },
  {
   "cell_type": "code",
   "execution_count": 62,
   "metadata": {
    "collapsed": false
   },
   "outputs": [],
   "source": [
    "U, s, V = np.linalg.svd(bmm, full_matrices=False)"
   ]
  },
  {
   "cell_type": "code",
   "execution_count": 63,
   "metadata": {
    "collapsed": false
   },
   "outputs": [
    {
     "name": "stdout",
     "output_type": "stream",
     "text": [
      "[[ 0.26131615  0.42837644  0.         -0.56536366]\n",
      " [ 0.33194924  0.67165096  0.          0.66234031]\n",
      " [ 0.          0.          0.70710678  0.        ]\n",
      " [ 0.63482335  0.08266714  0.         -0.4019876 ]\n",
      " [ 0.          0.          0.70710678  0.        ]\n",
      " [ 0.3735072  -0.3457093   0.          0.16337606]\n",
      " [ 0.3735072  -0.3457093   0.          0.16337606]\n",
      " [ 0.3735072  -0.3457093   0.          0.16337606]]\n"
     ]
    }
   ],
   "source": [
    "print U"
   ]
  },
  {
   "cell_type": "code",
   "execution_count": 64,
   "metadata": {
    "collapsed": false
   },
   "outputs": [
    {
     "name": "stdout",
     "output_type": "stream",
     "text": [
      "0    0.261316\n",
      "1    0.331949\n",
      "2    0.000000\n",
      "3    0.634823\n",
      "4    0.000000\n",
      "5    0.373507\n",
      "6    0.373507\n",
      "7    0.373507\n",
      "Name: 0, dtype: float64\n"
     ]
    }
   ],
   "source": [
    "Uv = pd.DataFrame(U)[0]\n",
    "print Uv"
   ]
  },
  {
   "cell_type": "code",
   "execution_count": 65,
   "metadata": {
    "collapsed": false
   },
   "outputs": [
    {
     "name": "stdout",
     "output_type": "stream",
     "text": [
      "[ 2.16786258  1.66158861  1.41421356  0.73450332]\n"
     ]
    },
    {
     "data": {
      "text/plain": [
       "2.1678625759663173"
      ]
     },
     "execution_count": 65,
     "metadata": {},
     "output_type": "execute_result"
    }
   ],
   "source": [
    "print s\n",
    "s[0]"
   ]
  },
  {
   "cell_type": "code",
   "execution_count": 66,
   "metadata": {
    "collapsed": false
   },
   "outputs": [
    {
     "name": "stdout",
     "output_type": "stream",
     "text": [
      "[[ 0.15312282  0.5664975   0.          0.80971228]\n",
      " [ 0.40422217  0.71178541  0.         -0.57442663]\n",
      " [-0.         -0.          1.          0.        ]\n",
      " [ 0.90175265 -0.41526149  0.          0.12000026]]\n"
     ]
    },
    {
     "data": {
      "text/plain": [
       "array([ 0.15312282,  0.5664975 ,  0.        ,  0.80971228])"
      ]
     },
     "execution_count": 66,
     "metadata": {},
     "output_type": "execute_result"
    }
   ],
   "source": [
    "print V\n",
    "V[0]"
   ]
  },
  {
   "cell_type": "code",
   "execution_count": 67,
   "metadata": {
    "collapsed": false
   },
   "outputs": [
    {
     "data": {
      "text/plain": [
       "1.0"
      ]
     },
     "execution_count": 67,
     "metadata": {},
     "output_type": "execute_result"
    }
   ],
   "source": [
    "magnitude(Uv)"
   ]
  },
  {
   "cell_type": "code",
   "execution_count": 68,
   "metadata": {
    "collapsed": false
   },
   "outputs": [
    {
     "data": {
      "text/plain": [
       "1.0"
      ]
     },
     "execution_count": 68,
     "metadata": {},
     "output_type": "execute_result"
    }
   ],
   "source": [
    "magnitude(V[0])"
   ]
  },
  {
   "cell_type": "markdown",
   "metadata": {},
   "source": [
    "Let's evaluate the results for player 0"
   ]
  },
  {
   "cell_type": "code",
   "execution_count": 79,
   "metadata": {
    "collapsed": true
   },
   "outputs": [],
   "source": [
    "ability = V[0][3]\n",
    "scale = s[0]\n",
    "difficulties = Uv"
   ]
  },
  {
   "cell_type": "code",
   "execution_count": 80,
   "metadata": {
    "collapsed": false
   },
   "outputs": [
    {
     "name": "stdout",
     "output_type": "stream",
     "text": [
      "0.809712281593\n",
      "2.16786257597\n",
      "0    0.261316\n",
      "1    0.331949\n",
      "2    0.000000\n",
      "3    0.634823\n",
      "4    0.000000\n",
      "5    0.373507\n",
      "6    0.373507\n",
      "7    0.373507\n",
      "Name: 0, dtype: float64\n"
     ]
    }
   ],
   "source": [
    "print ability\n",
    "print scale\n",
    "print difficulties"
   ]
  },
  {
   "cell_type": "code",
   "execution_count": 81,
   "metadata": {
    "collapsed": false
   },
   "outputs": [
    {
     "data": {
      "text/plain": [
       "0    0.458700\n",
       "1    0.582685\n",
       "2    0.000000\n",
       "3    1.114334\n",
       "4    0.000000\n",
       "5    0.655634\n",
       "6    0.655634\n",
       "7    0.655634\n",
       "Name: 0, dtype: float64"
      ]
     },
     "execution_count": 81,
     "metadata": {},
     "output_type": "execute_result"
    }
   ],
   "source": [
    "difficulties.apply(lambda x: ability*scale*x)"
   ]
  },
  {
   "cell_type": "markdown",
   "metadata": {},
   "source": [
    "# Example of vector multiplication"
   ]
  },
  {
   "cell_type": "code",
   "execution_count": 99,
   "metadata": {
    "collapsed": false
   },
   "outputs": [
    {
     "name": "stdout",
     "output_type": "stream",
     "text": [
      "x1 =>  [[ 0.]\n",
      " [ 1.]\n",
      " [ 2.]\n",
      " [ 3.]\n",
      " [ 4.]\n",
      " [ 5.]\n",
      " [ 6.]\n",
      " [ 7.]\n",
      " [ 8.]]\n",
      "x2 =>  [ 0.  1.  2.]\n"
     ]
    }
   ],
   "source": [
    "x1 = np.arange(9.0).reshape((9, 1))\n",
    "x2 = np.arange(3.0)\n",
    "print \"x1 => \", x1\n",
    "print \"x2 => \", x2"
   ]
  },
  {
   "cell_type": "code",
   "execution_count": 100,
   "metadata": {
    "collapsed": false
   },
   "outputs": [
    {
     "data": {
      "text/plain": [
       "array([[  0.,   0.,   0.],\n",
       "       [  0.,   1.,   2.],\n",
       "       [  0.,   2.,   4.],\n",
       "       [  0.,   3.,   6.],\n",
       "       [  0.,   4.,   8.],\n",
       "       [  0.,   5.,  10.],\n",
       "       [  0.,   6.,  12.],\n",
       "       [  0.,   7.,  14.],\n",
       "       [  0.,   8.,  16.]])"
      ]
     },
     "execution_count": 100,
     "metadata": {},
     "output_type": "execute_result"
    }
   ],
   "source": [
    "np.multiply(x1, x2)"
   ]
  },
  {
   "cell_type": "code",
   "execution_count": 107,
   "metadata": {
    "collapsed": false
   },
   "outputs": [
    {
     "name": "stdout",
     "output_type": "stream",
     "text": [
      "[ 0.15312282  0.5664975   0.          0.80971228]\n"
     ]
    }
   ],
   "source": [
    "Abilties = V[0]\n",
    "print Abilties"
   ]
  },
  {
   "cell_type": "code",
   "execution_count": 108,
   "metadata": {
    "collapsed": false
   },
   "outputs": [
    {
     "name": "stdout",
     "output_type": "stream",
     "text": [
      "[[ 0.26131615]\n",
      " [ 0.33194924]\n",
      " [ 0.        ]\n",
      " [ 0.63482335]\n",
      " [ 0.        ]\n",
      " [ 0.3735072 ]\n",
      " [ 0.3735072 ]\n",
      " [ 0.3735072 ]]\n"
     ]
    }
   ],
   "source": [
    "Difficulties = U[:,[0]]\n",
    "print Difficulties"
   ]
  },
  {
   "cell_type": "markdown",
   "metadata": {},
   "source": [
    "# Reconstruction de la matrice :"
   ]
  },
  {
   "cell_type": "code",
   "execution_count": 120,
   "metadata": {
    "collapsed": false
   },
   "outputs": [
    {
     "data": {
      "text/html": [
       "<div>\n",
       "<table border=\"1\" class=\"dataframe\">\n",
       "  <thead>\n",
       "    <tr style=\"text-align: right;\">\n",
       "      <th></th>\n",
       "      <th>U00000</th>\n",
       "      <th>U00001</th>\n",
       "      <th>U00002</th>\n",
       "      <th>U00003</th>\n",
       "    </tr>\n",
       "  </thead>\n",
       "  <tbody>\n",
       "    <tr>\n",
       "      <th>P00000</th>\n",
       "      <td>0.086744</td>\n",
       "      <td>0.320919</td>\n",
       "      <td>0.0</td>\n",
       "      <td>0.458700</td>\n",
       "    </tr>\n",
       "    <tr>\n",
       "      <th>P00001</th>\n",
       "      <td>0.110190</td>\n",
       "      <td>0.407663</td>\n",
       "      <td>0.0</td>\n",
       "      <td>0.582685</td>\n",
       "    </tr>\n",
       "    <tr>\n",
       "      <th>P00002</th>\n",
       "      <td>0.000000</td>\n",
       "      <td>0.000000</td>\n",
       "      <td>0.0</td>\n",
       "      <td>0.000000</td>\n",
       "    </tr>\n",
       "    <tr>\n",
       "      <th>P00003</th>\n",
       "      <td>0.210729</td>\n",
       "      <td>0.779619</td>\n",
       "      <td>0.0</td>\n",
       "      <td>1.114334</td>\n",
       "    </tr>\n",
       "    <tr>\n",
       "      <th>P00004</th>\n",
       "      <td>0.000000</td>\n",
       "      <td>0.000000</td>\n",
       "      <td>0.0</td>\n",
       "      <td>0.000000</td>\n",
       "    </tr>\n",
       "    <tr>\n",
       "      <th>P00005</th>\n",
       "      <td>0.123985</td>\n",
       "      <td>0.458700</td>\n",
       "      <td>0.0</td>\n",
       "      <td>0.655634</td>\n",
       "    </tr>\n",
       "    <tr>\n",
       "      <th>P00006</th>\n",
       "      <td>0.123985</td>\n",
       "      <td>0.458700</td>\n",
       "      <td>0.0</td>\n",
       "      <td>0.655634</td>\n",
       "    </tr>\n",
       "    <tr>\n",
       "      <th>P00007</th>\n",
       "      <td>0.123985</td>\n",
       "      <td>0.458700</td>\n",
       "      <td>0.0</td>\n",
       "      <td>0.655634</td>\n",
       "    </tr>\n",
       "  </tbody>\n",
       "</table>\n",
       "</div>"
      ],
      "text/plain": [
       "          U00000    U00001  U00002    U00003\n",
       "P00000  0.086744  0.320919     0.0  0.458700\n",
       "P00001  0.110190  0.407663     0.0  0.582685\n",
       "P00002  0.000000  0.000000     0.0  0.000000\n",
       "P00003  0.210729  0.779619     0.0  1.114334\n",
       "P00004  0.000000  0.000000     0.0  0.000000\n",
       "P00005  0.123985  0.458700     0.0  0.655634\n",
       "P00006  0.123985  0.458700     0.0  0.655634\n",
       "P00007  0.123985  0.458700     0.0  0.655634"
      ]
     },
     "execution_count": 120,
     "metadata": {},
     "output_type": "execute_result"
    }
   ],
   "source": [
    "data = np.multiply(Abilties, Difficulties) * scale\n",
    "recBm = pd.DataFrame(data, columns=bm.columns, index=bm.index)\n",
    "recBm"
   ]
  },
  {
   "cell_type": "code",
   "execution_count": 121,
   "metadata": {
    "collapsed": false
   },
   "outputs": [
    {
     "data": {
      "text/html": [
       "<div>\n",
       "<table border=\"1\" class=\"dataframe\">\n",
       "  <thead>\n",
       "    <tr style=\"text-align: right;\">\n",
       "      <th></th>\n",
       "      <th>U00000</th>\n",
       "      <th>U00001</th>\n",
       "      <th>U00002</th>\n",
       "      <th>U00003</th>\n",
       "    </tr>\n",
       "  </thead>\n",
       "  <tbody>\n",
       "    <tr>\n",
       "      <th>P00000</th>\n",
       "      <td>0</td>\n",
       "      <td>1</td>\n",
       "      <td>0</td>\n",
       "      <td>0</td>\n",
       "    </tr>\n",
       "    <tr>\n",
       "      <th>P00001</th>\n",
       "      <td>1</td>\n",
       "      <td>1</td>\n",
       "      <td>0</td>\n",
       "      <td>0</td>\n",
       "    </tr>\n",
       "    <tr>\n",
       "      <th>P00002</th>\n",
       "      <td>0</td>\n",
       "      <td>0</td>\n",
       "      <td>1</td>\n",
       "      <td>0</td>\n",
       "    </tr>\n",
       "    <tr>\n",
       "      <th>P00003</th>\n",
       "      <td>0</td>\n",
       "      <td>1</td>\n",
       "      <td>0</td>\n",
       "      <td>1</td>\n",
       "    </tr>\n",
       "    <tr>\n",
       "      <th>P00004</th>\n",
       "      <td>0</td>\n",
       "      <td>0</td>\n",
       "      <td>1</td>\n",
       "      <td>0</td>\n",
       "    </tr>\n",
       "    <tr>\n",
       "      <th>P00005</th>\n",
       "      <td>0</td>\n",
       "      <td>0</td>\n",
       "      <td>0</td>\n",
       "      <td>1</td>\n",
       "    </tr>\n",
       "    <tr>\n",
       "      <th>P00006</th>\n",
       "      <td>0</td>\n",
       "      <td>0</td>\n",
       "      <td>0</td>\n",
       "      <td>1</td>\n",
       "    </tr>\n",
       "    <tr>\n",
       "      <th>P00007</th>\n",
       "      <td>0</td>\n",
       "      <td>0</td>\n",
       "      <td>0</td>\n",
       "      <td>1</td>\n",
       "    </tr>\n",
       "  </tbody>\n",
       "</table>\n",
       "</div>"
      ],
      "text/plain": [
       "        U00000  U00001  U00002  U00003\n",
       "P00000       0       1       0       0\n",
       "P00001       1       1       0       0\n",
       "P00002       0       0       1       0\n",
       "P00003       0       1       0       1\n",
       "P00004       0       0       1       0\n",
       "P00005       0       0       0       1\n",
       "P00006       0       0       0       1\n",
       "P00007       0       0       0       1"
      ]
     },
     "execution_count": 121,
     "metadata": {},
     "output_type": "execute_result"
    }
   ],
   "source": [
    "bm"
   ]
  },
  {
   "cell_type": "code",
   "execution_count": 158,
   "metadata": {
    "collapsed": false
   },
   "outputs": [],
   "source": [
    "def rond(x):\n",
    "    treshold=0.5\n",
    "    return x>treshold\n",
    "    # return int(x>treshold)"
   ]
  },
  {
   "cell_type": "code",
   "execution_count": 168,
   "metadata": {
    "collapsed": false
   },
   "outputs": [
    {
     "data": {
      "text/html": [
       "<div>\n",
       "<table border=\"1\" class=\"dataframe\">\n",
       "  <thead>\n",
       "    <tr style=\"text-align: right;\">\n",
       "      <th></th>\n",
       "      <th>U00000</th>\n",
       "      <th>U00001</th>\n",
       "      <th>U00002</th>\n",
       "      <th>U00003</th>\n",
       "    </tr>\n",
       "  </thead>\n",
       "  <tbody>\n",
       "    <tr>\n",
       "      <th>P00000</th>\n",
       "      <td>0</td>\n",
       "      <td>0</td>\n",
       "      <td>0</td>\n",
       "      <td>0</td>\n",
       "    </tr>\n",
       "    <tr>\n",
       "      <th>P00001</th>\n",
       "      <td>0</td>\n",
       "      <td>0</td>\n",
       "      <td>0</td>\n",
       "      <td>1</td>\n",
       "    </tr>\n",
       "    <tr>\n",
       "      <th>P00002</th>\n",
       "      <td>0</td>\n",
       "      <td>0</td>\n",
       "      <td>0</td>\n",
       "      <td>0</td>\n",
       "    </tr>\n",
       "    <tr>\n",
       "      <th>P00003</th>\n",
       "      <td>0</td>\n",
       "      <td>1</td>\n",
       "      <td>0</td>\n",
       "      <td>1</td>\n",
       "    </tr>\n",
       "    <tr>\n",
       "      <th>P00004</th>\n",
       "      <td>0</td>\n",
       "      <td>0</td>\n",
       "      <td>0</td>\n",
       "      <td>0</td>\n",
       "    </tr>\n",
       "    <tr>\n",
       "      <th>P00005</th>\n",
       "      <td>0</td>\n",
       "      <td>0</td>\n",
       "      <td>0</td>\n",
       "      <td>1</td>\n",
       "    </tr>\n",
       "    <tr>\n",
       "      <th>P00006</th>\n",
       "      <td>0</td>\n",
       "      <td>0</td>\n",
       "      <td>0</td>\n",
       "      <td>1</td>\n",
       "    </tr>\n",
       "    <tr>\n",
       "      <th>P00007</th>\n",
       "      <td>0</td>\n",
       "      <td>0</td>\n",
       "      <td>0</td>\n",
       "      <td>1</td>\n",
       "    </tr>\n",
       "  </tbody>\n",
       "</table>\n",
       "</div>"
      ],
      "text/plain": [
       "        U00000  U00001  U00002  U00003\n",
       "P00000       0       0       0       0\n",
       "P00001       0       0       0       1\n",
       "P00002       0       0       0       0\n",
       "P00003       0       1       0       1\n",
       "P00004       0       0       0       0\n",
       "P00005       0       0       0       1\n",
       "P00006       0       0       0       1\n",
       "P00007       0       0       0       1"
      ]
     },
     "execution_count": 168,
     "metadata": {},
     "output_type": "execute_result"
    }
   ],
   "source": [
    "recBm.apply(rond).astype(int)"
   ]
  },
  {
   "cell_type": "code",
   "execution_count": 169,
   "metadata": {
    "collapsed": false
   },
   "outputs": [
    {
     "data": {
      "text/html": [
       "<div>\n",
       "<table border=\"1\" class=\"dataframe\">\n",
       "  <thead>\n",
       "    <tr style=\"text-align: right;\">\n",
       "      <th></th>\n",
       "      <th>U00000</th>\n",
       "      <th>U00001</th>\n",
       "      <th>U00002</th>\n",
       "      <th>U00003</th>\n",
       "    </tr>\n",
       "  </thead>\n",
       "  <tbody>\n",
       "    <tr>\n",
       "      <th>P00000</th>\n",
       "      <td>0</td>\n",
       "      <td>1</td>\n",
       "      <td>0</td>\n",
       "      <td>0</td>\n",
       "    </tr>\n",
       "    <tr>\n",
       "      <th>P00001</th>\n",
       "      <td>1</td>\n",
       "      <td>1</td>\n",
       "      <td>0</td>\n",
       "      <td>0</td>\n",
       "    </tr>\n",
       "    <tr>\n",
       "      <th>P00002</th>\n",
       "      <td>0</td>\n",
       "      <td>0</td>\n",
       "      <td>1</td>\n",
       "      <td>0</td>\n",
       "    </tr>\n",
       "    <tr>\n",
       "      <th>P00003</th>\n",
       "      <td>0</td>\n",
       "      <td>1</td>\n",
       "      <td>0</td>\n",
       "      <td>1</td>\n",
       "    </tr>\n",
       "    <tr>\n",
       "      <th>P00004</th>\n",
       "      <td>0</td>\n",
       "      <td>0</td>\n",
       "      <td>1</td>\n",
       "      <td>0</td>\n",
       "    </tr>\n",
       "    <tr>\n",
       "      <th>P00005</th>\n",
       "      <td>0</td>\n",
       "      <td>0</td>\n",
       "      <td>0</td>\n",
       "      <td>1</td>\n",
       "    </tr>\n",
       "    <tr>\n",
       "      <th>P00006</th>\n",
       "      <td>0</td>\n",
       "      <td>0</td>\n",
       "      <td>0</td>\n",
       "      <td>1</td>\n",
       "    </tr>\n",
       "    <tr>\n",
       "      <th>P00007</th>\n",
       "      <td>0</td>\n",
       "      <td>0</td>\n",
       "      <td>0</td>\n",
       "      <td>1</td>\n",
       "    </tr>\n",
       "  </tbody>\n",
       "</table>\n",
       "</div>"
      ],
      "text/plain": [
       "        U00000  U00001  U00002  U00003\n",
       "P00000       0       1       0       0\n",
       "P00001       1       1       0       0\n",
       "P00002       0       0       1       0\n",
       "P00003       0       1       0       1\n",
       "P00004       0       0       1       0\n",
       "P00005       0       0       0       1\n",
       "P00006       0       0       0       1\n",
       "P00007       0       0       0       1"
      ]
     },
     "execution_count": 169,
     "metadata": {},
     "output_type": "execute_result"
    }
   ],
   "source": [
    "bm"
   ]
  },
  {
   "cell_type": "code",
   "execution_count": null,
   "metadata": {
    "collapsed": false
   },
   "outputs": [],
   "source": []
  },
  {
   "cell_type": "code",
   "execution_count": null,
   "metadata": {
    "collapsed": true
   },
   "outputs": [],
   "source": []
  },
  {
   "cell_type": "code",
   "execution_count": null,
   "metadata": {
    "collapsed": true
   },
   "outputs": [],
   "source": []
  }
 ],
 "metadata": {
  "kernelspec": {
   "display_name": "Python 2",
   "language": "python",
   "name": "python2"
  },
  "language_info": {
   "codemirror_mode": {
    "name": "ipython",
    "version": 2
   },
   "file_extension": ".py",
   "mimetype": "text/x-python",
   "name": "python",
   "nbconvert_exporter": "python",
   "pygments_lexer": "ipython2",
   "version": "2.7.11"
  }
 },
 "nbformat": 4,
 "nbformat_minor": 0
}
