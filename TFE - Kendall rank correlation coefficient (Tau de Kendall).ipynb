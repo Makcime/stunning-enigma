{
 "cells": [
  {
   "cell_type": "markdown",
   "metadata": {},
   "source": [
    "Source : [Kendall rank correlation coefficient](https://en.wikipedia.org/wiki/Kendall_rank_correlation_coefficient)"
   ]
  },
  {
   "cell_type": "markdown",
   "metadata": {},
   "source": [
    "\"Tau coefficient\" redirects here. It is not to be confused with Tau distribution.\n",
    "\n",
    "In statistics, the Kendall rank correlation coefficient, commonly referred to as Kendall's tau coefficient (after the Greek letter τ), is a statistic used to measure the ordinal association between two measured quantities. A tau test is a non-parametric hypothesis test for statistical dependence based on the tau coefficient.\n",
    "\n",
    "It is a measure of rank correlation: the similarity of the orderings of the data when ranked by each of the quantities. It is named after Maurice Kendall, who developed it in 1938,[1] though Gustav Fechner had proposed a similar measure in the context of time series in 1897.[2]"
   ]
  },
  {
   "cell_type": "markdown",
   "metadata": {},
   "source": [
    "## Mathematic definition\n",
    "\n",
    "Source : [Kendall rank correlation coefficient](https://en.wikipedia.org/wiki/Kendall_rank_correlation_coefficient)\n",
    "\n",
    "Let $(x1, y1)$, $(x2, y2)$, $…$, $(xn, yn)$ be a set of observations of the joint random variables $X$ and $Y$ respectively, such that all the values of $(x_i)$ and $(y_i)$ are unique. Any pair of observations $(x_i, y_i)$ and $(x_j, y_j)$, where $i \\not= j$, are said to be concordant if the ranks for both elements agree: that is, if both $x_i > x_j$ and $y_i > y_j$ or if both $x_i < x_j$ and $y_i < y_j$. They are said to be discordant, if $x_i > x_j$ and $y_i < y_j$ or if $x_i < x_j$ and $y_i > y_j$. If $x_i = x_j$ or $y_i = y_j$, the pair is neither concordant nor discordant.\n",
    "\n",
    "The Kendall τ coefficient is defined as:\n",
    "\n",
    "$\n",
    "    \\tau = \\frac{(\\text{number of concordant pairs}) - (\\text{number of discordant pairs})}{n (n-1) /2}\n",
    "$\n"
   ]
  },
  {
   "cell_type": "markdown",
   "metadata": {},
   "source": [
    "##  Implementation\n",
    "\n",
    "ScPy : [Kendall rank on Python](https://docs.scipy.org/doc/scipy/reference/generated/scipy.stats.mstats.kendalltau.html)\n",
    "\n",
    "### scipy.stats.mstats.kendalltau¶\n",
    "\n",
    "\n",
    "```python\n",
    "scipy.stats.mstats.kendalltau(x, y, use_ties=True, use_missing=False)\n",
    "```\n",
    "Computes Kendall’s rank correlation tau on two variables x and y.\n",
    "\n",
    "* Parameters:\t\n",
    "\n",
    "    * **x** : sequence\n",
    "\n",
    "        First data list (for example, time).\n",
    "\n",
    "    * **y** : sequence\n",
    "\n",
    "        Second data list.\n",
    "\n",
    "    * **use_ties** : {True, False}, optional\n",
    "\n",
    "        Whether ties correction should be performed.\n",
    "\n",
    "    * **use_missing** : {False, True}, optional\n",
    "\n",
    "        Whether missing data should be allocated a rank of 0 (False) or the average rank (True)\n",
    "\n",
    "* Returns:\t\n",
    "\n",
    "    * **correlation** : float\n",
    "\n",
    "        Kendall tau\n",
    "\n",
    "    * **pvalue** : float\n",
    "\n",
    "        Approximate 2-side p-value.\n"
   ]
  },
  {
   "cell_type": "markdown",
   "metadata": {},
   "source": [
    "# Kendall tau distance\n",
    "\n",
    "wiki : [Kendall tau distance](https://en.wikipedia.org/wiki/Kendall_tau_distance)\n",
    "\n",
    "The Kendall tau rank distance is a metric that counts the number of pairwise disagreements between two ranking lists. The larger the distance, the more dissimilar the two lists are. Kendall tau distance is also called **bubble-sort distance** since it is equivalent to the number of swaps that the bubble sort algorithm would make to place one list in the same order as the other list. The Kendall tau distance was created by Maurice Kendall.\n",
    "\n",
    "## Definition\n",
    "\n",
    "The Kendall tau ranking distance between two lists $L1$ and $L2$ is\n",
    "\n",
    "$\n",
    "    K(\\tau_1,\\tau_2) = |\\{(i,j): i < j, ( \\tau_1(i) < \\tau_1(j) \\wedge \\tau_2(i) > \\tau_2(j) ) \\vee ( \\tau_1(i) > \\tau_1(j) \\wedge \\tau_2(i) < \\tau_2(j) )\\}|.\n",
    "$\n",
    "\n",
    "where \n",
    "\n",
    "\n",
    "$\\tau_1(i)$ and $\\tau_2(i)$ are the rankings of the element i in $L1$ and $L2$ respectively.\n",
    "\n",
    "\n",
    "$K(\\tau_1,\\tau_2)$ will be equal to $0$ if the two lists are identical and $n(n-1)/2$ (where $n$ is the list size) if one list is the reverse of the other. Often Kendall tau distance is normalized by dividing by $n(n-1)/2$ so a value of 1 indicates maximum disagreement. The normalized Kendall tau distance therefore lies in the interval [0,1].\n",
    "\n",
    "Kendall tau distance may also be defined as\n",
    "$\n",
    "    K(\\tau_1,\\tau_2) = \\begin{matrix} \\sum_{\\{i,j\\}\\in P} \\bar{K}_{i,j}(\\tau_1,\\tau_2) \\end{matrix} \n",
    "$\n",
    "\n",
    "where\n",
    "\n",
    "* $P$ is the set of unordered pairs of distinct elements in $\\tau_1$ and $\\tau_2$\n",
    "* $\\bar{K}_{i,j}(\\tau_1,\\tau_2) = 0$ if $i$ and $j$ are in the same order in $\\tau_1$ and $\\tau_2$\n",
    "* $\\bar{K}_{i,j}(\\tau_1,\\tau_2) = 1$ if $i$ and $j$ are in the opposite order in $\\tau_1$ and $\\tau_2$.\n",
    "\n",
    "Kendall tau distance can also be defined as the total number of discordant pairs.\n",
    "\n",
    "Kendall tau distance in Rankings: A permutation (or ranking) is an array of $N$ integers where each of the integers between 0 and $N-1$ appears exactly once. The Kendall tau distance between two rankings is the number of pairs that are in different order in the two rankings. For example, the Kendall tau distance between [0 3 1 6 2 5 4] and [1 0 3 6 4 2 5] is four because the pairs [0-1], [3-1], [2-4], [5-4] are in different order in the two rankings, but all other pairs are in the same order.\n",
    "\n",
    "If Kendall tau function is performed as $K(L1,L2)$ instead of $K(\\tau_1,\\tau_2)$ (where $\\tau_1$ and $\\tau_2$ are the rankings of $L1$ and $L2$ elements respectively), then triangular inequality is not guaranteed. The triangular inequality fail in cases where there are repetitions in the lists. So then we are not any more dealing with a metric."
   ]
  },
  {
   "cell_type": "code",
   "execution_count": 1,
   "metadata": {
    "collapsed": true
   },
   "outputs": [],
   "source": [
    "%matplotlib inline\n",
    "%matplotlib notebook\n",
    "\n",
    "import pandas as pd\n",
    "import numpy as np\n",
    "import matplotlib.pyplot as plt\n",
    "plt.style.use('ggplot')\n",
    "\n",
    "from analyser import *\n",
    "\n",
    "con = psycopg2.connect(\"dbname=test1\")"
   ]
  },
  {
   "cell_type": "markdown",
   "metadata": {},
   "source": [
    "# Example\n",
    "\n",
    "Suppose we rank a group of five people by height and by weight:"
   ]
  },
  {
   "cell_type": "code",
   "execution_count": 9,
   "metadata": {
    "collapsed": false
   },
   "outputs": [
    {
     "data": {
      "text/html": [
       "<div>\n",
       "<table border=\"1\" class=\"dataframe\">\n",
       "  <thead>\n",
       "    <tr style=\"text-align: right;\">\n",
       "      <th></th>\n",
       "      <th>A</th>\n",
       "      <th>B</th>\n",
       "      <th>C</th>\n",
       "      <th>D</th>\n",
       "      <th>E</th>\n",
       "    </tr>\n",
       "  </thead>\n",
       "  <tbody>\n",
       "    <tr>\n",
       "      <th>RankbyHeight</th>\n",
       "      <td>1</td>\n",
       "      <td>2</td>\n",
       "      <td>3</td>\n",
       "      <td>4</td>\n",
       "      <td>5</td>\n",
       "    </tr>\n",
       "    <tr>\n",
       "      <th>RankbyWeight</th>\n",
       "      <td>3</td>\n",
       "      <td>4</td>\n",
       "      <td>1</td>\n",
       "      <td>2</td>\n",
       "      <td>5</td>\n",
       "    </tr>\n",
       "  </tbody>\n",
       "</table>\n",
       "</div>"
      ],
      "text/plain": [
       "              A  B  C  D  E\n",
       "RankbyHeight  1  2  3  4  5\n",
       "RankbyWeight  3  4  1  2  5"
      ]
     },
     "execution_count": 9,
     "metadata": {},
     "output_type": "execute_result"
    }
   ],
   "source": [
    "# Example\n",
    "persons = [\"A\",\"B\",\"C\",\"D\",\"E\"]\n",
    "data = [[1,2,3,4,5],\n",
    "        [3,4,1,2,5]]\n",
    "\n",
    "idx = [\"RankbyHeight\", \"RankbyWeight\"]\n",
    "\n",
    "df = pd.DataFrame(data, index=idx, columns=persons)\n",
    "df"
   ]
  },
  {
   "cell_type": "markdown",
   "metadata": {},
   "source": [
    "Here person A is tallest and third-heaviest, and so on.\n",
    "\n",
    "In order to calculate the Kendall tau distance, pair each person with every other person and count the number of times the values in list 1 are in the opposite order of the values in list 2."
   ]
  },
  {
   "cell_type": "code",
   "execution_count": 12,
   "metadata": {
    "collapsed": true
   },
   "outputs": [],
   "source": [
    "cols = [\"Pair\",\"Height\",\"Weight\",\"Count\"]\n",
    "\n",
    "data = [[\"(A,B)\",\"1 < 2\",\"3 < 4\",\"\"],\n",
    "        [\"(A,C)\",\"1 < 3\",\"3 > 1\",\"X\"],\n",
    "        [\"(A,D)\",\"1 < 4\",\"3 > 2\",\"X\"],\n",
    "        [\"(A,E)\",\"1 < 5\",\"3 < 5\",\"\"],\n",
    "        [\"(B,C)\",\"2 < 3\",\"4 > 1\",\"X\"],\n",
    "        [\"(B,D)\",\"2 < 4\",\"4 > 2\",\"X\"],\n",
    "        [\"(B,E)\",\"2 < 5\",\"4 < 5\",\"\"],\n",
    "        [\"(C,D)\",\"3 < 4\",\"1 < 2\",\"\"],\n",
    "        [\"(C,E)\",\"3 < 5\",\"1 < 5\",\"\"],\n",
    "        [\"(D,E)\",\"4 < 5\",\"2 < 5\",\"\"],]\n",
    "\n",
    "df2 = pd.DataFrame(data, columns=cols)"
   ]
  },
  {
   "cell_type": "code",
   "execution_count": 13,
   "metadata": {
    "collapsed": false
   },
   "outputs": [
    {
     "data": {
      "text/html": [
       "<div>\n",
       "<table border=\"1\" class=\"dataframe\">\n",
       "  <thead>\n",
       "    <tr style=\"text-align: right;\">\n",
       "      <th></th>\n",
       "      <th>Pair</th>\n",
       "      <th>Height</th>\n",
       "      <th>Weight</th>\n",
       "      <th>Count</th>\n",
       "    </tr>\n",
       "  </thead>\n",
       "  <tbody>\n",
       "    <tr>\n",
       "      <th>0</th>\n",
       "      <td>(A,B)</td>\n",
       "      <td>1 &lt; 2</td>\n",
       "      <td>3 &lt; 4</td>\n",
       "      <td></td>\n",
       "    </tr>\n",
       "    <tr>\n",
       "      <th>1</th>\n",
       "      <td>(A,C)</td>\n",
       "      <td>1 &lt; 3</td>\n",
       "      <td>3 &gt; 1</td>\n",
       "      <td>X</td>\n",
       "    </tr>\n",
       "    <tr>\n",
       "      <th>2</th>\n",
       "      <td>(A,D)</td>\n",
       "      <td>1 &lt; 4</td>\n",
       "      <td>3 &gt; 2</td>\n",
       "      <td>X</td>\n",
       "    </tr>\n",
       "    <tr>\n",
       "      <th>3</th>\n",
       "      <td>(A,E)</td>\n",
       "      <td>1 &lt; 5</td>\n",
       "      <td>3 &lt; 5</td>\n",
       "      <td></td>\n",
       "    </tr>\n",
       "    <tr>\n",
       "      <th>4</th>\n",
       "      <td>(B,C)</td>\n",
       "      <td>2 &lt; 3</td>\n",
       "      <td>4 &gt; 1</td>\n",
       "      <td>X</td>\n",
       "    </tr>\n",
       "    <tr>\n",
       "      <th>5</th>\n",
       "      <td>(B,D)</td>\n",
       "      <td>2 &lt; 4</td>\n",
       "      <td>4 &gt; 2</td>\n",
       "      <td>X</td>\n",
       "    </tr>\n",
       "    <tr>\n",
       "      <th>6</th>\n",
       "      <td>(B,E)</td>\n",
       "      <td>2 &lt; 5</td>\n",
       "      <td>4 &lt; 5</td>\n",
       "      <td></td>\n",
       "    </tr>\n",
       "    <tr>\n",
       "      <th>7</th>\n",
       "      <td>(C,D)</td>\n",
       "      <td>3 &lt; 4</td>\n",
       "      <td>1 &lt; 2</td>\n",
       "      <td></td>\n",
       "    </tr>\n",
       "    <tr>\n",
       "      <th>8</th>\n",
       "      <td>(C,E)</td>\n",
       "      <td>3 &lt; 5</td>\n",
       "      <td>1 &lt; 5</td>\n",
       "      <td></td>\n",
       "    </tr>\n",
       "    <tr>\n",
       "      <th>9</th>\n",
       "      <td>(D,E)</td>\n",
       "      <td>4 &lt; 5</td>\n",
       "      <td>2 &lt; 5</td>\n",
       "      <td></td>\n",
       "    </tr>\n",
       "  </tbody>\n",
       "</table>\n",
       "</div>"
      ],
      "text/plain": [
       "    Pair Height Weight Count\n",
       "0  (A,B)  1 < 2  3 < 4      \n",
       "1  (A,C)  1 < 3  3 > 1     X\n",
       "2  (A,D)  1 < 4  3 > 2     X\n",
       "3  (A,E)  1 < 5  3 < 5      \n",
       "4  (B,C)  2 < 3  4 > 1     X\n",
       "5  (B,D)  2 < 4  4 > 2     X\n",
       "6  (B,E)  2 < 5  4 < 5      \n",
       "7  (C,D)  3 < 4  1 < 2      \n",
       "8  (C,E)  3 < 5  1 < 5      \n",
       "9  (D,E)  4 < 5  2 < 5      "
      ]
     },
     "execution_count": 13,
     "metadata": {},
     "output_type": "execute_result"
    }
   ],
   "source": [
    "df2"
   ]
  },
  {
   "cell_type": "markdown",
   "metadata": {},
   "source": [
    "Since there are 4 pairs whose values are in opposite order, the Kendall tau distance is 4. The normalized Kendall tau distance is\n",
    "\n",
    "$\n",
    "    \\frac{4}{5(5 - 1)/2} = 0.4\n",
    "$\n",
    "\n",
    "A value of $0.4$ indicates that $40\\%$ of pairs differ in ordering between the two lists."
   ]
  },
  {
   "cell_type": "code",
   "execution_count": 109,
   "metadata": {
    "collapsed": false
   },
   "outputs": [],
   "source": [
    "from scipy.stats.mstats import kendalltau"
   ]
  },
  {
   "cell_type": "code",
   "execution_count": 110,
   "metadata": {
    "collapsed": false
   },
   "outputs": [
    {
     "data": {
      "text/plain": [
       "KendalltauResult(correlation=0.20000000000000001, pvalue=0.62420611476640597)"
      ]
     },
     "execution_count": 110,
     "metadata": {},
     "output_type": "execute_result"
    }
   ],
   "source": [
    "kendalltau(df.T.RankbyHeight, df.T.RankbyWeight)"
   ]
  },
  {
   "cell_type": "code",
   "execution_count": 111,
   "metadata": {
    "collapsed": false
   },
   "outputs": [
    {
     "data": {
      "text/plain": [
       "KendalltauResult(correlation=0.20000000000000001, pvalue=0.62420611476640597)"
      ]
     },
     "execution_count": 111,
     "metadata": {},
     "output_type": "execute_result"
    }
   ],
   "source": [
    "kendalltau(df.T.RankbyHeight, df.T.RankbyWeight, use_ties=False)"
   ]
  },
  {
   "cell_type": "code",
   "execution_count": 112,
   "metadata": {
    "collapsed": false
   },
   "outputs": [
    {
     "data": {
      "text/plain": [
       "KendalltauResult(correlation=0.20000000000000001, pvalue=0.62420611476640597)"
      ]
     },
     "execution_count": 112,
     "metadata": {},
     "output_type": "execute_result"
    }
   ],
   "source": [
    "kendalltau(df.T.RankbyWeight, df.T.RankbyHeight)"
   ]
  },
  {
   "cell_type": "code",
   "execution_count": 113,
   "metadata": {
    "collapsed": false
   },
   "outputs": [
    {
     "data": {
      "text/plain": [
       "A    False\n",
       "B    False\n",
       "C     True\n",
       "D     True\n",
       "E    False\n",
       "dtype: bool"
      ]
     },
     "execution_count": 113,
     "metadata": {},
     "output_type": "execute_result"
    }
   ],
   "source": [
    "s = df.T.RankbyHeight > df.T.RankbyWeight\n",
    "s"
   ]
  },
  {
   "cell_type": "code",
   "execution_count": 114,
   "metadata": {
    "collapsed": false
   },
   "outputs": [],
   "source": [
    "a = s.sum()\n",
    "n = s.size"
   ]
  },
  {
   "cell_type": "code",
   "execution_count": 115,
   "metadata": {
    "collapsed": false
   },
   "outputs": [
    {
     "data": {
      "text/plain": [
       "0.2"
      ]
     },
     "execution_count": 115,
     "metadata": {},
     "output_type": "execute_result"
    }
   ],
   "source": [
    "float(a) / (n*(n-1) / 2)"
   ]
  },
  {
   "cell_type": "code",
   "execution_count": 116,
   "metadata": {
    "collapsed": false
   },
   "outputs": [
    {
     "data": {
      "text/plain": [
       "[('A', 'A'), ('B', 'B'), ('C', 'C'), ('D', 'D'), ('E', 'E')]"
      ]
     },
     "execution_count": 116,
     "metadata": {},
     "output_type": "execute_result"
    }
   ],
   "source": [
    "zip(persons, persons)"
   ]
  },
  {
   "cell_type": "code",
   "execution_count": 64,
   "metadata": {
    "collapsed": false
   },
   "outputs": [],
   "source": [
    "from itertools import combinations\n",
    "l = [i for i in combinations(persons, 2)]"
   ]
  },
  {
   "cell_type": "code",
   "execution_count": 66,
   "metadata": {
    "collapsed": false
   },
   "outputs": [
    {
     "data": {
      "text/html": [
       "<div>\n",
       "<table border=\"1\" class=\"dataframe\">\n",
       "  <thead>\n",
       "    <tr style=\"text-align: right;\">\n",
       "      <th></th>\n",
       "      <th>A</th>\n",
       "      <th>B</th>\n",
       "      <th>C</th>\n",
       "      <th>D</th>\n",
       "      <th>E</th>\n",
       "    </tr>\n",
       "  </thead>\n",
       "  <tbody>\n",
       "    <tr>\n",
       "      <th>RankbyHeight</th>\n",
       "      <td>1</td>\n",
       "      <td>2</td>\n",
       "      <td>3</td>\n",
       "      <td>4</td>\n",
       "      <td>5</td>\n",
       "    </tr>\n",
       "    <tr>\n",
       "      <th>RankbyWeight</th>\n",
       "      <td>3</td>\n",
       "      <td>4</td>\n",
       "      <td>1</td>\n",
       "      <td>2</td>\n",
       "      <td>5</td>\n",
       "    </tr>\n",
       "  </tbody>\n",
       "</table>\n",
       "</div>"
      ],
      "text/plain": [
       "              A  B  C  D  E\n",
       "RankbyHeight  1  2  3  4  5\n",
       "RankbyWeight  3  4  1  2  5"
      ]
     },
     "execution_count": 66,
     "metadata": {},
     "output_type": "execute_result"
    }
   ],
   "source": [
    "df"
   ]
  },
  {
   "cell_type": "code",
   "execution_count": 122,
   "metadata": {
    "collapsed": false
   },
   "outputs": [
    {
     "data": {
      "text/html": [
       "<div>\n",
       "<table border=\"1\" class=\"dataframe\">\n",
       "  <thead>\n",
       "    <tr style=\"text-align: right;\">\n",
       "      <th></th>\n",
       "      <th>RankbyHeight</th>\n",
       "      <th>RankbyWeight</th>\n",
       "      <th>Pairs</th>\n",
       "    </tr>\n",
       "  </thead>\n",
       "  <tbody>\n",
       "    <tr>\n",
       "      <th>0</th>\n",
       "      <td>True</td>\n",
       "      <td>True</td>\n",
       "      <td>(A, B)</td>\n",
       "    </tr>\n",
       "    <tr>\n",
       "      <th>1</th>\n",
       "      <td>True</td>\n",
       "      <td>False</td>\n",
       "      <td>(A, C)</td>\n",
       "    </tr>\n",
       "    <tr>\n",
       "      <th>2</th>\n",
       "      <td>True</td>\n",
       "      <td>False</td>\n",
       "      <td>(A, D)</td>\n",
       "    </tr>\n",
       "    <tr>\n",
       "      <th>3</th>\n",
       "      <td>True</td>\n",
       "      <td>True</td>\n",
       "      <td>(A, E)</td>\n",
       "    </tr>\n",
       "    <tr>\n",
       "      <th>4</th>\n",
       "      <td>True</td>\n",
       "      <td>False</td>\n",
       "      <td>(B, C)</td>\n",
       "    </tr>\n",
       "    <tr>\n",
       "      <th>5</th>\n",
       "      <td>True</td>\n",
       "      <td>False</td>\n",
       "      <td>(B, D)</td>\n",
       "    </tr>\n",
       "    <tr>\n",
       "      <th>6</th>\n",
       "      <td>True</td>\n",
       "      <td>True</td>\n",
       "      <td>(B, E)</td>\n",
       "    </tr>\n",
       "    <tr>\n",
       "      <th>7</th>\n",
       "      <td>True</td>\n",
       "      <td>True</td>\n",
       "      <td>(C, D)</td>\n",
       "    </tr>\n",
       "    <tr>\n",
       "      <th>8</th>\n",
       "      <td>True</td>\n",
       "      <td>True</td>\n",
       "      <td>(C, E)</td>\n",
       "    </tr>\n",
       "    <tr>\n",
       "      <th>9</th>\n",
       "      <td>True</td>\n",
       "      <td>True</td>\n",
       "      <td>(D, E)</td>\n",
       "    </tr>\n",
       "  </tbody>\n",
       "</table>\n",
       "</div>"
      ],
      "text/plain": [
       "  RankbyHeight RankbyWeight   Pairs\n",
       "0         True         True  (A, B)\n",
       "1         True        False  (A, C)\n",
       "2         True        False  (A, D)\n",
       "3         True         True  (A, E)\n",
       "4         True        False  (B, C)\n",
       "5         True        False  (B, D)\n",
       "6         True         True  (B, E)\n",
       "7         True         True  (C, D)\n",
       "8         True         True  (C, E)\n",
       "9         True         True  (D, E)"
      ]
     },
     "execution_count": 122,
     "metadata": {},
     "output_type": "execute_result"
    }
   ],
   "source": [
    "comp = [df[a] < df[b] for a,b in l]\n",
    "test = pd.DataFrame(comp)\n",
    "res = test.join(pd.Series(l, name=\"Pairs\"))\n",
    "res"
   ]
  },
  {
   "cell_type": "code",
   "execution_count": 119,
   "metadata": {
    "collapsed": false
   },
   "outputs": [
    {
     "data": {
      "text/plain": [
       "0    False\n",
       "1     True\n",
       "2     True\n",
       "3    False\n",
       "4     True\n",
       "5     True\n",
       "6    False\n",
       "7    False\n",
       "8    False\n",
       "9    False\n",
       "dtype: bool"
      ]
     },
     "execution_count": 119,
     "metadata": {},
     "output_type": "execute_result"
    }
   ],
   "source": [
    "s = res.RankbyHeight != res.RankbyWeight\n",
    "s"
   ]
  },
  {
   "cell_type": "code",
   "execution_count": 120,
   "metadata": {
    "collapsed": false
   },
   "outputs": [
    {
     "data": {
      "text/plain": [
       "0.4"
      ]
     },
     "execution_count": 120,
     "metadata": {},
     "output_type": "execute_result"
    }
   ],
   "source": [
    "a = s.sum()\n",
    "n = df.columns.size\n",
    "float(a) / (n*(n-1) / 2)"
   ]
  },
  {
   "cell_type": "code",
   "execution_count": 125,
   "metadata": {
    "collapsed": false
   },
   "outputs": [
    {
     "data": {
      "text/plain": [
       "{'chi2 total': 0.0,\n",
       " 'chi2 trend': 0.0,\n",
       " 'global p-value (dep)': nan,\n",
       " 'global p-value (indep)': 1.0,\n",
       " 'global tau': 0.0,\n",
       " 'global tau (alt)': 0.0,\n",
       " 'seasonal p-value': masked_array(data = [1.0 1.0 1.0 1.0 --],\n",
       "              mask = [False False False False  True],\n",
       "        fill_value = 1e+20),\n",
       " 'seasonal tau': masked_array(data = [1.0 1.0 -1.0 -1.0 --],\n",
       "              mask = [False False False False  True],\n",
       "        fill_value = 1e+20)}"
      ]
     },
     "execution_count": 125,
     "metadata": {},
     "output_type": "execute_result"
    }
   ],
   "source": [
    "from scipy.stats.mstats import kendalltau_seasonal\n",
    "kendalltau_seasonal(df)"
   ]
  },
  {
   "cell_type": "code",
   "execution_count": 129,
   "metadata": {
    "collapsed": false
   },
   "outputs": [
    {
     "data": {
      "text/plain": [
       "{'chi2 total': 0.0,\n",
       " 'chi2 trend': 0.0,\n",
       " 'global p-value (dep)': nan,\n",
       " 'global p-value (indep)': 1.0,\n",
       " 'global tau': 0.0,\n",
       " 'global tau (alt)': 0.0,\n",
       " 'seasonal p-value': masked_array(data = [1.0 1.0 1.0 1.0 --],\n",
       "              mask = [False False False False  True],\n",
       "        fill_value = 1e+20),\n",
       " 'seasonal tau': masked_array(data = [1.0 1.0 -1.0 -1.0 --],\n",
       "              mask = [False False False False  True],\n",
       "        fill_value = 1e+20)}"
      ]
     },
     "execution_count": 129,
     "metadata": {},
     "output_type": "execute_result"
    }
   ],
   "source": [
    "kendalltau_seasonal(df.values)"
   ]
  },
  {
   "cell_type": "code",
   "execution_count": null,
   "metadata": {
    "collapsed": true
   },
   "outputs": [],
   "source": []
  }
 ],
 "metadata": {
  "kernelspec": {
   "display_name": "Python 2",
   "language": "python",
   "name": "python2"
  },
  "language_info": {
   "codemirror_mode": {
    "name": "ipython",
    "version": 2
   },
   "file_extension": ".py",
   "mimetype": "text/x-python",
   "name": "python",
   "nbconvert_exporter": "python",
   "pygments_lexer": "ipython2",
   "version": "2.7.11"
  }
 },
 "nbformat": 4,
 "nbformat_minor": 0
}
