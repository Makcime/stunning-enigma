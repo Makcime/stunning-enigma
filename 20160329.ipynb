{
 "cells": [
  {
   "cell_type": "markdown",
   "metadata": {},
   "source": [
    "# scripts :\n",
    "1) tools for extractiong and converting data\n",
    "    \n",
    "    * manage db connections/request\n",
    "    * Should be able to\n",
    "        * extract a list **of users** regarding several args like\n",
    "            * a specific coures\n",
    "            * date in\n",
    "            * \n",
    "        * extract a list **of problems** regarding several args like\n",
    "            * a specific coures\n",
    "            * \n",
    "        * extract a list **of sublissons** regarding several args like\n",
    "            * ...\n",
    "            \n",
    "        "
   ]
  },
  {
   "cell_type": "markdown",
   "metadata": {},
   "source": [
    "The common thread of each analysis is the set of data needed. That means the global structure and also the information to extract from each entity.\n",
    "\n",
    "We always need to extract a dataframe of submissions in connections with a specific list of problems or(/and) a specific list of user. (Even if the analysis is proceeded to the whole database)\n",
    "\n",
    "From that dataset we can apply any kind of analysis.\n",
    "\n",
    "Let's define the process that need to be done. And the resulting datastructure. \n",
    "\n",
    "We will define classes for each entitu (submissions, problems and users) with serverals utils functions in it.\n",
    "w"
   ]
  },
  {
   "cell_type": "markdown",
   "metadata": {
    "collapsed": true
   },
   "source": []
  }
 ],
 "metadata": {
  "kernelspec": {
   "display_name": "Python 2",
   "language": "python",
   "name": "python2"
  },
  "language_info": {
   "codemirror_mode": {
    "name": "ipython",
    "version": 2
   },
   "file_extension": ".py",
   "mimetype": "text/x-python",
   "name": "python",
   "nbconvert_exporter": "python",
   "pygments_lexer": "ipython2",
   "version": "2.7.11"
  }
 },
 "nbformat": 4,
 "nbformat_minor": 0
}
